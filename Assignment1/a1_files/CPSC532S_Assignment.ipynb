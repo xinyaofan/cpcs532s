{
  "cells": [
    {
      "cell_type": "markdown",
      "metadata": {
        "id": "U2qDI9QbgO-d"
      },
      "source": [
        "# Topics in Artificial Intelligence (CPSC 532S)\n",
        "# Assignment 1: Intriduction to Deep Learning\n",
        "\n",
        "\n",
        "This assignment is inspired and adopted from the Deep Learning Lab from Vicente Ordonez's course on Language and Vision at the University of Virginia. The first two parts of this notebook are taken nearly verbatim from his lab. Section 1 is provided for you and implements a single-layer supervised neural network; no coding is required for Section 1. Section 2 and Section 3 are the ones where you need to code the solutions and provide answers to questions. Section 4 is designed to introduce you to PyTorch and, more importantly, introduce you to key debugging strategies when dealing with training of neural networks. \n",
        "\n",
        "# 1. Single-layer neural network\n",
        "This section provides simple implementation of the single-layer supervised neural network that has 4 inputs and 3 outputs. First, let's review the skeleton of a single linear layer neural network. The inputs of the network are the variables $x_1, x_2, x_3, x_4$, or the input vector $\\mathbf{x}=[x_1, x_2, x_3, x_4]$, the outputs of the network are $\\widehat{y}_1,\\widehat{y}_2,\\widehat{y}_3$, or the output vector $\\widehat{\\mathbf{y}}=[$$\\widehat{y}$$_1,\\widehat{y}_2,\\widehat{y}_3]$:\n",
        "\n",
        "<br>\n",
        "<center>\n",
        "<img src=\"http://www.cs.ubc.ca/~lsigal/532S_2022W1/Assignment1/1_layer_net.png\" width=\"450\">\n",
        "</center>\n",
        "<br>\n",
        "\n",
        "The given $j$-th output $\\widehat{y}_j$ of this single linear layer + activation function is computed as follows:\n",
        "\n",
        "$$\\widehat{y}_j= \\text{sigmoid}(w_{1j}x_1 + w_{2j}x_2 + w_{3j}x_3 + w_{4j}x_4 + b_j) = \\text{sigmoid}\\Big(\\sum_{i=1}^{i=4}w_{ij}x_{i} + b_j\\Big)$$\n",
        "\n",
        "In matrix notation, this would be: \n",
        "\n",
        "\\begin{equation}\n",
        "\\begin{bmatrix}\n",
        "  \\widehat{y}_{1} \\\\ \n",
        "  \\widehat{y}_{2} \\\\\n",
        "  \\widehat{y}_{3} \n",
        "\\end{bmatrix}^T=\\mathbf{Sigmoid}\\Bigg(\n",
        "\\begin{bmatrix}\n",
        "  x_{1} \\\\\n",
        "  x_{2} \\\\\n",
        "  x_{3} \\\\\n",
        "  x_{4}\n",
        "\\end{bmatrix}^T\n",
        "\\begin{bmatrix}\n",
        "  w_{1,1} & w_{1,2} & w_{1,3}\\\\\n",
        "  w_{2,1} & w_{3,2} & w_{2,3}\\\\\n",
        "  w_{3,1} & w_{3,2} & w_{3,3}\\\\\n",
        "  w_{4,1} & w_{4,2} & w_{4,3}\n",
        "\\end{bmatrix}\n",
        "+\n",
        "\\begin{bmatrix}\n",
        "  b_{1} \\\\\n",
        "  b_{2} \\\\\n",
        "  b_{3}\n",
        "\\end{bmatrix}^T\\Bigg)\n",
        "\\end{equation}\n",
        "\n",
        "or more compactly:\n",
        "\n",
        "\\begin{equation}\n",
        "\\widehat{\\mathbf{y}}^T = \\mathbf{Sigmoid}(\\mathbf{x}^T \\cdot \\mathbf{W} + \\mathbf{b}^T)\n",
        "\\end{equation}\n",
        "\n",
        "The element-wise sigmoid function is: $\\mathbf{Sigmoid}(\\mathbf{x}) = 1 \\;/\\; (1 + exp(-\\mathbf{x}))$, or alternatively: $\\mathbf{Sigmoid}(\\mathbf{x}) = exp(\\mathbf{x})\\;/\\;(1 + exp(\\mathbf{x}))$. Here the sigmoid is separated logically into an activation layer $\\sigma(x)$ and a linear layer $\\text{linear}(3,4)$ as illustrated in figure. \n",
        "\n",
        "Training these weights $\\mathbf{W}$ and biases $\\mathbf{b}$ requires having many training pairs $(\\widehat{\\mathbf{y}}^{(m)}, \\mathbf{x}^{(m)})$. The inputs $\\mathbf{x}$ can be the pixels of an image, indices of words, the entries in a database, and the outputs $\\widehat{\\mathbf{y}}$ can also be literally anything, including a number indicating a category, a set of numbers indicating the indices of words composing a sentence, an output image itself, etc."
      ]
    },
    {
      "cell_type": "markdown",
      "metadata": {
        "id": "UVzTIH-FDFp2"
      },
      "source": [
        "## 1.1. Forward-propagation\n",
        "\n",
        "Computing the outputs $\\widehat{\\mathbf{y}}$ from the inputs $\\mathbf{x}$ in this network composed of a single linear layer, and a sigmoid layer, is called forward-propagation. Below is the code that implements these two operations:"
      ]
    },
    {
      "cell_type": "code",
      "execution_count": 63,
      "metadata": {
        "id": "q5oXYGAtgO-f",
        "outputId": "fff94757-4e3c-44f7-bd9e-77b36a6cf990"
      },
      "outputs": [
        {
          "name": "stdout",
          "output_type": "stream",
          "text": [
            "x[1] = [[1 2 2 3]]\n",
            "y_hat[1] = [[0.49894486 0.49985846 0.50063844]]\n",
            "\n",
            "x[2] = [[4 5 2 1]]\n",
            "y_hat[2] = [[0.50040023 0.50047278 0.50022478]]\n",
            "\n",
            "x = [[1 2 2 3]\n",
            " [4 5 2 1]]\n",
            "y_hat = [[0.50060156 0.50067753 0.49842138]\n",
            " [0.49851877 0.49959786 0.50095206]]\n"
          ]
        }
      ],
      "source": [
        "import numpy as np\n",
        "import numpy.matlib\n",
        "\n",
        "class nn_Sigmoid:\n",
        "    def forward(self, x):\n",
        "        return 1 / (1 + np.exp(-x))\n",
        "\n",
        "class nn_Linear:\n",
        "    def __init__(self, input_dim, output_dim):\n",
        "        # Initialized with random numbers from a gaussian N(0, 0.001)\n",
        "        self.weight = np.matlib.randn(input_dim, output_dim) * 0.001\n",
        "        self.bias = np.matlib.randn((1, output_dim)) * 0.001\n",
        "        \n",
        "    # y = Wx + b\n",
        "    def forward(self, x):\n",
        "        return np.dot(x, self.weight) + self.bias\n",
        "    \n",
        "    def getParameters(self):\n",
        "        return [self.weight, self.bias]\n",
        "\n",
        "# Let's test the composition of the two functions (forward-propagation in the neural network).\n",
        "x1 = np.array([[1, 2, 2, 3]])\n",
        "y_hat1 = nn_Sigmoid().forward(nn_Linear(4, 3).forward(x1))\n",
        "print('x[1] = '+ str(x1))\n",
        "print('y_hat[1] = ' + str(y_hat1) + '\\n')\n",
        "\n",
        "# Let's test the composition of the two functions (forward-propagation in the neural network).\n",
        "x2 = np.array([[4, 5, 2, 1]])\n",
        "y_hat2 = nn_Sigmoid().forward(nn_Linear(4, 3).forward(x2))\n",
        "print('x[2] = '+ str(x2))\n",
        "print('y_hat[2] = ' + str(y_hat2) + '\\n')\n",
        "\n",
        "# We can also compute both at once, which could be more efficient since it requires a single matrix multiplication.\n",
        "x = np.concatenate((x1, x2), axis = 0)\n",
        "y_hat = nn_Sigmoid().forward(nn_Linear(4, 3).forward(x))\n",
        "print('x = ' + str(x))\n",
        "print('y_hat = ' + str(y_hat))"
      ]
    },
    {
      "cell_type": "markdown",
      "metadata": {
        "id": "oYL-G-qkgO-h"
      },
      "source": [
        "## 1.2. Loss functions.\n",
        "\n",
        "After computing the output predictions $\\widehat{\\mathbf{y}}$ it is necessary to compare these against the true values of $\\mathbf{y}$. Let's call these true, correct, or desired values $\\mathbf{y}$. Typically, a simple loss or cost function is used to measure the degree by which the prediction $\\widehat{\\mathbf{y}}$ is wrong with respect to $\\mathbf{y}$. A common loss function for regression is the sum of squared differences between the prediction and its true value. Assuming a prediction $\\widehat{\\mathbf{y}}^{(d)}$ for our training sample $\\mathbf{x}^{(d)}$ with true value $\\mathbf{y}^{(d)}$, then the loss can be computed as:\n",
        "\n",
        "$$loss(\\widehat{\\mathbf{y}}^{(d)}, \\mathbf{y}^{(d)}) = (\\widehat{y}^{(d)}_1 - y^{(d)}_1)^2 + (\\widehat{y}^{(d)}_2 - y^{(d)}_2)^2 + (\\widehat{y}^{(d)}_3 - y^{(d)}_3)^2 = \\sum_{j=1}^{j=3}(\\widehat{y}^{(d)}_j - y^{(d)}_j)^2$$\n",
        "\n",
        "The goal is to modify the parameters [$\\mathbf{W}, \\mathbf{b}$] in the Linear layer so that the value of $loss(\\widehat{\\mathbf{y}}^{(d)}, \\mathbf{y}^{(d)})$ becomes as small as possible for all training samples in a set $D=\\{(\\mathbf{x}^{(d)},\\mathbf{y}^{(d)})\\}$. This would in turn ensure that predictions $\\widehat{\\mathbf{y}}$ are as similar as possible to the true values $\\mathbf{y}$. To achieve this we need to minimize the following function:\n",
        "\n",
        "$$\\mathcal{L}(\\mathbf{W}, \\mathbf{b}) = \\sum_{d=1}^{d=|D|} loss(\\widehat{\\mathbf{y}}^{(d)}, \\mathbf{y}^{(d)})$$\n",
        "\n",
        "The only two variables for our model in the function $\\mathcal{L}(\\mathbf{W}, \\mathbf{b})$ are $\\mathbf{W}$ and $\\mathbf{b}$, this is because the training dataset $D$ is fixed. Finding the values of $\\mathbf{W}$ and $\\mathbf{b}$ that minimize the the loss, particularly for complex functions, is typically done using gradient based optimization, like Stochastic Gradient Descent (SGD). "
      ]
    },
    {
      "cell_type": "code",
      "execution_count": 64,
      "metadata": {
        "id": "YpscMANsgO-h",
        "outputId": "94879f7e-98ae-48bb-ff02-dd13a261b44d"
      },
      "outputs": [
        {
          "data": {
            "text/plain": [
              "1.6271000000000002"
            ]
          },
          "execution_count": 64,
          "metadata": {},
          "output_type": "execute_result"
        }
      ],
      "source": [
        "class nn_MSECriterion:  # MSE = mean squared error.\n",
        "    def forward(self, predictions, labels):\n",
        "        return np.sum(np.square(predictions - labels))\n",
        "\n",
        "# Let's test the loss function.\n",
        "y_hat = np.array([[0.23, 0.25, 0.33], [0.23, 0.25, 0.33], [0.23, 0.25, 0.33], [0.23, 0.25, 0.33]])\n",
        "y_true = np.array([[0.25, 0.25, 0.25], [0.33, 0.33, 0.33], [0.77, 0.77, 0.77], [0.80, 0.80, 0.80]])\n",
        "\n",
        "nn_MSECriterion().forward(y_hat, y_true)"
      ]
    },
    {
      "cell_type": "markdown",
      "metadata": {
        "id": "RAI-ECkbgO-i"
      },
      "source": [
        "\n",
        "## 1.3. Backward-propagation (Backpropagation)\n",
        "\n",
        "As we discussed in class, backpropagation is just applying the chain-rule in calculus to compute the derivative of a function which is the composition of many functions (this is essentially definition of the neural network). \n",
        "\n",
        "Below is the implementation of required derivative computations for our simple network. You are highly advised to derive the derivatives implemented here to make sure you understand how one arrives at them. "
      ]
    },
    {
      "cell_type": "code",
      "execution_count": 65,
      "metadata": {
        "id": "ng5fBmzIgO-j",
        "outputId": "0e8fadd6-ab7f-4fd6-d156-423803c8d056"
      },
      "outputs": [
        {
          "name": "stdout",
          "output_type": "stream",
          "text": [
            "\n",
            " num_samples = 1\n",
            "\n",
            "W = [[ 7.66968482e-03 -3.93496690e-03  1.66192630e-02]\n",
            " [-2.16632040e-04  5.96723402e-03  2.77081162e-02]\n",
            " [-8.17153218e-05 -4.08214706e-03  4.23870023e-03]\n",
            " [-4.20912536e-03 -2.05337177e-02  7.93141967e-03]]\n",
            "B = [[ 0.00500797 -0.00635616  0.01250941]]\n",
            "\n",
            "x1    = [[1 2 2 3]]\n",
            "lin   = [[-0.00054642 -0.06812211  0.11681656]]\n",
            "y_hat = [[0.4998634  0.48297606 0.52917098]]\n",
            "\n",
            "loss = 0.19464599354460935\n",
            "\n",
            "dy_hat = [[0.49972679 0.46595211 0.55834195]]\n",
            "dlin   = [[0.12493169 0.11635299 0.13911037]]\n",
            "dx1    = [[ 0.00281225  0.00452173  0.00010447 -0.00181167]]\n",
            "\n",
            "dW = [[0.12493169 0.11635299 0.13911037]\n",
            " [0.24986338 0.23270598 0.27822074]\n",
            " [0.24986338 0.23270598 0.27822074]\n",
            " [0.37479507 0.34905897 0.41733111]]\n",
            "dB = [[0.12493169 0.11635299 0.13911037]]\n"
          ]
        }
      ],
      "source": [
        "# This is referred above as f(u).\n",
        "class nn_MSECriterion:\n",
        "    def forward(self, predictions, labels):\n",
        "        return np.sum(np.square(predictions - labels))\n",
        "        \n",
        "    def backward(self, predictions, labels):\n",
        "        num_samples = labels.shape[0]\n",
        "        return 2 * (predictions - labels)\n",
        "\n",
        "# This is referred above as g(v).\n",
        "class nn_Sigmoid:\n",
        "    def forward(self, x):\n",
        "        return 1 / (1 + np.exp(-x))\n",
        "    \n",
        "    def backward(self, x, gradOutput):\n",
        "        # It is usually a good idea to use gv from the forward pass and not recompute it again here.\n",
        "        gv = 1 / (1 + np.exp(-x))  \n",
        "        return np.multiply(np.multiply(gv, (1 - gv)), gradOutput)\n",
        "\n",
        "# This is referred above as h(W, b)\n",
        "class nn_Linear:\n",
        "    def __init__(self, input_dim, output_dim):\n",
        "        # Initialized with random numbers from a gaussian N(0, 0.001)\n",
        "        self.weight = np.matlib.randn(input_dim, output_dim) * 0.01\n",
        "        self.bias = np.matlib.randn((1, output_dim)) * 0.01\n",
        "        self.gradWeight = np.zeros_like(self.weight)\n",
        "        self.gradBias = np.zeros_like(self.bias)\n",
        "        \n",
        "    def forward(self, x):\n",
        "        return np.dot(x, self.weight) + self.bias\n",
        "    \n",
        "    def backward(self, x, gradOutput):\n",
        "        # dL/dw = dh/dw * dL/dv\n",
        "        self.gradWeight = np.dot(x.T, gradOutput)\n",
        "        # dL/db = dh/db * dL/dv\n",
        "        self.gradBias = np.copy(gradOutput)\n",
        "        # return dL/dx = dh/dx * dL/dv\n",
        "        return np.dot(gradOutput, self.weight.T)\n",
        "    \n",
        "    def getParameters(self):\n",
        "        params = [self.weight, self.bias]\n",
        "        gradParams = [self.gradWeight, self.gradBias]\n",
        "        return params, gradParams\n",
        "    \n",
        "\n",
        "# Let's test some dummy inputs for a full pass of forward and backward propagation.\n",
        "x1 = np.array([[1, 2, 2, 3]])\n",
        "y1 = np.array([[0.25, 0.25, 0.25]])\n",
        "\n",
        "# Define the operations.\n",
        "linear = nn_Linear(4, 3)  # h(W, b)\n",
        "sigmoid = nn_Sigmoid()  # g(v)\n",
        "loss = nn_MSECriterion()  # f(u)\n",
        "\n",
        "# Forward-propagation.\n",
        "lin = linear.forward(x1)\n",
        "y_hat = sigmoid.forward(lin)\n",
        "loss_val = loss.forward(y_hat, y1) # Loss function.\n",
        "\n",
        "# Backward-propagation.\n",
        "dy_hat = loss.backward(y_hat, y1)\n",
        "dlin = sigmoid.backward(lin, dy_hat)\n",
        "dx1 = linear.backward(x1, dlin)\n",
        "\n",
        "print('\\n num_samples = ' + str(y1.shape[0]))\n",
        "\n",
        "# Show parameters of the linear layer.\n",
        "print('\\nW = ' + str(linear.weight))\n",
        "print('B = ' + str(linear.bias))\n",
        "\n",
        "# Show the intermediate outputs in the forward pass.\n",
        "print('\\nx1    = '+ str(x1))\n",
        "print('lin   = ' + str(lin))\n",
        "print('y_hat = ' + str(y_hat))\n",
        "\n",
        "print('\\nloss = ' + str(loss_val))\n",
        "\n",
        "# Show the intermediate gradients with respect to inputs in the backward pass.\n",
        "print('\\ndy_hat = ' + str(dy_hat))\n",
        "print('dlin   = ' + str(dlin))\n",
        "print('dx1    = ' + str(dx1))\n",
        "\n",
        "# Show the gradients with respect to parameters.\n",
        "print('\\ndW = ' + str(linear.gradWeight))\n",
        "print('dB = ' + str(linear.gradBias))"
      ]
    },
    {
      "cell_type": "markdown",
      "metadata": {
        "collapsed": true,
        "id": "tK_WHjFjgO-k"
      },
      "source": [
        "## 1.4. Gradient checking \n",
        "\n",
        "The gradients can also be computed with numerical approximation using the definition of derivatives. Let a single input pair $(\\mathbf{x}, \\mathbf{y})$ be the input, for each entry $w_{ij}$ in the weight matrix $\\mathbf{W}$, the partial derivatives can be computed as follows:\n",
        "\n",
        "$$\\frac{\\partial \\mathcal{L}(\\mathbf{W},\\mathbf{b})}{\\partial w_{ij}} = \\frac{\\mathcal{L}(\\mathbf{W} + \\mathbf{E}_{ij},b) - \\mathcal{L}(\\mathbf{W} - \\mathbf{E}_{ij}, b)}{2\\epsilon}, $$\n",
        "\n",
        "where $\\mathbf{E}_{ij}$ is a matrix that has $\\epsilon$ in its $(i,j)$ entry and zeros everywhere else. Intuitively this gradient tells how would the value of the loss changes if we change a particular weight $w_{ij}$ by an $\\epsilon$ amount. We can do the same to compute derivatives with respect to the bias parameters $b_i$. Below is the code that checks for a given input $(\\mathbf{x}, \\mathbf{y})$, the gradients for the matrix $\\mathbf{W}$. "
      ]
    },
    {
      "cell_type": "code",
      "execution_count": 81,
      "metadata": {
        "id": "KtpED5azgO-k",
        "outputId": "1bc5f1c3-9672-4632-c117-f46f6a590686"
      },
      "outputs": [
        {
          "name": "stdout",
          "output_type": "stream",
          "text": [
            "gradWeight: [[ -3.09569839  -4.33374977  -5.60339795]\n",
            " [ -5.02720252  -7.03771331  -9.09953514]\n",
            " [-45.5623302  -63.78390693 -82.47052373]\n",
            " [ -7.05131301  -9.87131893 -12.76329534]]\n",
            "\n",
            "approxGradWeight: [[ -3.0957599   -4.33371994  -5.60335172]\n",
            " [ -5.02736471  -7.03763459  -9.09941316]\n",
            " [-45.57561528 -63.77738465 -82.4604322 ]\n",
            " [ -7.05163205  -9.87116399 -12.76305527]]\n"
          ]
        }
      ],
      "source": [
        "# We will compute derivatives with respect to a single data pair (x,y)\n",
        "x = np.array([[2.34, 3.8, 34.44, 5.33]])\n",
        "y = np.array([[3.2, 4.2, 5.3]])\n",
        "\n",
        "# Define the operations.\n",
        "linear = nn_Linear(4, 3)\n",
        "sigmoid = nn_Sigmoid()\n",
        "criterion = nn_MSECriterion()\n",
        "\n",
        "# Forward-propagation.\n",
        "a0 = linear.forward(x)\n",
        "a1 = sigmoid.forward(a0)\n",
        "loss = criterion.forward(a1, y) # Loss function.\n",
        "\n",
        "# Backward-propagation.\n",
        "da1 = criterion.backward(a1, y)\n",
        "da0 = sigmoid.backward(a0, da1)\n",
        "dx = linear.backward(x, da0)\n",
        "\n",
        "gradWeight = linear.gradWeight\n",
        "gradBias = linear.gradBias\n",
        "\n",
        "approxGradWeight = np.zeros_like(linear.weight)\n",
        "approxGradBias = np.zeros_like(linear.bias)\n",
        "\n",
        "# We will verify here that gradWeights are correct and leave it as an excercise\n",
        "# to verify the gradBias.\n",
        "epsilon = 0.0001\n",
        "for i in range(0, linear.weight.shape[0]):\n",
        "    for j in range(0, linear.weight.shape[1]):\n",
        "        # Compute f(w)\n",
        "        fw = criterion.forward(sigmoid.forward(linear.forward(x)), y) # Loss function.\n",
        "        # Compute f(w + eps)\n",
        "        shifted_weight = np.copy(linear.weight)\n",
        "        shifted_weight[i, j] = shifted_weight[i, j] + epsilon\n",
        "        shifted_linear = nn_Linear(4, 3)\n",
        "        shifted_linear.bias = linear.bias\n",
        "        shifted_linear.weight = shifted_weight\n",
        "        fw_epsilon = criterion.forward(sigmoid.forward(shifted_linear.forward(x)), y) # Loss function\n",
        "        # Compute (f(w + eps) - f(w)) / eps\n",
        "        approxGradWeight[i, j] = (fw_epsilon - fw) / epsilon\n",
        "\n",
        "# These two outputs should be similar up to some precision.\n",
        "print('gradWeight: ' + str(gradWeight))\n",
        "print('\\napproxGradWeight: ' + str(approxGradWeight))"
      ]
    },
    {
      "cell_type": "markdown",
      "metadata": {
        "id": "-dABWMsUgO-l"
      },
      "source": [
        "## 1.5. Stochastic Gradient Descent.\n",
        "\n",
        "The code below creates a dummy dataset that will be used for training. The inputs are 1000 vectors of size 4, and the outputs are 1000 vectors of size 3. The focus here is on training, however, in a real task one would check accuracy of the model on test (unseen) data."
      ]
    },
    {
      "cell_type": "code",
      "execution_count": 91,
      "metadata": {
        "collapsed": true,
        "id": "mfTGJfLggO-l"
      },
      "outputs": [
        {
          "name": "stdout",
          "output_type": "stream",
          "text": [
            "(1000, 4)\n",
            "(1000, 3)\n"
          ]
        }
      ],
      "source": [
        "dataset_size = 1000\n",
        "\n",
        "# Generate random inputs within some range.\n",
        "x = np.random.uniform(0, 6, (dataset_size, 4))\n",
        "# Generate outputs based on the inputs using some function.\n",
        "y1 = np.sin(x.sum(axis = 1))\n",
        "y2 = np.sin(x[:, 1] * 6)\n",
        "y3 = np.sin(x[:, 1] + x[:, 3])\n",
        "y = np.array([y1, y2, y3]).T\n",
        "\n",
        "print(x.shape)\n",
        "print(y.shape)"
      ]
    },
    {
      "cell_type": "markdown",
      "metadata": {
        "id": "NgSaF_SggO-m"
      },
      "source": [
        "To learn the parameters efficiently we will implement the stochastic gradient descent loop that moves the weights according to the gradients. In each iteration we sample an $(\\mathbf{x}, \\mathbf{y})$ pair and compute the gradients of the parameters, then we update the parameters according to the following gradient descent rules:\n",
        "\n",
        "$$w_{ij} = w_{ij} - \\lambda\\frac{\\partial \\mathcal{L}(\\mathbf{W},\\mathbf{b})}{\\partial w_{ij}}$$\n",
        "\n",
        "$$b_i = b_i - \\lambda\\frac{\\partial \\mathcal{L}(\\mathbf{W},\\mathbf{b})}{\\partial b_i}$$\n",
        "\n",
        "where $\\lambda$ is the learning rate. "
      ]
    },
    {
      "cell_type": "code",
      "execution_count": null,
      "metadata": {
        "collapsed": true,
        "id": "sYqIehlSgO-m"
      },
      "outputs": [
        {
          "name": "stdout",
          "output_type": "stream",
          "text": [
            "epoch[0] = 1.48342109\n",
            "epoch[10] = 1.41522250\n",
            "epoch[20] = 1.40212383\n",
            "epoch[30] = 1.39776152\n",
            "epoch[40] = 1.39557733\n",
            "epoch[50] = 1.39426036\n",
            "epoch[60] = 1.39336850\n",
            "epoch[70] = 1.39270309\n",
            "epoch[80] = 1.39216869\n",
            "epoch[90] = 1.39172240\n",
            "epoch[100] = 1.39134489\n",
            "epoch[110] = 1.39102453\n",
            "epoch[120] = 1.39075158\n",
            "epoch[130] = 1.39051746\n",
            "epoch[140] = 1.39031492\n",
            "epoch[150] = 1.39013814\n",
            "epoch[160] = 1.38998251\n",
            "epoch[170] = 1.38984442\n",
            "epoch[180] = 1.38972105\n",
            "epoch[190] = 1.38961012\n",
            "epoch[200] = 1.38950984\n",
            "epoch[210] = 1.38941874\n",
            "epoch[220] = 1.38933561\n",
            "epoch[230] = 1.38925945\n",
            "epoch[240] = 1.38918944\n",
            "epoch[250] = 1.38912486\n",
            "epoch[260] = 1.38906512\n",
            "epoch[270] = 1.38900970\n",
            "epoch[280] = 1.38895816\n",
            "epoch[290] = 1.38891011\n",
            "epoch[300] = 1.38886523\n",
            "epoch[310] = 1.38882321\n",
            "epoch[320] = 1.38878380\n",
            "epoch[330] = 1.38874677\n",
            "epoch[340] = 1.38871191\n",
            "epoch[350] = 1.38867905\n",
            "epoch[360] = 1.38864802\n",
            "epoch[370] = 1.38861868\n",
            "epoch[380] = 1.38859090\n",
            "epoch[390] = 1.38856456\n"
          ]
        }
      ],
      "source": []
    },
    {
      "cell_type": "code",
      "execution_count": 92,
      "metadata": {},
      "outputs": [
        {
          "name": "stdout",
          "output_type": "stream",
          "text": [
            "epoch[0] = 1.50539898\n",
            "epoch[10] = 1.43300216\n",
            "epoch[20] = 1.41993621\n",
            "epoch[30] = 1.41532648\n",
            "epoch[40] = 1.41273463\n",
            "epoch[50] = 1.41081191\n",
            "epoch[60] = 1.40931442\n",
            "epoch[70] = 1.40807720\n",
            "epoch[80] = 1.40713916\n",
            "epoch[90] = 1.40642948\n",
            "epoch[100] = 1.40587916\n",
            "epoch[110] = 1.40543224\n",
            "epoch[120] = 1.40505714\n",
            "epoch[130] = 1.40473664\n",
            "epoch[140] = 1.40445968\n",
            "epoch[150] = 1.40421824\n",
            "epoch[160] = 1.40400612\n",
            "epoch[170] = 1.40381846\n",
            "epoch[180] = 1.40365136\n",
            "epoch[190] = 1.40350167\n",
            "epoch[200] = 1.40336685\n",
            "epoch[210] = 1.40324480\n",
            "epoch[220] = 1.40313379\n",
            "epoch[230] = 1.40303239\n",
            "epoch[240] = 1.40293938\n",
            "epoch[250] = 1.40285376\n",
            "epoch[260] = 1.40277464\n",
            "epoch[270] = 1.40270130\n",
            "epoch[280] = 1.40263309\n",
            "epoch[290] = 1.40256947\n",
            "epoch[300] = 1.40250997\n",
            "epoch[310] = 1.40245416\n",
            "epoch[320] = 1.40240170\n",
            "epoch[330] = 1.40235225\n",
            "epoch[340] = 1.40230554\n",
            "epoch[350] = 1.40226132\n",
            "epoch[360] = 1.40221937\n",
            "epoch[370] = 1.40217950\n",
            "epoch[380] = 1.40214154\n",
            "epoch[390] = 1.40210533\n"
          ]
        }
      ],
      "source": [
        "learningRate = 0.1\n",
        "\n",
        "model = {}\n",
        "model['linear'] = nn_Linear(4, 3)\n",
        "model['sigmoid'] = nn_Sigmoid()\n",
        "model['loss'] = nn_MSECriterion()\n",
        "\n",
        "for epoch in range(0, 400):\n",
        "    loss = 0\n",
        "    for i in range(0, dataset_size):\n",
        "        xi = x[i:i+1, :]\n",
        "        yi = y[i:i+1, :]\n",
        "\n",
        "        # Forward.\n",
        "        a0 = model['linear'].forward(xi)\n",
        "        a1 = model['sigmoid'].forward(a0)\n",
        "        loss += model['loss'].forward(a1, yi)\n",
        "\n",
        "        # Backward.\n",
        "        da1 = model['loss'].backward(a1, yi)\n",
        "        da0 = model['sigmoid'].backward(a0, da1)\n",
        "        model['linear'].backward(xi, da0)\n",
        "\n",
        "        model['linear'].weight = model['linear'].weight - learningRate * model['linear'].gradWeight\n",
        "        model['linear'].bias = model['linear'].bias - learningRate * model['linear'].gradBias\n",
        "    \n",
        "    if epoch % 10 == 0: print('epoch[%d] = %.8f' % (epoch, loss / dataset_size))"
      ]
    },
    {
      "cell_type": "markdown",
      "metadata": {
        "id": "SUru8hBmgO-n"
      },
      "source": [
        "# 2. Two-layer neural network with 1-hidden layer.\n",
        "Section 1 implemented a single layer neural network that takes as input vectors of size 4, and outputs vectors of size 3. Here your task is to modify the code to train a two layer network with one hidden layer of size hidden_state_size (note that this is a parameter and should be something you can change). You will need to handin your code for this and remaining parts of the notebook; the notebook you hand in should also have code executed and result saved.  \n",
        "\n",
        "<br>\n",
        "<center>\n",
        "<img src=\"http://www.cs.ubc.ca/~lsigal/532S_2022W1/Assignment1/2_layer_net.png\" width=\"450\">\n",
        "</center>\n",
        "<br>\n"
      ]
    },
    {
      "cell_type": "markdown",
      "metadata": {
        "id": "HCtypIohgO-n"
      },
      "source": [
        "## 2.1. Implementing the network and SGD learning [20 points].\n",
        "Please modify the code of Section 1.5 to implement a two-layer network and the SGD training procedure for it. \n"
      ]
    },
    {
      "cell_type": "code",
      "execution_count": 89,
      "metadata": {
        "collapsed": true,
        "id": "Uk5A9pItgO-o"
      },
      "outputs": [
        {
          "ename": "KeyboardInterrupt",
          "evalue": "",
          "output_type": "error",
          "traceback": [
            "\u001b[0;31m---------------------------------------------------------------------------\u001b[0m",
            "\u001b[0;31mKeyboardInterrupt\u001b[0m                         Traceback (most recent call last)",
            "Cell \u001b[0;32mIn [89], line 34\u001b[0m\n\u001b[1;32m     32\u001b[0m \u001b[38;5;66;03m#da1 = nn_Linear(hidden_state_size,3).backward(a1, da2)\u001b[39;00m\n\u001b[1;32m     33\u001b[0m da1\u001b[38;5;241m=\u001b[39mmodel_h[\u001b[38;5;124m'\u001b[39m\u001b[38;5;124mlinear\u001b[39m\u001b[38;5;124m'\u001b[39m]\u001b[38;5;241m.\u001b[39mbackward(a1,da2)\n\u001b[0;32m---> 34\u001b[0m da0 \u001b[38;5;241m=\u001b[39m \u001b[43mmodel\u001b[49m\u001b[43m[\u001b[49m\u001b[38;5;124;43m'\u001b[39;49m\u001b[38;5;124;43msigmoid\u001b[39;49m\u001b[38;5;124;43m'\u001b[39;49m\u001b[43m]\u001b[49m\u001b[38;5;241;43m.\u001b[39;49m\u001b[43mbackward\u001b[49m\u001b[43m(\u001b[49m\u001b[43ma0\u001b[49m\u001b[43m,\u001b[49m\u001b[43m \u001b[49m\u001b[43mda1\u001b[49m\u001b[43m)\u001b[49m\n\u001b[1;32m     35\u001b[0m model[\u001b[38;5;124m'\u001b[39m\u001b[38;5;124mlinear\u001b[39m\u001b[38;5;124m'\u001b[39m]\u001b[38;5;241m.\u001b[39mbackward(xi, da0)\n\u001b[1;32m     38\u001b[0m model_h[\u001b[38;5;124m'\u001b[39m\u001b[38;5;124mlinear\u001b[39m\u001b[38;5;124m'\u001b[39m]\u001b[38;5;241m.\u001b[39mweight \u001b[38;5;241m=\u001b[39m model_h[\u001b[38;5;124m'\u001b[39m\u001b[38;5;124mlinear\u001b[39m\u001b[38;5;124m'\u001b[39m]\u001b[38;5;241m.\u001b[39mweight \u001b[38;5;241m-\u001b[39m learningRate \u001b[38;5;241m*\u001b[39m model_h[\u001b[38;5;124m'\u001b[39m\u001b[38;5;124mlinear\u001b[39m\u001b[38;5;124m'\u001b[39m]\u001b[38;5;241m.\u001b[39mgradWeight\n",
            "Cell \u001b[0;32mIn [65], line 18\u001b[0m, in \u001b[0;36mnn_Sigmoid.backward\u001b[0;34m(self, x, gradOutput)\u001b[0m\n\u001b[1;32m     15\u001b[0m \u001b[38;5;28;01mdef\u001b[39;00m \u001b[38;5;21mbackward\u001b[39m(\u001b[38;5;28mself\u001b[39m, x, gradOutput):\n\u001b[1;32m     16\u001b[0m     \u001b[38;5;66;03m# It is usually a good idea to use gv from the forward pass and not recompute it again here.\u001b[39;00m\n\u001b[1;32m     17\u001b[0m     gv \u001b[38;5;241m=\u001b[39m \u001b[38;5;241m1\u001b[39m \u001b[38;5;241m/\u001b[39m (\u001b[38;5;241m1\u001b[39m \u001b[38;5;241m+\u001b[39m np\u001b[38;5;241m.\u001b[39mexp(\u001b[38;5;241m-\u001b[39mx))  \n\u001b[0;32m---> 18\u001b[0m     \u001b[38;5;28;01mreturn\u001b[39;00m np\u001b[38;5;241m.\u001b[39mmultiply(np\u001b[38;5;241m.\u001b[39mmultiply(gv, (\u001b[38;5;241;43m1\u001b[39;49m\u001b[43m \u001b[49m\u001b[38;5;241;43m-\u001b[39;49m\u001b[43m \u001b[49m\u001b[43mgv\u001b[49m)), gradOutput)\n",
            "File \u001b[0;32m/opt/homebrew/Caskroom/miniforge/base/envs/pytorch_env/lib/python3.9/site-packages/numpy/matrixlib/defmatrix.py:167\u001b[0m, in \u001b[0;36mmatrix.__array_finalize__\u001b[0;34m(self, obj)\u001b[0m\n\u001b[1;32m    162\u001b[0m     ret \u001b[39m=\u001b[39m N\u001b[39m.\u001b[39mndarray\u001b[39m.\u001b[39m\u001b[39m__new__\u001b[39m(subtype, shape, arr\u001b[39m.\u001b[39mdtype,\n\u001b[1;32m    163\u001b[0m                             buffer\u001b[39m=\u001b[39marr,\n\u001b[1;32m    164\u001b[0m                             order\u001b[39m=\u001b[39morder)\n\u001b[1;32m    165\u001b[0m     \u001b[39mreturn\u001b[39;00m ret\n\u001b[0;32m--> 167\u001b[0m \u001b[39mdef\u001b[39;00m \u001b[39m__array_finalize__\u001b[39m(\u001b[39mself\u001b[39m, obj):\n\u001b[1;32m    168\u001b[0m     \u001b[39mself\u001b[39m\u001b[39m.\u001b[39m_getitem \u001b[39m=\u001b[39m \u001b[39mFalse\u001b[39;00m\n\u001b[1;32m    169\u001b[0m     \u001b[39mif\u001b[39;00m (\u001b[39misinstance\u001b[39m(obj, matrix) \u001b[39mand\u001b[39;00m obj\u001b[39m.\u001b[39m_getitem): \u001b[39mreturn\u001b[39;00m\n",
            "\u001b[0;31mKeyboardInterrupt\u001b[0m: "
          ]
        }
      ],
      "source": [
        "hidden_state_size = 5\n",
        "learningRate = 0.1\n",
        "'''\n",
        "model = {}\n",
        "model['linear'] = nn_Linear(4, hidden_state_size)\n",
        "model['sigmoid'] = nn_Sigmoid()\n",
        "model['loss'] = nn_MSECriterion()\n",
        "'''\n",
        "model={}\n",
        "model['linear']=nn_Linear(4,hidden_state_size)\n",
        "model['sigmoid']=nn_Sigmoid()\n",
        "model['loss']=nn_MSECriterion()\n",
        "model_h={}\n",
        "model_h['linear']=nn_Linear(hidden_state_size,3)\n",
        "for epoch in range(0, 400):\n",
        "    loss = 0\n",
        "    for i in range(0, dataset_size):\n",
        "        xi = x[i:i+1, :]\n",
        "        yi = y[i:i+1, :]\n",
        "\n",
        "        # Forward.\n",
        "        a0 = model['linear'].forward(xi)\n",
        "        a1 = model['sigmoid'].forward(a0)\n",
        "        #a2=nn_Linear(hidden_state_size,3).forward(a1)\n",
        "        a2 = model_h['linear'].forward(a1) #linear \n",
        "        a3 = model['sigmoid'].forward(a2) #sigmoid \n",
        "        loss += model['loss'].forward(a3, yi)\n",
        "\n",
        "        # Backward# add more steps\n",
        "        da3 = model['loss'].backward(a3,yi)\n",
        "        da2 = model['sigmoid'].backward(a2,da3)\n",
        "        #da1 = nn_Linear(hidden_state_size,3).backward(a1, da2)\n",
        "        da1=model_h['linear'].backward(a1,da2)\n",
        "        da0 = model['sigmoid'].backward(a0, da1)\n",
        "        model['linear'].backward(xi, da0)\n",
        "        \n",
        "        \n",
        "        model_h['linear'].weight = model_h['linear'].weight - learningRate * model_h['linear'].gradWeight\n",
        "        model_h['linear'].bias = model_h['linear'].bias - learningRate * model_h['linear'].gradBias\n",
        "        model['linear'].weight = model['linear'].weight - learningRate * model['linear'].gradWeight\n",
        "        model['linear'].bias = model['linear'].bias - learningRate * model['linear'].gradBias\n",
        "        #nn_Linear(hidden_state_size,3).weight=nn_Linear(hidden_state_size,3).weight-learningRate*nn_Linear(hidden_state_size,3).gradWeight\n",
        "        #nn_Linear(hidden_state_size,3).bias=nn_Linear(hidden_state_size,3).bias-learningRate*nn_Linear(hidden_state_size,3).gradBias\n",
        "    \n",
        "    if epoch % 10 == 0: print('epoch[%d] = %.8f' % (epoch, loss / dataset_size))\n"
      ]
    },
    {
      "cell_type": "markdown",
      "metadata": {
        "id": "A3JNC9_egO-o"
      },
      "source": [
        "## 2.2. Gradient checking [10 points].\n",
        "Check the gradients of the above network for both linear layer parameters $W_1$ and $W_2$ using some sample input pair ($\\mathbf{x}$, $\\mathbf{y}$). You will likely want to look and model this after Section 1.4 above."
      ]
    },
    {
      "cell_type": "code",
      "execution_count": 83,
      "metadata": {
        "collapsed": true,
        "id": "ZQr_l_8igO-o"
      },
      "outputs": [
        {
          "name": "stdout",
          "output_type": "stream",
          "text": [
            "gradWeight: [[ 0.00629313 -0.00136291 -0.00977034  0.00936115  0.01192794]\n",
            " [ 0.01460931 -0.00316396 -0.02268157  0.02173163  0.02769038]\n",
            " [ 0.01295421 -0.00280551 -0.02011196  0.01926964  0.02455332]\n",
            " [ 0.00156183 -0.00033825 -0.00242481  0.00232325  0.00296028]]\n",
            "\n",
            "approxGradWeight: [[ 0.00906739 -0.00196375 -0.01407789  0.0134883   0.01718632]\n",
            " [ 0.01472458 -0.00318897 -0.02286155  0.02190412  0.02790902]\n",
            " [ 0.13340569 -0.02889585 -0.20720261  0.19852791  0.25287012]\n",
            " [ 0.02065281 -0.0044729  -0.03206638  0.03072347  0.03914551]]\n"
          ]
        }
      ],
      "source": [
        "# Your code goes here.\n",
        "\n",
        " #We will compute derivatives with respect to a single data pair (x,y)\n",
        "x = np.array([[2.34, 3.8, 34.44, 5.33]])\n",
        "y = np.array([[3.2, 4.2, 5.3]])\n",
        "\n",
        "# Define the operations.\n",
        "linear1 = nn_Linear(4, 5)\n",
        "linear2 = nn_Linear(5,3)\n",
        "sigmoid = nn_Sigmoid()\n",
        "criterion = nn_MSECriterion()\n",
        "\n",
        "# Forward-propagation.\n",
        "#a0 = linear.forward(x)\n",
        "#a1 = sigmoid.forward(a0)\n",
        "#loss = criterion.forward(a1, y) # Loss function.\n",
        "\n",
        "a0 = linear1.forward(x)\n",
        "a1 = sigmoid.forward(a0)\n",
        "a2 = linear2.forward(a1) #linear \n",
        "a3 = sigmoid.forward(a2) #sigmoid \n",
        "loss = criterion.forward(a3, y) #loss\n",
        "\n",
        "# Backward-propagation.\n",
        "#da1 = criterion.backward(a1, y)\n",
        "#da0 = sigmoid.backward(a0, da1)\n",
        "#dx = linear.backward(x, da0)\n",
        "\n",
        "da3 = criterion.backward(a3,y)\n",
        "da2 = sigmoid.backward(a2,da3)\n",
        "da1 = linear2.backward(a1, da2)\n",
        "da0 = sigmoid.backward(a0, da1)\n",
        "dx = linear1.backward(xi, da0)\n",
        "\n",
        "gradWeight1 = linear1.gradWeight\n",
        "gradBias1 = linear1.gradBias\n",
        "\n",
        "gradWeight2=linear2.gradWeight\n",
        "gradBias2=linear2.gradBias\n",
        "\n",
        "approxGradWeight1 = np.zeros_like(linear1.weight)\n",
        "approxGradBias1 = np.zeros_like(linear1.bias)\n",
        "\n",
        "approxGradWeight2 = np.zeros_like(linear2.weight)\n",
        "approxGradBias2 = np.zeros_like(linear2.bias)\n",
        "\n",
        "# We will verify here that gradWeights are correct and leave it as an excercise\n",
        "# to verify the gradBias.\n",
        "epsilon = 0.0001\n",
        "for i in range(0, linear1.weight.shape[0]):\n",
        "    for j in range(0, linear1.weight.shape[1]):\n",
        "        # Compute f(w)\n",
        "        fw = criterion.forward(sigmoid.forward(linear2.forward(sigmoid.forward(linear1.forward(x)))),y)\n",
        "        # Loss function.\n",
        "        # Compute f(w1 + eps)\n",
        "        shifted_weight_1= np.copy(linear1.weight)\n",
        "        shifted_weight_1[i, j] = shifted_weight_1[i, j] + epsilon\n",
        "        shifted_linear1 = nn_Linear(4, 5)\n",
        "        shifted_linear1.bias = linear1.bias\n",
        "        shifted_linear1.weight = shifted_weight_1\n",
        "        fw_epsilon = criterion.forward(sigmoid.forward(linear2.forward(sigmoid.forward(shifted_linear1.forward(x)))),y) # Loss function\n",
        "        # Compute (f(w + eps) - f(w)) / eps\n",
        "        approxGradWeight1[i, j] = (fw_epsilon - fw) / epsilon\n",
        "\n",
        "        # Compute f(w1 + eps)\n",
        "\n",
        "\n",
        "# These two outputs should be similar up to some precision.\n",
        "print('gradWeight: ' + str(gradWeight1))\n",
        "print('\\napproxGradWeight: ' + str(approxGradWeight1))\n",
        "\n"
      ]
    },
    {
      "cell_type": "code",
      "execution_count": 86,
      "metadata": {},
      "outputs": [
        {
          "name": "stdout",
          "output_type": "stream",
          "text": [
            "gradWeight: [[-0.82414896 -1.1310765  -1.46681017]\n",
            " [-0.76886845 -1.05520856 -1.3684226 ]\n",
            " [-0.66365372 -0.91081001 -1.18116272]\n",
            " [-0.65742806 -0.90226581 -1.17008237]\n",
            " [-0.80225409 -1.10102759 -1.42784195]]\n",
            "\n",
            "approxGradWeight: [[-0.82414648 -1.13107426 -1.46680784]\n",
            " [-0.76886629 -1.05520661 -1.36842058]\n",
            " [-0.66365211 -0.91080856 -1.18116121]\n",
            " [-0.65742648 -0.90226439 -1.17008089]\n",
            " [-0.80225173 -1.10102547 -1.42783974]]\n"
          ]
        }
      ],
      "source": [
        "\n",
        "approxGradWeight2 = np.zeros_like(linear2.weight)\n",
        "approxGradBias2 = np.zeros_like(linear2.bias)\n",
        "\n",
        "# We will verify here that gradWeights are correct and leave it as an excercise\n",
        "# to verify the gradBias.\n",
        "epsilon = 0.0001\n",
        "for i in range(0, linear2.weight.shape[0]):\n",
        "    for j in range(0, linear2.weight.shape[1]):\n",
        "        # Compute f(w)\n",
        "        fw = criterion.forward(sigmoid.forward(linear2.forward(sigmoid.forward(linear1.forward(x)))),y)\n",
        "        # Loss function.\n",
        "        # Compute f(w1 + eps)\n",
        "        shifted_weight_2= np.copy(linear2.weight)\n",
        "        shifted_weight_2[i, j] = shifted_weight_2[i, j] + epsilon\n",
        "        shifted_linear2 = nn_Linear(5, 3)\n",
        "        shifted_linear2.bias = linear2.bias\n",
        "        shifted_linear2.weight = shifted_weight_2\n",
        "        fw_epsilon = criterion.forward(sigmoid.forward(shifted_linear2.forward(sigmoid.forward(linear1.forward(x)))),y) # Loss function\n",
        "        # Compute (f(w + eps) - f(w)) / eps\n",
        "        approxGradWeight2[i, j] = (fw_epsilon - fw) / epsilon\n",
        "\n",
        "        # Compute f(w1 + eps)\n",
        "\n",
        "\n",
        "# These two outputs should be similar up to some precision.\n",
        "print('gradWeight: ' + str(gradWeight2))\n",
        "print('\\napproxGradWeight: ' + str(approxGradWeight2))"
      ]
    },
    {
      "cell_type": "markdown",
      "metadata": {
        "id": "pcVHt1uCgO-p"
      },
      "source": [
        "## 2.3. Activation functions [10 points].\n",
        "\n",
        "As was covered in class, there are other activation functions that can be used instead of sigmoid. Implement below the forward and backward operation for two popular activation functions.\n",
        "\n",
        "$$\\text{ReLU}(\\mathbf{x}) = \\text{max}(0, \\mathbf{x})$$\n",
        "\n",
        "$$\\text{Tanh($\\mathbf{x}$)} = \\text{tanh}(\\mathbf{x}) = \\frac{e^{\\mathbf{x}} - e^{-\\mathbf{x}}}{e^{\\mathbf{x}} + e^{-\\mathbf{x}}}$$\n",
        "\n",
        "Note, that in the above activations are applied element-wise on the input vector $\\mathbf{x}$."
      ]
    },
    {
      "cell_type": "code",
      "execution_count": 8,
      "metadata": {
        "collapsed": true,
        "id": "exffeGbJgO-p"
      },
      "outputs": [],
      "source": [
        "# Rectified linear unit\n",
        "from operator import xor\n",
        "\n",
        "\n",
        "class nn_ReLU:\n",
        "    def forward(self, x):\n",
        "        # Forward pass.\n",
        "        return np.maximum(0,x)\n",
        "    \n",
        "    def backward(self, x, gradOutput):\n",
        "        # Backward pass\n",
        "        x[x<=0] = 0\n",
        "        x[x>0] = 0\n",
        "        return np.multiply(x,gradOutput)\n",
        "# Hyperbolic tangent.\n",
        "class nn_Tanh:\n",
        "    def forward(self, x):\n",
        "        # Forward pass.\n",
        "        return np.tanh(x)\n",
        "        \n",
        "    def backward(self, x, gradOutput):\n",
        "        # Backward pass\n",
        "        return np.multiply(1/np.cosh(x),gradOutput)\n"
      ]
    },
    {
      "cell_type": "markdown",
      "metadata": {
        "id": "rPA7lM5NgO-q"
      },
      "source": [
        "## 2.4. Loss functions [10 points].\n",
        "\n",
        "As discussed in class, there are other loss functions that can be used instead of a mean squared error. Implement the forward and backward operations for the following very common loss function where $\\widehat{\\mathbf{y}}$ is a vector of predicted values, and $\\mathbf{y}$ is the vector with ground-truth labels. Assume both vectors are of size $n$. \n",
        "\n",
        "$$\\text{BinaryCrossEntropy}(\\mathbf{y}, \\widehat{\\mathbf{y}}) = - \\frac{1}{n}\\sum_{i=1}^{i=n} [y_i\\text{log}(\\widehat{y}_i) + (1 - y_i)\\text{log}(1 - \\widehat{y}_i)]$$,\n",
        "\n",
        "The binary cross entropy loss assumes that the vector $\\mathbf{y}$ only has values that are either 0 and 1, and the prediction vector $\\widehat{\\mathbf{y}}$ contains values between 0 and 1 (e.g. the output of a $\\text{sigmoid}$ layer)."
      ]
    },
    {
      "cell_type": "code",
      "execution_count": null,
      "metadata": {
        "collapsed": true,
        "id": "dod6reDTgO-q"
      },
      "outputs": [],
      "source": [
        "# Binary cross entropy criterion. Useful for classification as opposed to regression.\n",
        "class nn_BCECriterion:\n",
        "    def forward(self, predictions, labels):\n",
        "        # Forward pass.\n",
        "        \n",
        "    def backward(self, predictions, labels):\n",
        "        # Backward pass."
      ]
    },
    {
      "cell_type": "markdown",
      "metadata": {
        "id": "9iS6liR3gO-r"
      },
      "source": [
        "<b>Optional</b> [10 points]: Most deep learning libraries support batches, meaning you can forward, and backward a set of inputs. So far the code supports batches in the forward pass. However, the backward pass does not support batches. Modify the code in backward function of the nn_Linear class to support batches. Then test the implementation by training the network in Section 2.1 using a batch size of 32. <span style=\"color:#666\">(Keep in mind that the gradWeight and gradBias vectors should accumulate the gradients of each sample in the batch. This is because the gradient of the loss with respect to the batch is the sum of the gradients with respect to each sample in the batch. This means that for a batch of size 32, the sum will be over the 32 samples).</span>"
      ]
    },
    {
      "cell_type": "markdown",
      "metadata": {
        "id": "-QohUVpGgO-r"
      },
      "source": [
        "# 3. Behaviour of neural networks [10 points].\n",
        "\n",
        "Prior to this section, all experiments were done in a dummy dataset where it is difficult to see how neural networks behave on more realistic data. In this section the goal is to get a feel for how newural networks behave and what effect hidden statest may play. Below is the code that generates and visualizes a classification dataset of 400 samples. "
      ]
    },
    {
      "cell_type": "code",
      "execution_count": null,
      "metadata": {
        "collapsed": true,
        "id": "JJ2BDhMLgO-s"
      },
      "outputs": [],
      "source": [
        "%matplotlib inline\n",
        "\n",
        "import numpy as np\n",
        "import matplotlib.pyplot as plt\n",
        "import sklearn\n",
        "import sklearn.datasets\n",
        "import sklearn.linear_model\n",
        "import sklearn.datasets\n",
        "\n",
        "def load_planar_dataset():\n",
        "    np.random.seed(1)\n",
        "    m = 400                # number of examples\n",
        "    N = int(m/2)           # number of points per class\n",
        "    D = 2                  # dimensionality\n",
        "    X = np.zeros((m,D))    # data matrix where each row is a single example\n",
        "    Y = np.zeros((m,1), dtype='uint8') # labels vector (0 for red, 1 for blue)\n",
        "    a = 4                  # maximum ray of the flower\n",
        "\n",
        "    for j in range(2):\n",
        "        ix = range(N*j,N*(j+1))\n",
        "        t = np.linspace(j*3.12,(j+1)*3.12,N) + np.random.randn(N)*0.2 # theta\n",
        "        r = a*np.sin(4*t) + np.random.randn(N)*0.2                    # radius\n",
        "        X[ix] = np.c_[r*np.sin(t), r*np.cos(t)]\n",
        "        Y[ix] = j\n",
        "        \n",
        "    X = X.T\n",
        "    Y = Y.T\n",
        "\n",
        "    return X, Y\n",
        "\n",
        "# Load the data\n",
        "X, Y = load_planar_dataset();\n",
        "\n",
        "# Visualize the data:\n",
        "plt.scatter(X[0, :], X[1, :], c=Y[0, :], s=40, cmap=plt.cm.Spectral);"
      ]
    },
    {
      "cell_type": "markdown",
      "metadata": {
        "id": "v3ElKAWtgO-s"
      },
      "source": [
        "## 3.1 Two-layer neural network with 1-hidden layer of size = 1.\n",
        "\n",
        "Reimplement the network from Section 2.1 here, train it and then display the results. "
      ]
    },
    {
      "cell_type": "code",
      "execution_count": null,
      "metadata": {
        "collapsed": true,
        "id": "LmYvxjj7gO-s"
      },
      "outputs": [],
      "source": [
        "# Build a two-layer neural network (so one hidden layer) with sigmoid activations \n",
        "# and MSE loss. The hidden_state_dimensionality should be set to 1 using the variable\n",
        "# below.\n",
        "hidden_state_size = 1; \n",
        "\n",
        "# Define the 2-layer network here (fill in yout code)\n",
        "\n",
        "\n",
        "# Optimize the parameters of the neural network using stochastic gradient descent\n",
        "# using the following parameters\n",
        "\n",
        "learningRate = 0.01\n",
        "numberEpochs = 300\n",
        "\n",
        "for epoch in range(0, numberEpochs):\n",
        "    loss = 0\n",
        "    for i in range(0, Y.size):        \n",
        "        # Forward pass (fill in your code)\n",
        "       \n",
        "        # Backward pass (fill in your code)\n",
        "        \n",
        "        # Update gradients (fill in your code)\n",
        "\n",
        "    if epoch % 10 == 0: print('epoch[%d] = %.8f' % (epoch, loss / dataset_size))\n",
        "\n",
        "\n",
        "%matplotlib inline\n",
        "\n",
        "classEstimate = np.zeros((400,1), dtype='uint8')\n",
        "\n",
        "for i in range(0, 400):        \n",
        "    # Forward pass (fill in your code)\n",
        "       \n",
        "        \n",
        "    classEstimate[i,0] = (y_hat > 0.5)\n",
        "\n",
        "plt.scatter(X[0, :], X[1, :], c=classEstimate[:,0], s=40, cmap=plt.cm.Spectral);"
      ]
    },
    {
      "cell_type": "markdown",
      "metadata": {
        "id": "kwbxbjZLgO-t"
      },
      "source": [
        "## 3.2 Two-layer neural network with 1-hidden layer of size = 5.\n",
        "\n",
        "Redo the experiment with the hidden layer of size 5 and visualize the result. <b>Describe in a separate cell of the notebook what is different between the two runs </b>. What behaviout did network with largerr hidden state exhibit that the one with smaller one did not? Why? "
      ]
    },
    {
      "cell_type": "code",
      "execution_count": null,
      "metadata": {
        "collapsed": true,
        "id": "PpHIRfG9gO-t"
      },
      "outputs": [],
      "source": [
        "hidden_state_size = 5; \n",
        "\n",
        "# Rest should be taken from above "
      ]
    },
    {
      "cell_type": "markdown",
      "metadata": {
        "id": "RdidXCVzgO-u"
      },
      "source": [
        "<div style=\"font-size:0.8em;color:#888;text-align:center;padding-top:20px;\">If you find any errors or have questions about the assignment please contact instructor at lsigal@cs.ubc.ca or post the question on Piazza. "
      ]
    },
    {
      "cell_type": "markdown",
      "metadata": {
        "id": "4ap_IG-ztSn7"
      },
      "source": [
        "# 4. PyTorch and Debugging [20 points].\n",
        "\n",
        "In this section the goal is to experiment with PyTorch and also with the typical debugging techniques used in deep learning and simple debugging tools available to you. In this part you are given re-implementation of the dataset and neural network you worked with in Section 3 of the assignment. However, this re-implementation is based on the data structures and functions available in PyTorch. Note that both the data loader and the model code contain a few strategically placed **bugs**. Your goal in this part of the assignment is to use the provided strategies to discover those bugs. "
      ]
    },
    {
      "cell_type": "markdown",
      "metadata": {
        "id": "d-QHKwuANBcO"
      },
      "source": [
        "##4.1 Dataloader \n",
        "\n",
        "First thing that typically happens in PyTorch code is definition of a dataloader. A dataloader is used to load and organize the data for training, validation and testing. We are providing a slightly buggy implementation below. "
      ]
    },
    {
      "cell_type": "code",
      "execution_count": 1,
      "metadata": {
        "id": "2k2I2QvowZ9E"
      },
      "outputs": [
        {
          "ename": "ModuleNotFoundError",
          "evalue": "No module named 'matplotlib'",
          "output_type": "error",
          "traceback": [
            "\u001b[0;31m---------------------------------------------------------------------------\u001b[0m",
            "\u001b[0;31mModuleNotFoundError\u001b[0m                       Traceback (most recent call last)",
            "Cell \u001b[0;32mIn [1], line 1\u001b[0m\n\u001b[0;32m----> 1\u001b[0m \u001b[43mget_ipython\u001b[49m\u001b[43m(\u001b[49m\u001b[43m)\u001b[49m\u001b[38;5;241;43m.\u001b[39;49m\u001b[43mrun_line_magic\u001b[49m\u001b[43m(\u001b[49m\u001b[38;5;124;43m'\u001b[39;49m\u001b[38;5;124;43mmatplotlib\u001b[39;49m\u001b[38;5;124;43m'\u001b[39;49m\u001b[43m,\u001b[49m\u001b[43m \u001b[49m\u001b[38;5;124;43m'\u001b[39;49m\u001b[38;5;124;43minline\u001b[39;49m\u001b[38;5;124;43m'\u001b[39;49m\u001b[43m)\u001b[49m\n\u001b[1;32m      3\u001b[0m \u001b[38;5;28;01mimport\u001b[39;00m \u001b[38;5;21;01mnumpy\u001b[39;00m \u001b[38;5;28;01mas\u001b[39;00m \u001b[38;5;21;01mnp\u001b[39;00m\n\u001b[1;32m      4\u001b[0m \u001b[38;5;28;01mimport\u001b[39;00m \u001b[38;5;21;01mmatplotlib\u001b[39;00m\u001b[38;5;21;01m.\u001b[39;00m\u001b[38;5;21;01mpyplot\u001b[39;00m \u001b[38;5;28;01mas\u001b[39;00m \u001b[38;5;21;01mplt\u001b[39;00m\n",
            "File \u001b[0;32m~/Library/Python/3.9/lib/python/site-packages/IPython/core/interactiveshell.py:2309\u001b[0m, in \u001b[0;36mInteractiveShell.run_line_magic\u001b[0;34m(self, magic_name, line, _stack_depth)\u001b[0m\n\u001b[1;32m   2307\u001b[0m     kwargs[\u001b[39m'\u001b[39m\u001b[39mlocal_ns\u001b[39m\u001b[39m'\u001b[39m] \u001b[39m=\u001b[39m \u001b[39mself\u001b[39m\u001b[39m.\u001b[39mget_local_scope(stack_depth)\n\u001b[1;32m   2308\u001b[0m \u001b[39mwith\u001b[39;00m \u001b[39mself\u001b[39m\u001b[39m.\u001b[39mbuiltin_trap:\n\u001b[0;32m-> 2309\u001b[0m     result \u001b[39m=\u001b[39m fn(\u001b[39m*\u001b[39;49margs, \u001b[39m*\u001b[39;49m\u001b[39m*\u001b[39;49mkwargs)\n\u001b[1;32m   2310\u001b[0m \u001b[39mreturn\u001b[39;00m result\n",
            "File \u001b[0;32m~/Library/Python/3.9/lib/python/site-packages/IPython/core/magics/pylab.py:99\u001b[0m, in \u001b[0;36mPylabMagics.matplotlib\u001b[0;34m(self, line)\u001b[0m\n\u001b[1;32m     97\u001b[0m     \u001b[39mprint\u001b[39m(\u001b[39m\"\u001b[39m\u001b[39mAvailable matplotlib backends: \u001b[39m\u001b[39m%s\u001b[39;00m\u001b[39m\"\u001b[39m \u001b[39m%\u001b[39m backends_list)\n\u001b[1;32m     98\u001b[0m \u001b[39melse\u001b[39;00m:\n\u001b[0;32m---> 99\u001b[0m     gui, backend \u001b[39m=\u001b[39m \u001b[39mself\u001b[39;49m\u001b[39m.\u001b[39;49mshell\u001b[39m.\u001b[39;49menable_matplotlib(args\u001b[39m.\u001b[39;49mgui\u001b[39m.\u001b[39;49mlower() \u001b[39mif\u001b[39;49;00m \u001b[39misinstance\u001b[39;49m(args\u001b[39m.\u001b[39;49mgui, \u001b[39mstr\u001b[39;49m) \u001b[39melse\u001b[39;49;00m args\u001b[39m.\u001b[39;49mgui)\n\u001b[1;32m    100\u001b[0m     \u001b[39mself\u001b[39m\u001b[39m.\u001b[39m_show_matplotlib_backend(args\u001b[39m.\u001b[39mgui, backend)\n",
            "File \u001b[0;32m~/Library/Python/3.9/lib/python/site-packages/IPython/core/interactiveshell.py:3458\u001b[0m, in \u001b[0;36mInteractiveShell.enable_matplotlib\u001b[0;34m(self, gui)\u001b[0m\n\u001b[1;32m   3437\u001b[0m \u001b[39mdef\u001b[39;00m \u001b[39menable_matplotlib\u001b[39m(\u001b[39mself\u001b[39m, gui\u001b[39m=\u001b[39m\u001b[39mNone\u001b[39;00m):\n\u001b[1;32m   3438\u001b[0m     \u001b[39m\"\"\"Enable interactive matplotlib and inline figure support.\u001b[39;00m\n\u001b[1;32m   3439\u001b[0m \n\u001b[1;32m   3440\u001b[0m \u001b[39m    This takes the following steps:\u001b[39;00m\n\u001b[0;32m   (...)\u001b[0m\n\u001b[1;32m   3456\u001b[0m \u001b[39m        display figures inline.\u001b[39;00m\n\u001b[1;32m   3457\u001b[0m \u001b[39m    \"\"\"\u001b[39;00m\n\u001b[0;32m-> 3458\u001b[0m     \u001b[39mfrom\u001b[39;00m \u001b[39mmatplotlib_inline\u001b[39;00m\u001b[39m.\u001b[39;00m\u001b[39mbackend_inline\u001b[39;00m \u001b[39mimport\u001b[39;00m configure_inline_support\n\u001b[1;32m   3460\u001b[0m     \u001b[39mfrom\u001b[39;00m \u001b[39mIPython\u001b[39;00m\u001b[39m.\u001b[39;00m\u001b[39mcore\u001b[39;00m \u001b[39mimport\u001b[39;00m pylabtools \u001b[39mas\u001b[39;00m pt\n\u001b[1;32m   3461\u001b[0m     gui, backend \u001b[39m=\u001b[39m pt\u001b[39m.\u001b[39mfind_gui_and_backend(gui, \u001b[39mself\u001b[39m\u001b[39m.\u001b[39mpylab_gui_select)\n",
            "File \u001b[0;32m~/Library/Python/3.9/lib/python/site-packages/matplotlib_inline/__init__.py:1\u001b[0m\n\u001b[0;32m----> 1\u001b[0m \u001b[39mfrom\u001b[39;00m \u001b[39m.\u001b[39;00m \u001b[39mimport\u001b[39;00m backend_inline, config  \u001b[39m# noqa\u001b[39;00m\n\u001b[1;32m      2\u001b[0m __version__ \u001b[39m=\u001b[39m \u001b[39m\"\u001b[39m\u001b[39m0.1.6\u001b[39m\u001b[39m\"\u001b[39m\n",
            "File \u001b[0;32m~/Library/Python/3.9/lib/python/site-packages/matplotlib_inline/backend_inline.py:6\u001b[0m\n\u001b[1;32m      1\u001b[0m \u001b[39m\"\"\"A matplotlib backend for publishing figures via display_data\"\"\"\u001b[39;00m\n\u001b[1;32m      3\u001b[0m \u001b[39m# Copyright (c) IPython Development Team.\u001b[39;00m\n\u001b[1;32m      4\u001b[0m \u001b[39m# Distributed under the terms of the BSD 3-Clause License.\u001b[39;00m\n\u001b[0;32m----> 6\u001b[0m \u001b[39mimport\u001b[39;00m \u001b[39mmatplotlib\u001b[39;00m\n\u001b[1;32m      7\u001b[0m \u001b[39mfrom\u001b[39;00m \u001b[39mmatplotlib\u001b[39;00m \u001b[39mimport\u001b[39;00m colors\n\u001b[1;32m      8\u001b[0m \u001b[39mfrom\u001b[39;00m \u001b[39mmatplotlib\u001b[39;00m\u001b[39m.\u001b[39;00m\u001b[39mbackends\u001b[39;00m \u001b[39mimport\u001b[39;00m backend_agg\n",
            "\u001b[0;31mModuleNotFoundError\u001b[0m: No module named 'matplotlib'"
          ]
        }
      ],
      "source": [
        "%matplotlib inline\n",
        "\n",
        "import numpy as np\n",
        "import matplotlib.pyplot as plt\n",
        "\n",
        "import torch\n",
        "import torch.utils.data as data\n",
        "import torch.nn as nn\n",
        "import random\n",
        "\n",
        "class PlanarDataset(data.Dataset):\n",
        "    def __init__(self,num_examples=400):\n",
        "        ## Function to initialize the dataset class\n",
        "        np.random.seed(1)\n",
        "        m = 400                  # number of examples\n",
        "        N = int(m/2)             # number of points per class\n",
        "        D = 2                    # dimensionality\n",
        "        a = 4                    # maximum ray of the flower\n",
        "\n",
        "        self.X = np.zeros((m,D)) # data matrix where each row is a single example\n",
        "        self.Y = np.zeros((m,1), dtype='uint8') # labels vector (0 for red, 1 for blue)\n",
        "\n",
        "        for j in range(2):\n",
        "            ix = range(N*j,N*(j+1))\n",
        "            t = np.linspace(j*3.12,(j+1)*3.12,N) + np.random.randn(N)*0.2 # theta\n",
        "            r = a*np.sin(4*t) + np.random.randn(N)*0.2                    # radius\n",
        "            self.X[ix] = np.c_[r*np.sin(t), r*np.cos(t)]\n",
        "            self.Y[ix] = random.randint(0, 1) \n",
        "\n",
        "    def __getitem__(self, index):\n",
        "        ## Return a data point given an index. Convert numpy array to Pytorch Tensor.\n",
        "        return torch.from_numpy(self.X[index,:],).type(torch.FloatTensor), torch.from_numpy(self.Y[index,:]).type(torch.FloatTensor)\n",
        "\n",
        "\n",
        "    def __len__(self):\n",
        "        ## Return the length of the dataset\n",
        "        return self.X.shape[0]\n",
        "    \n",
        "    def get_all_data(self):\n",
        "      ## Return all the data. Not something you would do for large datasets. Just used here for convenience of visualization\n",
        "      return self.X.T, self.Y.T\n"
      ]
    },
    {
      "cell_type": "markdown",
      "metadata": {
        "id": "lLPWDvCqJH0q"
      },
      "source": [
        "## 4.2 **Debugging Strategy 1**: Always visualize the data.\n",
        "\n",
        "Please use the code below to visualize the data from the dataloader above. Please run this cell multiple times. You should see that the visualization changes. This means that something non-determenistic is happening in the datalader. You should be able spot what is happening from visualization. Once you do, go back and fix the data loader above. \n",
        "\n",
        "**Hint:** only one line needs changing in the dataloader. "
      ]
    },
    {
      "cell_type": "code",
      "execution_count": null,
      "metadata": {
        "id": "KVDtrhWYL-0g"
      },
      "outputs": [],
      "source": [
        "# Load the data\n",
        "planarDataObj = PlanarDataset()\n",
        "X, Y = planarDataObj.get_all_data()\n",
        "\n",
        "# Visualize the data:\n",
        "plt.scatter(X[0, :], X[1, :], c=Y[0, :], s=40, cmap=plt.cm.Spectral);"
      ]
    },
    {
      "cell_type": "markdown",
      "metadata": {
        "id": "frNnA41BOEFD"
      },
      "source": [
        "## 4.3 Model definition and optimization\n",
        "\n",
        "Functions bellow define a version of neural network with a single hidden layer, from Section 3, using PyTorch functions. Note that similarly to above this code is not bug-free."
      ]
    },
    {
      "cell_type": "code",
      "execution_count": null,
      "metadata": {
        "id": "alCDsgiyyGiB"
      },
      "outputs": [],
      "source": [
        "hidden_state_size = 5; \n",
        "\n",
        "# Define a model and loss \n",
        "linear1 = nn.Linear(in_features=2, out_features=hidden_state_size)\n",
        "for param in linear1.parameters():  \n",
        "    param.requires_grad = False\n",
        "sigmoid = nn.Sigmoid()\n",
        "linear2 = nn.Linear(in_features=hidden_state_size, out_features=1) \n",
        "model  = nn.Sequential(linear1,sigmoid,linear2,sigmoid)\n",
        "\n",
        "# Define a loss \n",
        "MSELoss = nn.MSELoss()\n",
        "\n",
        "# Set hyperparameters\n",
        "learning_rate = 0.1\n",
        "num_epochs = 300\n",
        "batchsize = 64\n",
        "\n",
        "# Setup the optimizer \n",
        "optimizer = torch.optim.SGD(model.parameters(), lr=learning_rate, momentum=0.9)\n",
        "\n",
        "# Seup the dataset and dataloaders (one for training and one for testing)\n",
        "planarDataObj = PlanarDataset()\n",
        "dataset_size = planarDataObj.__len__()\n",
        "train_loader = torch.utils.data.DataLoader(planarDataObj, batch_size=batchsize, shuffle=True) ## Shuffle will randomly shuffle the data\n",
        "test_loader = torch.utils.data.DataLoader(planarDataObj, batch_size=batchsize, shuffle=False)\n",
        "\n",
        "# Training loop\n",
        "for epoch in range(num_epochs):\n",
        "    running_loss = 0.0\n",
        "    for iter, data in enumerate(train_loader):\n",
        "        # Get data for the minibatch\n",
        "        input,target = data\n",
        "        \n",
        "        # We have to set gradients to zero at the start of every iteration\n",
        "        optimizer.zero_grad() \n",
        "        \n",
        "        # Forward pass through the model\n",
        "        output = model(input)\n",
        "        loss = MSELoss(output,target)\n",
        "        running_loss += loss.item()\n",
        "        \n",
        "        # Backpropagation\n",
        "        loss.backward()\n",
        "        optimizer.step()\n",
        "\n",
        "    # Print the loss per epoch    \n",
        "    if epoch % 10 == 0: print('epoch[%d] = %.8f' % (epoch, running_loss / dataset_size))\n",
        "\n",
        "\n",
        "%matplotlib inline\n",
        "\n",
        "# Put model in evaluation mode\n",
        "model.eval()\n",
        "\n",
        "classEstimate = np.zeros((400,1), dtype='uint8')\n",
        "all_data = np.zeros((400,2))\n",
        "\n",
        "start_ind, end_ind = 0,0\n",
        "\n",
        "# Testing loop\n",
        "for i, data in  enumerate(test_loader):\n",
        "    # Get data for the minibatch\n",
        "    input, target = data\n",
        "    num_samples = input.shape[0]\n",
        "    \n",
        "    # Forward pass through the trained model\n",
        "    output = model(input)\n",
        "\n",
        "    # Convert torch tensor output to numpy tensor\n",
        "    output = output.detach().numpy()\n",
        "\n",
        "    # Bookeeping on predictions\n",
        "    end_ind = start_ind + num_samples\n",
        "    all_data[start_ind:end_ind,:] = input.detach().numpy()\n",
        "    classEstimate[start_ind:end_ind,0] = (output.squeeze() > 0.5)\n",
        "    start_ind = end_ind\n",
        "\n",
        "# Plot the result\n",
        "all_data = all_data.T\n",
        "plt.scatter(all_data[0, :],all_data[1, :], c=classEstimate[:,0], s=40, cmap=plt.cm.Spectral);"
      ]
    },
    {
      "cell_type": "markdown",
      "metadata": {
        "id": "SzF-GfZbS5FH"
      },
      "source": [
        "## 4.4 **Debugging Strategy 2:** Remove all sources of randomness from the code\n",
        "\n",
        "Note that while it is clear that the code above isn't performing as expected (loss does not go down) with every run of the cell you should see a slightly different result and order of loss values. This is because of inherent randomness in the code. While the randomness is good when learning (avoids biases) it is bad when debugging for obvious reasons. Modify the code above to make sure it executes the same way every time you run it. For this you will want to make use of the function below and also fix the randomness in dataloader. \n",
        "\n",
        "**Note:** Use the function below as well as look at ensuring that the order of data in the dataloader remains fixed. You may want to consult PyTorch guidelines on reproducibility https://pytorch.org/docs/stable/notes/randomness.html."
      ]
    },
    {
      "cell_type": "code",
      "execution_count": 8,
      "metadata": {
        "id": "EEIGzLht1-0c"
      },
      "outputs": [],
      "source": [
        "def fix_seeds():\n",
        "    random_seed = 1      # or coluld be any of your favorite number \n",
        "    torch.manual_seed(random_seed)\n",
        "    torch.cuda.manual_seed(random_seed)\n",
        "    torch.backends.cudnn.deterministic = True\n",
        "    torch.backends.cudnn.benchmark = False\n",
        "    np.random.seed(random_seed)\n",
        "    random.seed(random_seed)\n",
        "\n",
        "\n",
        "# Copy the code from Section 4.3 and modify accordingly"
      ]
    },
    {
      "cell_type": "markdown",
      "metadata": {
        "id": "AU79m3mA3Mmm"
      },
      "source": [
        "## 4.5 **Debugging Strategy 3:** Train with minimal amount of data \n",
        "\n",
        "It may still be difficult to identify what is wrong based on results in Section 4.4. A really good strategy, especially for model debugging, is to try optimizing with a single example/sample. Modify the code from Section 4.4 in order to do this. Once you do and run it, it should be obvious that there is a bug in your code and what that bug might be. "
      ]
    },
    {
      "cell_type": "code",
      "execution_count": 9,
      "metadata": {
        "id": "jKNy5BWA4EzF"
      },
      "outputs": [],
      "source": [
        "# Copy the code from Section 4.4 and modify to run with batch size of 1 and only one / same batch used in each epoch."
      ]
    },
    {
      "cell_type": "code",
      "execution_count": null,
      "metadata": {
        "id": "kp-4-gESCP9k"
      },
      "outputs": [],
      "source": [
        "# Once you find the bug, fix it here and make sure you can effectively reproduce the result in Section 3"
      ]
    },
    {
      "cell_type": "markdown",
      "metadata": {
        "id": "L5ggif0e4TSb"
      },
      "source": [
        "## 4.6 **Debugging Strategy 4:** Use Tensorboard or similar.\n",
        "\n",
        "At this point the model and training code should be correct and you should be able to train the model. However, the hyperparameters may still not be optimal. For hyperparameter tuning and to log many experiments it is advisable to use some way to visualise the training process. Tensorboard provides such ability. Another alternative is Weights & Biases.  \n",
        "\n",
        "Let’s now try using TensorBoard with PyTorch! Before logging anything, we need to create a SummaryWriter instance. Writer will output to ./runs/ directory by default."
      ]
    },
    {
      "cell_type": "code",
      "execution_count": null,
      "metadata": {
        "id": "Icqw80OZ-Bdj"
      },
      "outputs": [],
      "source": [
        "import torch\n",
        "from torch.utils.tensorboard import SummaryWriter\n",
        "writer = SummaryWriter()"
      ]
    },
    {
      "cell_type": "markdown",
      "metadata": {
        "id": "Uu0LTjEi8EzP"
      },
      "source": [
        "We can use `add_scalar(tag, scalar_value, global_step=None, walltime=None)` to log scalar values (e.g. loss). We have to call `flush()` method to make sure that all pending events have been written to disk. Finally if we do not need the summary writer anymore, then call `close()` method.\n",
        "\n",
        "Your next task is to slightly modify the code to log the Loss and Accuracy into the Tesnorboard log file. This will require modifying the training loop as follows:\n",
        "\n",
        "```\n",
        "for epoch in range(num_epochs):\n",
        "    running_loss = 0.0\n",
        "    total_correct = 0\n",
        "    for iter, data in enumerate(train_loader):\n",
        "        # Get data for the minibatch\n",
        "        input,target = data\n",
        "\n",
        "        # We have to set gradients to zero at the start of every iteration\n",
        "        optimizer.zero_grad() \n",
        "\n",
        "        # Forward pass through the model\n",
        "        output = model(input)\n",
        "        loss = MSELoss(output,target)\n",
        "        running_loss += loss.item()\n",
        "        total_correct += output.argmax(dim=1).eq(target).sum().item()\n",
        "        \n",
        "        # Backpropagation\n",
        "        loss.backward()\n",
        "        optimizer.step()\n",
        "    \n",
        "    # Log accuracy and loss\n",
        "    writer.add_scalar(\"Loss/train\", running_loss, epoch)\n",
        "    writer.add_scalar(\"Accuracy\", total_correct/ dataset_size, epoch)\n",
        "        \n",
        "    if epoch % 10 == 0: print('epoch[%d] = %.8f' % (epoch, running_loss / dataset_size))\n",
        "\n",
        "# Flush and close the log file\n",
        "writer.flush()\n",
        "writer.close()\n",
        "```\n",
        "\n",
        "\n"
      ]
    },
    {
      "cell_type": "code",
      "execution_count": null,
      "metadata": {
        "id": "X1Qy0VVN-HuY"
      },
      "outputs": [],
      "source": [
        "# Insert your code here"
      ]
    },
    {
      "cell_type": "markdown",
      "metadata": {
        "id": "IGPK-4_I7t8s"
      },
      "source": [
        "Now install the tensorboard"
      ]
    },
    {
      "cell_type": "code",
      "execution_count": null,
      "metadata": {
        "id": "BOAJcbKT7zIL"
      },
      "outputs": [],
      "source": [
        "!pip install tensorboard"
      ]
    },
    {
      "cell_type": "markdown",
      "metadata": {
        "id": "UqZkEr5a71Mv"
      },
      "source": [
        "Now to start tensorboard in google colab we can run following command."
      ]
    },
    {
      "cell_type": "code",
      "execution_count": null,
      "metadata": {
        "id": "lV4z75Ak-fVO"
      },
      "outputs": [],
      "source": [
        "%load_ext tensorboard\n",
        "%tensorboard --logdir runs"
      ]
    }
  ],
  "metadata": {
    "colab": {
      "provenance": []
    },
    "kernelspec": {
      "display_name": "Python 3.9.13 ('pytorch_env')",
      "language": "python",
      "name": "python3"
    },
    "language_info": {
      "codemirror_mode": {
        "name": "ipython",
        "version": 3
      },
      "file_extension": ".py",
      "mimetype": "text/x-python",
      "name": "python",
      "nbconvert_exporter": "python",
      "pygments_lexer": "ipython3",
      "version": "3.9.13"
    },
    "vscode": {
      "interpreter": {
        "hash": "57d879c1bab31ddce3f98747a90aac1ecdf0d747d4f9b6f921c92f41b19b21c9"
      }
    }
  },
  "nbformat": 4,
  "nbformat_minor": 0
}
