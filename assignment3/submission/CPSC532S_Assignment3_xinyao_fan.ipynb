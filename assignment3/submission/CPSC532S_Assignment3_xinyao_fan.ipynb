{
  "nbformat": 4,
  "nbformat_minor": 0,
  "metadata": {
    "kernelspec": {
      "display_name": "Python 3",
      "language": "python",
      "name": "python3"
    },
    "language_info": {
      "codemirror_mode": {
        "name": "ipython",
        "version": 3
      },
      "file_extension": ".py",
      "mimetype": "text/x-python",
      "name": "python",
      "nbconvert_exporter": "python",
      "pygments_lexer": "ipython3",
      "version": "3.6.3"
    },
    "colab": {
      "provenance": []
    },
    "gpuClass": "standard",
    "accelerator": "GPU"
  },
  "cells": [
    {
      "cell_type": "markdown",
      "metadata": {
        "id": "BnzrOsd0bZHS"
      },
      "source": [
        "# CPSC532S Assignment 3:  RNNs for Language Modeling"
      ]
    },
    {
      "cell_type": "code",
      "metadata": {
        "collapsed": true,
        "id": "t_cnRUY7dkdI"
      },
      "source": [
        "from collections import Counter\n",
        "from collections import defaultdict\n",
        "from gensim.models import Word2Vec\n",
        "from random import random\n",
        "from nltk import word_tokenize\n",
        "from nltk.translate.bleu_score import sentence_bleu\n",
        "from torch import nn\n",
        "from torch.autograd import Variable\n",
        "\n",
        "import numpy as np\n",
        "import torch\n",
        "import torch.nn.functional as F\n",
        "import json\n",
        "import itertools\n",
        "import torch\n",
        "import torch.nn as nn\n",
        "import torch.optim as optim\n",
        "import matplotlib.ticker as ticker\n",
        "import matplotlib.pyplot as plt"
      ],
      "execution_count": 58,
      "outputs": []
    },
    {
      "cell_type": "markdown",
      "metadata": {
        "id": "3oSmx8s7dkdK"
      },
      "source": [
        "# Data Acquisition\n",
        "\n",
        "\n",
        "The goal of this assignment is to translate English to Pig Latin. For this assignment, you must download the data and extract it into `data/`. The dataset contains four files, each containing a single caption on each line. There are two files for training (English vs Pig Latin) and two files for validation. We should have 20,000 sentences (one sentence per image in Assignment 2) in the training captions and 500 sentences in the validation captions (five sentences per image in Assignment 2)."
      ]
    },
    {
      "cell_type": "code",
      "metadata": {
        "colab": {
          "base_uri": "https://localhost:8080/"
        },
        "id": "LS3DYtiqdkdL",
        "outputId": "5b408cfa-ddf1-4566-aa7b-211cba560b79"
      },
      "source": [
        "from google.colab import drive\n",
        "\n",
        "drive.mount('/content/drive')\n",
        "\n",
        "# Load the data into memory.\n",
        "mscoco_train = json.load(open(\"/content/drive/My Drive/Colab Notebooks/data/train_captions.json\"))\n",
        "mscoco_val  = json.load(open('/content/drive/My Drive/Colab Notebooks/data/val_captions.json'))\n",
        "\n",
        "mscoco_piglatin_train = json.load(open('/content/drive/My Drive/Colab Notebooks/data/piglatin_train_captions.json'))\n",
        "mscoco_piglatin_val  = json.load(open('/content/drive/My Drive/Colab Notebooks/data/piglatin_val_captions.json'))\n",
        "\n",
        "train_sentences = [entry['caption'] for entry in mscoco_train['annotations']]\n",
        "val_sentences = [entry['caption'] for entry in mscoco_val['annotations']]\n",
        "\n",
        "piglatin_train_sentences = [entry['caption'] for entry in mscoco_piglatin_train['annotations']]\n",
        "piglatin_val_sentences = [entry['caption'] for entry in mscoco_piglatin_val['annotations']]\n",
        "\n",
        "print(len(train_sentences))\n",
        "print(len(val_sentences))\n",
        "print(len(piglatin_train_sentences))\n",
        "print(len(piglatin_val_sentences))\n",
        "print(train_sentences[0])\n",
        "print(piglatin_train_sentences[0])\n",
        "print(val_sentences[0])\n",
        "print(piglatin_val_sentences[0])"
      ],
      "execution_count": 59,
      "outputs": [
        {
          "output_type": "stream",
          "name": "stdout",
          "text": [
            "Drive already mounted at /content/drive; to attempt to forcibly remount, call drive.mount(\"/content/drive\", force_remount=True).\n",
            "20000\n",
            "500\n",
            "20000\n",
            "500\n",
            "A very clean and well decorated empty bathroom\n",
            "Away eryvay eanclay andway ellway ecoratedday emptyway athroombay\n",
            "Set of bananas hanging off of a banana tree.\n",
            "Etsay ofway ananasbay anginghay offway ofway away ananabay eetray.\n"
          ]
        }
      ]
    },
    {
      "cell_type": "markdown",
      "metadata": {
        "id": "eyGm8VmCdkdM"
      },
      "source": [
        "# Preprocessing\n",
        "\n",
        "The code provided below creates word embeddings for you to use. After creating the vocabulary, we construct both one-hot embeddings and word2vec embeddings. \n"
      ]
    },
    {
      "cell_type": "code",
      "metadata": {
        "colab": {
          "base_uri": "https://localhost:8080/"
        },
        "id": "rYWipM4tdkdN",
        "outputId": "16f0b6b0-c658-49a0-8429-c9f92421229d"
      },
      "source": [
        "import nltk\n",
        "nltk.download('punkt')\n",
        "\n",
        "sentences = train_sentences\n",
        "piglatin_sentences = piglatin_train_sentences\n",
        "\n",
        "# Lower-case the sentence, tokenize them and add <SOS> and <EOS> tokens\n",
        "sentences = [[\"<SOS>\"] + word_tokenize(sentence.lower()) + [\"<EOS>\"] for sentence in sentences]\n",
        "piglatin_sentences = [[\"<SOS>\"] + word_tokenize(sentence.lower()) + [\"<EOS>\"] for sentence in piglatin_sentences]\n",
        "\n",
        "# Create the vocabulary. Note that we add an <UNK> token to represent words not in our vocabulary.\n",
        "vocabularySize = 2000\n",
        "word_counts = Counter([word for sentence in sentences for word in sentence])\n",
        "piglatin_word_counts = Counter([word for sentence in piglatin_sentences for word in sentence])\n",
        "word_counts = word_counts + piglatin_word_counts\n",
        "vocabulary = [\"<UNK>\"] + [e[0] for e in word_counts.most_common(vocabularySize-1)]\n",
        "word2index = {word:index for index,word in enumerate(vocabulary)}\n",
        "\n",
        "# Build the one hot embeddings\n",
        "one_hot_embeddings = np.eye(vocabularySize)\n",
        "\n",
        "\n",
        "# Build the word2vec embeddings\n",
        "wordEncodingSize = 300\n",
        "filtered_sentences = [[word for word in sentence if word in word2index] for sentence in sentences]\n",
        "piglatin_filtered_sentences = [[word for word in sentence if word in word2index] for sentence in piglatin_sentences]\n",
        "all_filtered_sentences = filtered_sentences + piglatin_filtered_sentences\n",
        "w2v = Word2Vec(all_filtered_sentences, min_count=0, size=wordEncodingSize)\n",
        "w2v_embeddings = np.concatenate((np.zeros((1, wordEncodingSize)), w2v.wv.syn0))\n",
        "\n",
        "# Define the max sequence length to be the longest sentence in the training data. \n",
        "maxSequenceLength = max([len(sentence) for sentence in sentences])\n",
        "piglatin_maxSequenceLength = max([len(sentence) for sentence in piglatin_sentences])\n",
        "\n",
        "if piglatin_maxSequenceLength > maxSequenceLength:\n",
        "    maxSequenceLength = piglatin_maxSequenceLength\n",
        "\n",
        "print(maxSequenceLength)\n"
      ],
      "execution_count": 60,
      "outputs": [
        {
          "output_type": "stream",
          "name": "stderr",
          "text": [
            "[nltk_data] Downloading package punkt to /root/nltk_data...\n",
            "[nltk_data]   Package punkt is already up-to-date!\n"
          ]
        },
        {
          "output_type": "stream",
          "name": "stdout",
          "text": [
            "57\n"
          ]
        },
        {
          "output_type": "stream",
          "name": "stderr",
          "text": [
            "/usr/local/lib/python3.7/dist-packages/ipykernel_launcher.py:29: DeprecationWarning: Call to deprecated `syn0` (Attribute will be removed in 4.0.0, use self.wv.vectors instead).\n"
          ]
        }
      ]
    },
    {
      "cell_type": "markdown",
      "metadata": {
        "id": "_zYnaPC0i0A2"
      },
      "source": [
        "# Utilities functions\n",
        "\n",
        "\n",
        "Please look through the functions provided below carefully, as you will need to use all of them at some point in your assignment."
      ]
    },
    {
      "cell_type": "code",
      "metadata": {
        "colab": {
          "base_uri": "https://localhost:8080/"
        },
        "id": "-PFOm2o3jINX",
        "outputId": "3a10e955-2ec8-4e71-b9f5-a191ef7a8fca"
      },
      "source": [
        "def preprocess_numberize(sentence):\n",
        "    \"\"\"\n",
        "    Given a sentence, in the form of a string, this function will preprocess it\n",
        "    into list of numbers (denoting the index into the vocabulary).\n",
        "    \"\"\"\n",
        "    tokenized = word_tokenize(sentence.lower())\n",
        "    # Add the <SOS>/<EOS> tokens and numberize (all unknown words are represented as <UNK>).\n",
        "    tokenized = [\"<SOS>\"] + tokenized + [\"<EOS>\"]\n",
        "    numberized = [word2index.get(word, 0) for word in tokenized]\n",
        "    \n",
        "    return numberized\n",
        "\n",
        "def preprocess_one_hot(sentence):\n",
        "    \"\"\"\n",
        "    Given a sentence, in the form of a string, this function will preprocess it\n",
        "    into a numpy array of one-hot vectors.\n",
        "    \"\"\"\n",
        "    numberized = preprocess_numberize(sentence)\n",
        "    \n",
        "    # Represent each word as it's one-hot embedding\n",
        "    one_hot_embedded = one_hot_embeddings[numberized]\n",
        "    \n",
        "    return one_hot_embedded\n",
        "\n",
        "def preprocess_word2vec(sentence):\n",
        "    \"\"\"\n",
        "    Given a sentence, in the form of a string, this function will preprocess it\n",
        "    into a numpy array of word2vec embeddings.\n",
        "    \"\"\"\n",
        "    numberized = preprocess_numberize(sentence)\n",
        "    \n",
        "    # Represent each word as it's one-hot embedding\n",
        "    w2v_embedded = w2v_embeddings[numberized]\n",
        "    \n",
        "    return w2v_embedded\n",
        "\n",
        "def compute_bleu(reference_sentence, predicted_sentence):\n",
        "    \"\"\"\n",
        "    Given a reference sentence, and a predicted sentence, compute the BLEU similary between them.\n",
        "    \"\"\"\n",
        "    reference_tokenized = word_tokenize(reference_sentence.lower())\n",
        "    predicted_tokenized = word_tokenize(predicted_sentence.lower())\n",
        "    return sentence_bleu([reference_tokenized], predicted_tokenized)\n",
        "\n",
        "%matplotlib inline\n",
        "def showAttention(input_sentence, output_words, attentions):\n",
        "    # Set up figure with colorbar\n",
        "    fig = plt.figure(figsize = (10, 10), dpi = 150)\n",
        "    fig = plt.figure()\n",
        "    ax = fig.add_subplot(111)\n",
        "    cax = ax.matshow(attentions.numpy(), cmap='bone')\n",
        "    fig.colorbar(cax)\n",
        "\n",
        "    # Set up axes\n",
        "    ax.set_xticklabels([''] + input_sentence.split(' ') + ['<EOS>'], rotation=90)\n",
        "    ax.set_yticklabels([''] + output_words.split(' ') +['<EOS>'])\n",
        "\n",
        "    # Show label at every tick\n",
        "    ax.xaxis.set_major_locator(ticker.MultipleLocator(1))\n",
        "    ax.yaxis.set_major_locator(ticker.MultipleLocator(1))\n",
        "\n",
        "    plt.show()\n",
        "\n",
        "score1 = compute_bleu(\"<SOS>\" + train_sentences[0], \"<SOS>\" + train_sentences[0])\n",
        "score2 = compute_bleu(\"<SOS>\" + train_sentences[0], \"<SOS>\" + train_sentences[5])\n",
        "\n",
        "print('BLEU score distnace between \\n  \"' + train_sentences[0] + '\" \\nand\\n  \"'+ train_sentences[0] + '\" \\nis: ' + str(score1) +'\\n\\n')\n",
        "print('BLEU score distnace between \\n  \"' + train_sentences[0] + '\" \\nand\\n  \"'+ train_sentences[5] + '\" \\nis: ' + str(score2) +'\\n\\n')\n"
      ],
      "execution_count": 61,
      "outputs": [
        {
          "output_type": "stream",
          "name": "stdout",
          "text": [
            "BLEU score distnace between \n",
            "  \"A very clean and well decorated empty bathroom\" \n",
            "and\n",
            "  \"A very clean and well decorated empty bathroom\" \n",
            "is: 1.0\n",
            "\n",
            "\n",
            "BLEU score distnace between \n",
            "  \"A very clean and well decorated empty bathroom\" \n",
            "and\n",
            "  \"A few people sit on a dim transportation system. \" \n",
            "is: 0.1933853138176172\n",
            "\n",
            "\n"
          ]
        }
      ]
    },
    {
      "cell_type": "markdown",
      "metadata": {
        "id": "HZD-r_MckSLA"
      },
      "source": [
        "#Part 1: Encoder-Decoder Language Translation with Teacher-Forcing\n"
      ]
    },
    {
      "cell_type": "markdown",
      "metadata": {
        "id": "YSOKOJModkdN"
      },
      "source": [
        "## 1.1 Building a Language Decoder\n",
        "\n",
        "We now implement a language decoder. For now, we will have the decoder take a single training sample at a time (as opposed to batching). For our purposes, we will also avoid defining the embeddings as part of the model and instead pass in embedded inputs. While this is sometimes useful, as it learns/tunes the embeddings, we avoid doing it for the sake of simplicity and speed.\n",
        "\n",
        "Remember to use LSTM hidden units!"
      ]
    },
    {
      "cell_type": "code",
      "source": [
        " device = torch.device('cuda:0')"
      ],
      "metadata": {
        "id": "kHPSJkAeMxSo"
      },
      "execution_count": 62,
      "outputs": []
    },
    {
      "cell_type": "code",
      "metadata": {
        "collapsed": true,
        "id": "w7g1DsQcdkdO"
      },
      "source": [
        "class DecoderLSTM(nn.Module):\n",
        "    def __init__(self):\n",
        "        super(DecoderLSTM, self).__init__()\n",
        "\n",
        "\n",
        "        wordEncodingSize = 2000 \n",
        "        self.hidden_size = 300\n",
        "        \n",
        "        # Your code goes here (~4 lines or less)\n",
        "        self.lstm = nn.LSTM( wordEncodingSize, self.hidden_size).to(device)\n",
        "        self.out = nn.Linear(self.hidden_size, vocabularySize).to(device)\n",
        "        self.softmax = nn.LogSoftmax(dim=1)\n",
        "\n",
        "    def init_hidden(self):\n",
        "        return torch.zeros(1, 1, self.hidden_size, device = device) \n",
        "\n",
        "    def init_cell(self):\n",
        "        return torch.zeros(1, 1, self.hidden_size, device = device) # Your code goes here (1 line)\n",
        "\n",
        "    def forward(self, input_sentence , hidden, cell):\n",
        "        #  #input = self.embedding(input_sentence).view(1, 1, -1)\n",
        "         input=input_sentence.view(1,1,-1)\n",
        "         output, (hidden,cell) = self.lstm(input, (hidden,cell))\n",
        "         #shape of output : 1*1* hidden_size\n",
        "         output = self.out(output[0])\n",
        "         #shape of output (1*1*length_of_vocab)\n",
        "        \n",
        "         return output, hidden, cell\n"
      ],
      "execution_count": 63,
      "outputs": []
    },
    {
      "cell_type": "markdown",
      "metadata": {
        "id": "IJVTRdUkdkdR"
      },
      "source": [
        "\n",
        "## 1.2.  Building Language Encoder\n",
        "\n",
        "We now build a language encoder, which will encode an input word by word, and ultimately output a hidden state that we can then be used by our decoder."
      ]
    },
    {
      "cell_type": "code",
      "metadata": {
        "collapsed": true,
        "id": "kccifunUdkdR"
      },
      "source": [
        "class EncoderLSTM(nn.Module):\n",
        "    # Your code goes here\n",
        "    def __init__(self):\n",
        "        super(EncoderLSTM, self).__init__()\n",
        "        \n",
        "        self.hidden_size = 300\n",
        "        wordEncodingSize = 2000\n",
        "        \n",
        "        # Your code goes here (~3 lines)\n",
        "        # self.hidden_size = hidden_size\n",
        "        self.lstm = nn.LSTM(input_size= wordEncodingSize, \n",
        "                          hidden_size=self.hidden_size).to(device)\n",
        "        \n",
        "\n",
        "    def init_hidden(self):\n",
        "        return torch.zeros(1, 1, self.hidden_size, device=device)\n",
        "       \n",
        "\n",
        "    def init_cell(self):\n",
        "        return torch.zeros(1, 1, self.hidden_size, device=device)\n",
        "      \n",
        "\n",
        "    def forward(self, input_sentence, hidden, cell):\n",
        "        # Your code goes here (~2 lines of code)\n",
        "        embedded=input_sentence.view(1,1,-1) #do not need embedding\n",
        "        #embedded = self.embedding(input).view(1, 1, -1)\n",
        "        output, (hidden, cell) = self.lstm(embedded, (hidden, cell))\n",
        "        return output, hidden, cell\n",
        "        \n",
        "                "
      ],
      "execution_count": 64,
      "outputs": []
    },
    {
      "cell_type": "markdown",
      "metadata": {
        "id": "ljBX3m0tdkdT"
      },
      "source": [
        "## 1.3. Connecting Encoder to Decoder and Train End-to-End and Train with Teacher Forcing\n",
        "\n",
        "We now connect our newly created encoder with our decoder, to train an end-to-end seq2seq architecture. \n",
        "\n",
        "For the purposes of Part 1, the only interaction between the encoder and the decoder is that the *last hidden state of the encoder is used as the initial hidden state of the decoder*. This will be different for Part 2 and 3 where we will extend this punction."
      ]
    },
    {
      "cell_type": "code",
      "metadata": {
        "collapsed": true,
        "id": "kN5nFk_ndkdU"
      },
      "source": [
        "def train(input_sentence, output_sentence, encoder,\n",
        "          decoder, encoder_optimizer,\n",
        "          decoder_optimizer, \n",
        "          criterion,\n",
        "          teacher_forcing_ratio = 1,\n",
        "          decoderType = \"LSTM\",\n",
        "          embeddings = one_hot_embeddings): \n",
        "    \"\"\"\n",
        "    Given a single training sample, go through a single step of training.\n",
        "    \"\"\"\n",
        "    use_teacher_forcing = True if np.random.rand() < teacher_forcing_ratio else False\n",
        "     # Your code goes here\n",
        "\n",
        "    encoder = encoder.to(device)\n",
        "    decoder = decoder.to(device)\n",
        "    encoder_hidden=encoder.init_hidden()\n",
        "    encoder_cell = encoder.init_cell()\n",
        "\n",
        "    encoder_optimizer.zero_grad()\n",
        "    decoder_optimizer.zero_grad()\n",
        "\n",
        "    # print(\"input_sentence\")\n",
        "    # print(input_sentence)\n",
        "    #embedding\n",
        "    #input_tensor = torch.Tensor(preprocess_one_hot(input_sentence))\n",
        "    input_tensor = torch.Tensor([one_hot_embeddings[word2index.get(word, 0)] for word in input_sentence])\n",
        "    #output_tensor = torch.Tensor(preprocess_numberize(input_sentence))\n",
        "    output_tensor = torch.Tensor([word2index.get(word, 0) for word in output_sentence]).long()\n",
        "    # print(output_tensor.size()) #[10,]\n",
        "    # print(output_tensor)\n",
        "    # print(\"output_tensor\")\n",
        "    # print(output_tensor.size())\n",
        "    input_length=input_tensor.size(0)\n",
        "    # print(\"input_length\",input_length)\n",
        "    target_length =output_tensor.size(0)\n",
        "\n",
        "    encoder_outputs = torch.zeros(maxSequenceLength, encoder.hidden_size, device=device)\n",
        "  \n",
        "    loss = 0\n",
        "    for ei in range(input_length): \n",
        "        encoder_output, encoder_hidden, encoder_cell = encoder(input_tensor[ei].to(device), \n",
        "                                                 encoder_hidden, encoder_cell)\n",
        "        encoder_outputs[ei] = encoder_output[0, 0] \n",
        "       \n",
        "       #grab the start token\n",
        "    decoder_input = torch.Tensor([one_hot_embeddings[word2index['<SOS>']]])\n",
        "    # print(\"decoder_input\")\n",
        "    # print(decoder_input.size())\n",
        "  \n",
        "    decoder_hidden = encoder_hidden\n",
        "    decoder_cell = encoder_cell\n",
        "\n",
        "    if decoderType == \"LSTM\": \n",
        "        if use_teacher_forcing: #feed the target as the next input\n",
        "            # Your code goes here\n",
        "            for di in range(target_length):\n",
        "              decoder_output, decoder_hidden, decoder_cell = decoder(decoder_input.to(device), decoder_hidden, decoder_cell)\n",
        "              #outputs[di]=decoder_output\n",
        "              loss += criterion(decoder_output, output_tensor[di].unsqueeze(0).to(device))\n",
        "              decoder_input = torch.Tensor(one_hot_embeddings[output_tensor[di]])  # Teacher forcing\n",
        "            \n",
        "        elif not use_teacher_forcing:\n",
        "            # Your code goes here\n",
        "            for di in range(target_length):\n",
        "              decoder_output, decoder_hidden, decoder_cell = decoder(decoder_input.to(device), decoder_hidden, decoder_cell)\n",
        "              topv, topi = decoder_output.data.topk(1) # \n",
        "              decoder_input = torch.Tensor(one_hot_embeddings[topi.squeeze(0).detach()]) # detach from history as input\n",
        "              loss += criterion(decoder_output, output_tensor[di].unsqueeze(0).to(device))\n",
        "              \n",
        "              if np.argmax(decoder_input.numpy()) == word2index['<EOS>']: #\n",
        "                  break \n",
        " \n",
        "    if decoderType == \"AttentionLSTM\": \n",
        "      if use_teacher_forcing: \n",
        "          #   # Your code goes here\n",
        "        for di in range(target_length):\n",
        "              decoder_output, decoder_hidden, decoder_cell, decoder_attention = decoder(decoder_input.to(device), decoder_hidden, decoder_cell, encoder_outputs)\n",
        "              loss += criterion(decoder_output, output_tensor[di].unsqueeze(0).to(device))\n",
        "              decoder_input = torch.Tensor(one_hot_embeddings[output_tensor[di]])  # Teacher forcing\n",
        "\n",
        "      elif not use_teacher_forcing:\n",
        "            # Your code goes here\n",
        "            for di in range(target_length):\n",
        "              decoder_output, decoder_hidden, decoder_cell, decoder_attention = decoder(decoder_input.to(device), decoder_hidden, decoder_cell, encoder_outputs)\n",
        "              topv, topi = decoder_output.data.topk(1) # \n",
        "              decoder_input =  torch.Tensor(one_hot_embeddings[topi.squeeze(0).detach()]) # detach from history as input\n",
        "              loss += criterion(decoder_output, output_tensor[di].unsqueeze(0).to(device))\n",
        "              \n",
        "              if decoder_input.item() == '<EOS>': #\n",
        "                  break \n",
        " \n",
        "\n",
        "    if decoderType == \"Transformer\":\n",
        "\n",
        "      output_sentence_tensor = torch.Tensor([one_hot_embeddings[word2index.get(word, 0)] for word in output_sentence[:-1]])\n",
        "      decoder_output, encoder_attention_weights, self_attention_weights = decoder(output_sentence_tensor, encoder_outputs)\n",
        "      # print(\"decoder_output_size\")#[1, 9, 2000])\n",
        "      # print(decoder_output.size()) \n",
        "      for di in range(target_length - 1):\n",
        "            loss += criterion(decoder_output[0, di].unsqueeze(0), output_tensor[di + 1].unsqueeze(0).to(device))\n",
        "      \n",
        "    loss.backward()\n",
        "\n",
        "    encoder_optimizer.step()\n",
        "    decoder_optimizer.step()\n",
        "\n",
        "    final_loss=loss.item()/target_length\n",
        "    # Your code goes here\n",
        "    return final_loss\n",
        "\n"
      ],
      "execution_count": 66,
      "outputs": []
    },
    {
      "cell_type": "code",
      "metadata": {
        "id": "iaEuQm7KwHBJ",
        "colab": {
          "base_uri": "https://localhost:8080/"
        },
        "outputId": "6e5282a6-aa19-4cb0-e773-1ea4ed2496cb"
      },
      "source": [
        "# Train the model and monitor the loss. Remember to use Adam optimizer and CrossEntropyLoss\n",
        "encoder = EncoderLSTM()\n",
        "decoder = DecoderLSTM()\n",
        "encoder_optimizer = torch.optim.Adam(encoder.parameters(), lr=0.0005) \n",
        "decoder_optimizer = torch.optim.Adam(decoder.parameters(), lr=0.0005) \n",
        "criterion = nn.CrossEntropyLoss()\n",
        "epochs = 5\n",
        "\n",
        "print(\"Start training end-to-end network ......\")\n",
        "for epoch in range(epochs):\n",
        "    epoch_loss=[]\n",
        "    count=0\n",
        "    for id, sentence in enumerate(filtered_sentences): \n",
        "        target_variable = piglatin_filtered_sentences[id]\n",
        "        loss = train(sentence, target_variable, encoder, decoder, \n",
        "                     encoder_optimizer, decoder_optimizer, \n",
        "                     criterion, teacher_forcing_ratio = 1, \n",
        "                     decoderType=\"LSTM\")\n",
        "        \n",
        "        count = count+1\n",
        "        if count%500==0:\n",
        "            print(\"Single sentence Loss (epoch %d) : %f\" % (epoch, loss))\n",
        "        epoch_loss.append(loss)\n",
        "        \n",
        "    print(\"Loss (epoch %d) : %f\" % (epoch, np.sum(epoch_loss)/len(filtered_sentences))) "
      ],
      "execution_count": null,
      "outputs": [
        {
          "output_type": "stream",
          "name": "stdout",
          "text": [
            "Start training end-to-end network ......\n",
            "Single sentence Loss (epoch 0) : 3.012568\n",
            "Single sentence Loss (epoch 0) : 2.756030\n",
            "Single sentence Loss (epoch 0) : 3.107305\n",
            "Single sentence Loss (epoch 0) : 3.840675\n",
            "Single sentence Loss (epoch 0) : 3.324530\n",
            "Single sentence Loss (epoch 0) : 1.962286\n",
            "Single sentence Loss (epoch 0) : 3.887178\n",
            "Single sentence Loss (epoch 0) : 4.523564\n",
            "Single sentence Loss (epoch 0) : 4.102624\n",
            "Single sentence Loss (epoch 0) : 2.668831\n",
            "Single sentence Loss (epoch 0) : 2.974476\n",
            "Single sentence Loss (epoch 0) : 3.316699\n",
            "Single sentence Loss (epoch 0) : 4.129482\n",
            "Single sentence Loss (epoch 0) : 1.841648\n",
            "Single sentence Loss (epoch 0) : 4.362152\n",
            "Single sentence Loss (epoch 0) : 3.062619\n",
            "Single sentence Loss (epoch 0) : 3.370016\n",
            "Single sentence Loss (epoch 0) : 3.109073\n",
            "Single sentence Loss (epoch 0) : 2.468184\n",
            "Single sentence Loss (epoch 0) : 4.872273\n",
            "Single sentence Loss (epoch 0) : 3.041341\n",
            "Single sentence Loss (epoch 0) : 2.519232\n",
            "Single sentence Loss (epoch 0) : 2.825127\n",
            "Single sentence Loss (epoch 0) : 4.400071\n",
            "Single sentence Loss (epoch 0) : 4.084601\n",
            "Single sentence Loss (epoch 0) : 1.562548\n",
            "Single sentence Loss (epoch 0) : 2.921021\n",
            "Single sentence Loss (epoch 0) : 2.410611\n",
            "Single sentence Loss (epoch 0) : 2.018163\n",
            "Single sentence Loss (epoch 0) : 3.027490\n",
            "Single sentence Loss (epoch 0) : 1.640901\n",
            "Single sentence Loss (epoch 0) : 2.590935\n",
            "Single sentence Loss (epoch 0) : 2.288592\n",
            "Single sentence Loss (epoch 0) : 1.842427\n",
            "Single sentence Loss (epoch 0) : 2.577512\n",
            "Single sentence Loss (epoch 0) : 2.374665\n",
            "Single sentence Loss (epoch 0) : 1.246339\n",
            "Single sentence Loss (epoch 0) : 2.565475\n",
            "Single sentence Loss (epoch 0) : 2.672767\n",
            "Single sentence Loss (epoch 0) : 4.511684\n",
            "Loss (epoch 0) : 2.759169\n",
            "Single sentence Loss (epoch 1) : 2.076239\n",
            "Single sentence Loss (epoch 1) : 0.986971\n",
            "Single sentence Loss (epoch 1) : 2.286486\n",
            "Single sentence Loss (epoch 1) : 2.782304\n",
            "Single sentence Loss (epoch 1) : 1.814056\n",
            "Single sentence Loss (epoch 1) : 1.100183\n",
            "Single sentence Loss (epoch 1) : 3.139721\n",
            "Single sentence Loss (epoch 1) : 3.523511\n",
            "Single sentence Loss (epoch 1) : 3.189061\n",
            "Single sentence Loss (epoch 1) : 1.710817\n",
            "Single sentence Loss (epoch 1) : 2.460729\n",
            "Single sentence Loss (epoch 1) : 2.725879\n",
            "Single sentence Loss (epoch 1) : 3.652171\n",
            "Single sentence Loss (epoch 1) : 1.186690\n",
            "Single sentence Loss (epoch 1) : 3.474793\n",
            "Single sentence Loss (epoch 1) : 2.347015\n",
            "Single sentence Loss (epoch 1) : 2.571349\n",
            "Single sentence Loss (epoch 1) : 2.686942\n",
            "Single sentence Loss (epoch 1) : 1.278477\n",
            "Single sentence Loss (epoch 1) : 2.822392\n",
            "Single sentence Loss (epoch 1) : 2.089419\n",
            "Single sentence Loss (epoch 1) : 1.818867\n",
            "Single sentence Loss (epoch 1) : 1.640860\n",
            "Single sentence Loss (epoch 1) : 3.215774\n",
            "Single sentence Loss (epoch 1) : 3.212160\n",
            "Single sentence Loss (epoch 1) : 0.857413\n",
            "Single sentence Loss (epoch 1) : 1.717644\n",
            "Single sentence Loss (epoch 1) : 1.868325\n",
            "Single sentence Loss (epoch 1) : 1.213326\n",
            "Single sentence Loss (epoch 1) : 2.581486\n",
            "Single sentence Loss (epoch 1) : 0.809985\n",
            "Single sentence Loss (epoch 1) : 1.142580\n",
            "Single sentence Loss (epoch 1) : 1.100560\n",
            "Single sentence Loss (epoch 1) : 1.383209\n",
            "Single sentence Loss (epoch 1) : 1.899949\n",
            "Single sentence Loss (epoch 1) : 1.555981\n",
            "Single sentence Loss (epoch 1) : 0.517098\n",
            "Single sentence Loss (epoch 1) : 1.811981\n",
            "Single sentence Loss (epoch 1) : 1.778231\n",
            "Single sentence Loss (epoch 1) : 3.113044\n",
            "Loss (epoch 1) : 1.906346\n",
            "Single sentence Loss (epoch 2) : 1.239199\n",
            "Single sentence Loss (epoch 2) : 0.432020\n",
            "Single sentence Loss (epoch 2) : 1.420621\n",
            "Single sentence Loss (epoch 2) : 2.205122\n",
            "Single sentence Loss (epoch 2) : 1.003045\n",
            "Single sentence Loss (epoch 2) : 0.473569\n",
            "Single sentence Loss (epoch 2) : 2.130155\n",
            "Single sentence Loss (epoch 2) : 2.734115\n",
            "Single sentence Loss (epoch 2) : 2.109761\n",
            "Single sentence Loss (epoch 2) : 0.773565\n",
            "Single sentence Loss (epoch 2) : 1.665094\n",
            "Single sentence Loss (epoch 2) : 2.094218\n",
            "Single sentence Loss (epoch 2) : 3.031716\n",
            "Single sentence Loss (epoch 2) : 0.792917\n",
            "Single sentence Loss (epoch 2) : 2.702703\n",
            "Single sentence Loss (epoch 2) : 1.564261\n",
            "Single sentence Loss (epoch 2) : 1.865118\n",
            "Single sentence Loss (epoch 2) : 2.188125\n",
            "Single sentence Loss (epoch 2) : 0.485745\n",
            "Single sentence Loss (epoch 2) : 1.574005\n",
            "Single sentence Loss (epoch 2) : 1.701321\n",
            "Single sentence Loss (epoch 2) : 1.281013\n",
            "Single sentence Loss (epoch 2) : 1.152449\n",
            "Single sentence Loss (epoch 2) : 2.268050\n",
            "Single sentence Loss (epoch 2) : 2.008324\n",
            "Single sentence Loss (epoch 2) : 0.516498\n",
            "Single sentence Loss (epoch 2) : 1.532944\n",
            "Single sentence Loss (epoch 2) : 1.222991\n",
            "Single sentence Loss (epoch 2) : 0.706516\n",
            "Single sentence Loss (epoch 2) : 2.134340\n",
            "Single sentence Loss (epoch 2) : 0.394800\n",
            "Single sentence Loss (epoch 2) : 0.687842\n",
            "Single sentence Loss (epoch 2) : 0.467298\n",
            "Single sentence Loss (epoch 2) : 1.343919\n",
            "Single sentence Loss (epoch 2) : 0.888348\n",
            "Single sentence Loss (epoch 2) : 0.918628\n",
            "Single sentence Loss (epoch 2) : 0.236242\n",
            "Single sentence Loss (epoch 2) : 1.456131\n",
            "Single sentence Loss (epoch 2) : 1.040086\n",
            "Single sentence Loss (epoch 2) : 1.924246\n",
            "Loss (epoch 2) : 1.268319\n",
            "Single sentence Loss (epoch 3) : 0.923505\n",
            "Single sentence Loss (epoch 3) : 0.140349\n",
            "Single sentence Loss (epoch 3) : 0.632550\n",
            "Single sentence Loss (epoch 3) : 1.343858\n",
            "Single sentence Loss (epoch 3) : 0.467431\n",
            "Single sentence Loss (epoch 3) : 0.288323\n",
            "Single sentence Loss (epoch 3) : 1.221817\n",
            "Single sentence Loss (epoch 3) : 2.198403\n",
            "Single sentence Loss (epoch 3) : 1.513520\n",
            "Single sentence Loss (epoch 3) : 0.534971\n",
            "Single sentence Loss (epoch 3) : 1.102406\n",
            "Single sentence Loss (epoch 3) : 1.904888\n",
            "Single sentence Loss (epoch 3) : 2.308014\n",
            "Single sentence Loss (epoch 3) : 0.426607\n",
            "Single sentence Loss (epoch 3) : 1.866103\n",
            "Single sentence Loss (epoch 3) : 1.143633\n",
            "Single sentence Loss (epoch 3) : 1.019839\n",
            "Single sentence Loss (epoch 3) : 1.414467\n",
            "Single sentence Loss (epoch 3) : 0.132145\n",
            "Single sentence Loss (epoch 3) : 1.148565\n",
            "Single sentence Loss (epoch 3) : 1.127449\n",
            "Single sentence Loss (epoch 3) : 0.761499\n",
            "Single sentence Loss (epoch 3) : 0.444592\n",
            "Single sentence Loss (epoch 3) : 1.835519\n",
            "Single sentence Loss (epoch 3) : 1.057180\n",
            "Single sentence Loss (epoch 3) : 0.080087\n",
            "Single sentence Loss (epoch 3) : 0.918995\n",
            "Single sentence Loss (epoch 3) : 0.913076\n",
            "Single sentence Loss (epoch 3) : 0.274852\n",
            "Single sentence Loss (epoch 3) : 1.417085\n",
            "Single sentence Loss (epoch 3) : 0.437800\n",
            "Single sentence Loss (epoch 3) : 0.579607\n",
            "Single sentence Loss (epoch 3) : 0.247377\n",
            "Single sentence Loss (epoch 3) : 0.939527\n",
            "Single sentence Loss (epoch 3) : 0.654604\n",
            "Single sentence Loss (epoch 3) : 0.537251\n",
            "Single sentence Loss (epoch 3) : 0.077941\n",
            "Single sentence Loss (epoch 3) : 0.846039\n",
            "Single sentence Loss (epoch 3) : 1.036218\n",
            "Single sentence Loss (epoch 3) : 1.748219\n",
            "Loss (epoch 3) : 0.851241\n",
            "Single sentence Loss (epoch 4) : 0.283934\n",
            "Single sentence Loss (epoch 4) : 0.093884\n",
            "Single sentence Loss (epoch 4) : 0.319325\n",
            "Single sentence Loss (epoch 4) : 0.997835\n",
            "Single sentence Loss (epoch 4) : 0.295774\n",
            "Single sentence Loss (epoch 4) : 0.081768\n",
            "Single sentence Loss (epoch 4) : 0.681915\n",
            "Single sentence Loss (epoch 4) : 2.076017\n",
            "Single sentence Loss (epoch 4) : 1.059989\n",
            "Single sentence Loss (epoch 4) : 0.414789\n",
            "Single sentence Loss (epoch 4) : 0.905587\n",
            "Single sentence Loss (epoch 4) : 0.773627\n",
            "Single sentence Loss (epoch 4) : 1.400632\n",
            "Single sentence Loss (epoch 4) : 0.177743\n",
            "Single sentence Loss (epoch 4) : 1.559717\n",
            "Single sentence Loss (epoch 4) : 0.608464\n",
            "Single sentence Loss (epoch 4) : 0.668641\n",
            "Single sentence Loss (epoch 4) : 0.722451\n",
            "Single sentence Loss (epoch 4) : 0.157076\n",
            "Single sentence Loss (epoch 4) : 0.870741\n",
            "Single sentence Loss (epoch 4) : 0.993109\n",
            "Single sentence Loss (epoch 4) : 0.377700\n",
            "Single sentence Loss (epoch 4) : 0.237512\n",
            "Single sentence Loss (epoch 4) : 1.473699\n",
            "Single sentence Loss (epoch 4) : 0.911023\n",
            "Single sentence Loss (epoch 4) : 0.034653\n",
            "Single sentence Loss (epoch 4) : 0.325672\n",
            "Single sentence Loss (epoch 4) : 0.859712\n",
            "Single sentence Loss (epoch 4) : 0.115697\n",
            "Single sentence Loss (epoch 4) : 0.935952\n",
            "Single sentence Loss (epoch 4) : 0.401399\n",
            "Single sentence Loss (epoch 4) : 0.434510\n",
            "Single sentence Loss (epoch 4) : 0.107111\n",
            "Single sentence Loss (epoch 4) : 0.685724\n",
            "Single sentence Loss (epoch 4) : 0.613247\n",
            "Single sentence Loss (epoch 4) : 0.402792\n",
            "Single sentence Loss (epoch 4) : 0.022058\n",
            "Single sentence Loss (epoch 4) : 0.466902\n",
            "Single sentence Loss (epoch 4) : 0.723892\n",
            "Single sentence Loss (epoch 4) : 1.235803\n",
            "Loss (epoch 4) : 0.571636\n"
          ]
        }
      ]
    },
    {
      "cell_type": "markdown",
      "metadata": {
        "id": "4-KzySeXdkdP"
      },
      "source": [
        "## 1.4. Building Language Decoder MAP Inference\n",
        "\n",
        "We now define a method to perform inference with our decoder. "
      ]
    },
    {
      "cell_type": "code",
      "metadata": {
        "collapsed": true,
        "id": "Fq1fkD-wdkdP"
      },
      "source": [
        "def inference(sentence, encoder, decoder, decoderType=\"LSTM\", embeddings=one_hot_embeddings, max_length=maxSequenceLength):\n",
        "    \n",
        "    input_tensor = torch.Tensor(preprocess_one_hot(sentence))\n",
        "    #print(input_tensor)\n",
        "    input_length = input_tensor.shape[0]\n",
        "   \n",
        "    # Initialize encoder & decoder \n",
        "    encoder_hidden = encoder.init_hidden()\n",
        "    encoder_cell = encoder.init_cell()\n",
        "    encoder_outputs = torch.zeros(max_length, encoder.hidden_size).to(device)\n",
        "    # docoder_hideen=decoder.init_hidden()\n",
        "    # docoder_cell=decoder.init_cell()\n",
        "\n",
        "    for ei in range(1,input_length):\n",
        "        # Iteratively run the encoder \n",
        "        # 1. Get the current word index\n",
        "        # 2. Convert to a 1-hot encoding\n",
        "        # 3. Run one step of the encoder\n",
        "        encoder_output, encoder_hidden, encoder_cell = encoder(input_tensor[ei].to(device), \n",
        "                                                               encoder_hidden, encoder_cell)\n",
        "        encoder_outputs[ei] += encoder_output[0, 0]\n",
        "        # 4. Save the encoder hidden states for future processing\n",
        "\n",
        "    # Set the initial hidden and cell state of the RNN decoder to the last \n",
        "    # hidden and cell state of the encoder\n",
        "    decoder_hidden = encoder_hidden\n",
        "    decoder_cell = encoder_cell\n",
        "    # Start the decoding with <SOS> token\n",
        "    #decoder_input = torch.Tensor(preprocess_one_hot['<SOS>']]])\n",
        "    decoder_input = torch.Tensor([one_hot_embeddings[word2index['<SOS>']]]) \n",
        "    decoder_attentions=torch.zeros(max_length,max_length) \n",
        "    # Iterate up to the max_length of output\n",
        "    word_list=[]\n",
        "        \n",
        "    for i in range(max_length):\n",
        "        if decoderType == \"LSTM\": \n",
        "            decoder_output, decoder_hidden, decoder_cell = decoder(decoder_input.to(device), decoder_hidden, decoder_cell)\n",
        "              \n",
        "            topv, topi = decoder_output.data.topk(1) # \n",
        "              # detach from history as input\n",
        "              # print(\"index\")\n",
        "              # print(topi.squeeze().item())\n",
        "            if topi.squeeze(0).item() == word2index['<EOS>']: #top 1 index match\n",
        "                word_list.append('<EOS>')\n",
        "                break\n",
        "            else:\n",
        "                word_list.append(vocabulary[topi.squeeze().item()])\n",
        "\n",
        "            decoder_input = torch.Tensor(one_hot_embeddings[topi.squeeze().detach()])\n",
        "            # Run the simple decoder \n",
        "\n",
        "        if decoderType == \"AttentionLSTM\":\n",
        "            # Run the attention decoder (this will be done in Part 2)\n",
        "            decoder_output, decoder_hidden, decoder_cell, decoder_attention = decoder(decoder_input.to(device), decoder_hidden, decoder_cell, encoder_outputs)\n",
        "            # decoder_attentions[i]=decoder_attention[0,0]\n",
        "            # print(\"decoder_attention.size\")\n",
        "            # print(decoder_attention[0,0].size())\n",
        "            decoder_attentions[i] = decoder_attention.squeeze() #57*1\n",
        "\n",
        "            topv, topi = decoder_output.data.topk(1)\n",
        "            if topi.squeeze(0).item() == word2index['<EOS>']: #top 1 index match\n",
        "                word_list.append('<EOS>')\n",
        "                break\n",
        "            else:\n",
        "                word_list.append(vocabulary[topi.squeeze(0).item()])\n",
        "\n",
        "            decoder_input = torch.Tensor(one_hot_embeddings[topi.squeeze(0).detach()])\n",
        "\n",
        "        if decoderType == \"Transformer\":\n",
        "          decoder_output, encoder_attention_weights, self_attention_weights = decoder(decoder_input.to(device), encoder_outputs.to(device))  \n",
        "          #   # Run the transformer decoder (this will be done in Part 3)\n",
        "          topv, topi = decoder_output[0,i].data.topk(1)\n",
        "          if topi.squeeze(0).item() == word2index['<EOS>']: #top 1 index match\n",
        "              word_list.append('<EOS>')\n",
        "              break\n",
        "          else:\n",
        "              word_list.append(vocabulary[topi.squeeze(0).item()])\n",
        "              decoder_output.to(device)\n",
        "              decoder_input = torch.cat((decoder_input, torch.Tensor(one_hot_embeddings[topi.squeeze(0).detach()]).unsqueeze(0)), dim = 0)\n",
        "\n",
        "        decoder_attentions = [encoder_attention_weights, self_attention_weights]\n",
        "    return word_list, decoder_attentions\n",
        "\n",
        "\n"
      ],
      "execution_count": 73,
      "outputs": []
    },
    {
      "cell_type": "code",
      "metadata": {
        "id": "3E3scOrkxtHV",
        "colab": {
          "base_uri": "https://localhost:8080/"
        },
        "outputId": "97cdf1a0-fee4-44d6-b7f1-ed6120fed300"
      },
      "source": [
        "\n",
        "# Lets test it \n",
        "sentence = \"A very clean and well decorated empty bathroom\" \n",
        "print(type(sentence))\n",
        "#input_sentence = [\"<SOS>\"] + word_tokenize(sentence.lower()) + [\"<EOS>\"] \n",
        "output_sentence, _ = inference(sentence, encoder, decoder, decoderType=\"LSTM\")\n",
        "\n",
        "print(\"English: \" + sentence)\n",
        "print(\"Pig Latin: \", ' '.join(output_sentence[1:-1]))\n"
      ],
      "execution_count": null,
      "outputs": [
        {
          "output_type": "stream",
          "name": "stdout",
          "text": [
            "<class 'str'>\n",
            "English: A very clean and well decorated empty bathroom\n",
            "Pig Latin:  erethay andway away eryvay allsmay oldway andway otway ocksclay\n"
          ]
        }
      ]
    },
    {
      "cell_type": "markdown",
      "metadata": {
        "id": "QaZkwa6EdkdQ"
      },
      "source": [
        "## 1.5. Building Language Decoder Sampling Inference\n",
        "\n",
        "We now modify the inference method to sample from the distribution outputted by the LSTM rather than taking the most probable word.\n",
        "\n",
        "It might be useful to take a look at the output of your model and (depending on your implementation) modify it so that the outputs sum to 1. "
      ]
    },
    {
      "cell_type": "code",
      "metadata": {
        "collapsed": true,
        "id": "chHsbrX8dkdQ"
      },
      "source": [
        "import numpy.random as ra\n",
        "\n",
        "def sampling_inference(sentence, encoder, decoder, decoderType=\"LSTM\", embeddings=one_hot_embeddings, max_length=maxSequenceLength):\n",
        "    input_tensor = torch.Tensor(preprocess_one_hot(sentence))\n",
        "    input_length = input_tensor.shape[0]\n",
        "\n",
        "    # Initialize encoder & decoder \n",
        "\n",
        "    encoder_hidden = encoder.init_hidden()\n",
        "    encoder_cell = encoder.init_cell()\n",
        "    encoder_outputs = torch.zeros(max_length, encoder.hidden_size).to(device)\n",
        "\n",
        "    for ei in range(1,input_length):\n",
        "        # Iteratively run the encoder \n",
        "        # 1. Get the current word index\n",
        "        # 2. Convert to a 1-hot encoding\n",
        "        # 3. Run one step of the encoder\n",
        "        encoder_output, encoder_hidden, encoder_cell = encoder(input_tensor[ei].to(device), encoder_hidden, encoder_cell)\n",
        "        # 4. Save the encoder hidden states for future processing\n",
        "        encoder_outputs[ei] = encoder_output[0, 0]\n",
        "\n",
        "    # Set the initial hidden and cell state of the RNN decoder to the last \n",
        "    # hidden and cell state of the encoder\n",
        "    decoder_hidden = encoder_hidden\n",
        "    decoder_cell = encoder_cell\n",
        "    # Start the decoding with <SOS> token\n",
        "    decoder_input = torch.Tensor([one_hot_embeddings[word2index['<SOS>']]])  \n",
        "    word_list = []\n",
        "    decoder_attentions = torch.zeros(max_length, max_length)\n",
        "    # Iterate up to the max_length of output\n",
        "    for i in range(max_length):\n",
        "        if decoderType == \"LSTM\": \n",
        "            # Run the simple decoder \n",
        "            decoder_output, decoder_hidden, decoder_cell = decoder(decoder_input.to(device), decoder_hidden, decoder_cell)\n",
        "            decoder_prob = F.softmax(decoder_output)\n",
        "            #check if sum(decoder_output)==1\n",
        "            # cum_prob = np.cumsum(decoder_output)\n",
        "            # randnum = ra.uniform(0, 1, 1)\n",
        "            # index=range(1,2000)\n",
        "            # topi = [int(index[np.argwhere(cum_prob == min(cum_prob[(cum_prob - randnum) > 0]))])]\n",
        "            topi = torch.multinomial(decoder_prob, 1)\n",
        "            if topi == word2index['<EOS>']: #top 1 index match\n",
        "                word_list.append('<EOS>')\n",
        "                break\n",
        "            else:\n",
        "                word_list.append(vocabulary[topi])\n",
        "\n",
        "            decoder_input = torch.Tensor(one_hot_embeddings[topi])\n",
        "\n",
        "        if decoderType == \"AttentionLSTM\":\n",
        "          pass\n",
        "            # Run the attention decoder (this will be done in Part 2)\n",
        "            # decoder_output, decoder_hidden, decoder_cell, decoder_attention = decoder(decoder_input, decoder_hidden, decoder_cell, encoder_outputs)\n",
        "            # decoder_attentions[i] = decoder_attention[0, 0]\n",
        "            # decoder_prob=decoder_output\n",
        "            # topi = torch.multinomial(decoder_prob, 1)\n",
        "\n",
        "            # if topi == word2index['<EOS>']: #top 1 index match\n",
        "            #     word_list.append('<EOS>')\n",
        "            #     break\n",
        "            # else:\n",
        "            #     word_list.append(vocabulary[topi])\n",
        "\n",
        "            # decoder_input = torch.Tensor(one_hot_embeddings[topi])\n",
        "\n",
        "        if decoderType == \"Transformer\":\n",
        "          pass\n",
        "            # Run the transformer decoder (this will be done in Part 3)\n",
        "\n",
        "\n",
        "    return word_list, decoder_attentions\n",
        "\n",
        "    "
      ],
      "execution_count": null,
      "outputs": []
    },
    {
      "cell_type": "code",
      "metadata": {
        "id": "_6jeTIFOyfa7",
        "colab": {
          "base_uri": "https://localhost:8080/"
        },
        "outputId": "30a19a37-7bcc-4646-8dbe-c08be5bd2bbe"
      },
      "source": [
        "# Lets test it \n",
        "sentence = \"A very clean and well decorated empty bathroom\" \n",
        "#input_sentence = [\"<SOS>\"] + word_tokenize(sentence.lower()) + [\"<EOS>\"] \n",
        "\n",
        "print(\"English: \" + sentence)\n",
        "\n",
        "for i in range(5):\n",
        "    output_sentence, _ = sampling_inference(sentence, encoder, decoder, decoderType=\"LSTM\")\n",
        "    # print(output_sentence)\n",
        "    print(\"Pig Latin: \", ' '.join(output_sentence[1:-1]))"
      ],
      "execution_count": null,
      "outputs": [
        {
          "output_type": "stream",
          "name": "stdout",
          "text": [
            "English: A very clean and well decorated empty bathroom\n",
            "Pig Latin:  atcay outsideway away eryvay efrigeratorray andway asketbay asesvay asesvay\n",
            "Pig Latin:  anymay away eryvay ellway ightbray eryvay eanclay andway appliancesway\n",
            "Pig Latin:  adylay eamcray away eryvay allsmay ightbray andway oldway orkway\n",
            "Pig Latin:  erethay andway away eryvay allsmay idgefray andway anway owertay\n",
            "Pig Latin:  eythay andway away eryvay igbay aterway andway orestay idgefray intoway\n"
          ]
        },
        {
          "output_type": "stream",
          "name": "stderr",
          "text": [
            "/usr/local/lib/python3.7/dist-packages/ipykernel_launcher.py:35: UserWarning: Implicit dimension choice for softmax has been deprecated. Change the call to include dim=X as an argument.\n"
          ]
        }
      ]
    },
    {
      "cell_type": "markdown",
      "metadata": {
        "id": "xe3Aq_-VdkdV"
      },
      "source": [
        "## 1.6. Testing \n",
        "\n",
        "We must now define a method that allows us to do inference using the seq2seq architecture. We then run the 500 validation captions through this method, and ultimately compare the **reference** and **generated** sentences using our **BLEU** similarity score method defined above, to identify the average BLEU score."
      ]
    },
    {
      "cell_type": "code",
      "metadata": {
        "id": "rcxSh_RWdkdR",
        "colab": {
          "base_uri": "https://localhost:8080/"
        },
        "outputId": "08f9402b-a410-4a2b-e911-73401c179c50"
      },
      "source": [
        "# Perform inference for all validation sequences and report the average BLEU score\n",
        "avg_score=[]\n",
        "\n",
        "# iterate over the validation set \n",
        "for idx, input_sentence in enumerate(val_sentences): \n",
        "    word_list, _ = inference(input_sentence, encoder, decoder, decoderType=\"LSTM\")\n",
        "    output_sentence = ' '.join(word_list[:-1])\n",
        "    target_sentence = piglatin_val_sentences[idx]\n",
        "    # print(target_sentence)\n",
        "    score = compute_bleu('<SOS> '+target_sentence, output_sentence)\n",
        "    avg_score.append(score)\n",
        "    if idx < 10 :\n",
        "        print('BLEU score distance between \\n  \"' + target_sentence + '\" \\nand\\n  \"'+ output_sentence + '\" \\n is: ' + str(score) +'\\n\\n')\n",
        "\n",
        "print(avg_score)\n",
        "print(len(val_sentences))\n",
        "final_score = np.sum(avg_score)/len(val_sentences)\n",
        "print(\"Average BLUE score : %f\" % (final_score)) \n",
        "\n",
        "\n",
        "# EXPECTED < Average BLUE score (ArgMAX inference): 0.464803 > \n",
        "# EXPECTED < Average BLUE score (sampling inference): 0.477803 > "
      ],
      "execution_count": null,
      "outputs": [
        {
          "output_type": "stream",
          "name": "stderr",
          "text": [
            "/usr/local/lib/python3.7/dist-packages/nltk/translate/bleu_score.py:552: UserWarning: \n",
            "The hypothesis contains 0 counts of 4-gram overlaps.\n",
            "Therefore the BLEU score evaluates to 0, independently of\n",
            "how many N-gram overlaps of lower order it contains.\n",
            "Consider using lower n-gram order or use SmoothingFunction()\n",
            "  warnings.warn(_msg)\n"
          ]
        },
        {
          "output_type": "stream",
          "name": "stdout",
          "text": [
            "BLEU score distance between \n",
            "  \"Etsay ofway ananasbay anginghay offway ofway away ananabay eetray.\" \n",
            "and\n",
            "  \"<SOS> ourfay ofway ananasbay anginghay omfray away ananabay onway omesay ooksbay .\" \n",
            " is: 5.502798075292677e-78\n",
            "\n",
            "\n",
            "BLEU score distance between \n",
            "  \"Otway unchesbay ofway eengray ananasbay onway ananabay eestray.\" \n",
            "and\n",
            "  \"<SOS> otway ehindbay otway eengray ananasbay onway eengray ananasbay .\" \n",
            " is: 0.317023313852343\n",
            "\n",
            "\n",
            "BLEU score distance between \n",
            "  \"Anymay alendarscay andway unchesbay ofway ananasbay anginghay onway away allway.\" \n",
            "and\n",
            "  \"<SOS> anymay antsplay andway omesay ananasbay ittingsay onway away oodenway allway .\" \n",
            " is: 0.25400289715190977\n",
            "\n",
            "\n",
            "BLEU score distance between \n",
            "  \"Ustersclay ofway ananasbay andway icturespay anginghay onway away allway.\" \n",
            "and\n",
            "  \"<SOS> ultiplemay ofway ariousvay andway anginghay anginghay omfray away allway onway itway .\" \n",
            " is: 3.9543559515104263e-78\n",
            "\n",
            "\n",
            "BLEU score distance between \n",
            "  \"otway ogsday atthay ooklay otay ebay ightingfay oneway anotherway\" \n",
            "and\n",
            "  \"<SOS> otway ogsday away inkdray ogethertay extnay otay oneway anotherway anmay\" \n",
            " is: 0.3438931217657843\n",
            "\n",
            "\n",
            "BLEU score distance between \n",
            "  \"Otway ogsday ightingfay ithway oneway onway ishay ackbay onway ethay oundgray\" \n",
            "and\n",
            "  \"<SOS> ersonpay oldinghay otway airhay onway ethay oundgray ithway oneway onway ishay ackbay\" \n",
            " is: 0.41374412020518814\n",
            "\n",
            "\n",
            "BLEU score distance between \n",
            "  \"Unchesbay ofway eengray ananasbay anginghay ownday omfray eestray.\" \n",
            "and\n",
            "  \"<SOS> itcherpay ofway eengray eengray ananasbay anginghay omfray yelloway eestray .\" \n",
            " is: 6.28061393563353e-78\n",
            "\n",
            "\n",
            "BLEU score distance between \n",
            "  \"Otway ogsday avehay away ayfulplay ightfay ithway oneway anotherway.\" \n",
            "and\n",
            "  \"<SOS> otway ogsday away othay ogsday ithway oneway anotherway andway oneway .\" \n",
            " is: 0.3759663529467017\n",
            "\n",
            "\n",
            "BLEU score distance between \n",
            "  \"Ananabay eestray ithway argelay  anginghay unchesbay ofway ananasbay.\" \n",
            "and\n",
            "  \"<SOS> ultiplemay ananasbay ananasbay ithway argelay yelloway ofway onway itway .\" \n",
            " is: 4.2000996787548048e-78\n",
            "\n",
            "\n",
            "BLEU score distance between \n",
            "  \"Erethay areway omesay eengray ananasbay anginghay inway unchesbay\" \n",
            "and\n",
            "  \"<SOS> erethay areway omesay eengray eengray ananasbay anginghay inway yelloway\" \n",
            " is: 0.7175852914772134\n",
            "\n",
            "\n",
            "[5.502798075292677e-78, 0.317023313852343, 0.25400289715190977, 3.9543559515104263e-78, 0.3438931217657843, 0.41374412020518814, 6.28061393563353e-78, 0.3759663529467017, 4.2000996787548048e-78, 0.7175852914772134, 0.5859059370151705, 3.550619214218512e-78, 0.30130404892785684, 0.4001601601922499, 6.240986633072297e-78, 0.34791594751284466, 0.5681096832337497, 0.2204887282071633, 3.85155751147022e-78, 3.869266288733996e-78, 4.1812223485422183e-78, 0.2533654946448647, 6.338138770949847e-78, 5.343126373842921e-78, 3.9543559515104263e-78, 0.44082318755867267, 4.0636244822144107e-78, 4.953918104678473e-78, 4.91484601202685e-78, 6.000767315419426e-78, 0.5856596027429395, 0.2596535889340338, 0.4366835442847812, 0.39832871551569504, 0.24022110864391533, 0.3759663529467017, 0.39317519708167065, 0.35630548449868954, 4.325613659716921e-78, 5.175068635926021e-78, 4.513300825451574e-78, 0.24515235346013312, 4.0622028886850106e-78, 3.2683416997819595e-78, 0.2955043237121875, 4.750785807920379e-78, 0.22355093096292097, 4.351696664642057e-78, 0.27629350710622463, 0.4240125351805037, 0.6100034457014365, 0.4001601601922499, 0.317023313852343, 4.13876789251507e-78, 0.1934529902282619, 5.143466739335414e-78, 4.627283175378585e-78, 3.603235312613151e-78, 5.592303817076657e-78, 0.24456656109396324, 4.0186755136450062e-78, 3.534942808382822e-78, 0.317023313852343, 3.4558505924538693e-78, 3.739798960152716e-78, 2.99414049262426e-78, 3.4558505924538693e-78, 6.338138770949847e-78, 0.5038920485259633, 0.3200286101270289, 0.27882410979222033, 3.4558505924538693e-78, 0.28110041382951884, 0.20149416157064579, 0.2545984531673679, 0.34172334076593075, 4.921852225123671e-78, 3.919445536306192e-78, 0.4089601472043678, 0.45258880078905583, 0.33260249505555045, 3.3042234935730684e-78, 0.2177394442747479, 3.4170872600313767e-78, 0.25400289715190977, 3.9543559515104263e-78, 0.23397625978961173, 0.4089601472043678, 0.47156632089063605, 3.9543559515104263e-78, 0.329340597116918, 0.24712442545253582, 5.649668284632948e-78, 3.5318487635731415e-78, 0.19857943409196785, 3.7543227245346106e-78, 3.480275084383042e-78, 0.3759663529467017, 0.5452469119630863, 4.325613659716921e-78, 0.18295654224495206, 0.21401603033752975, 0.3872015705071016, 6.608446987146148e-78, 0.5923033072023249, 3.8245273678543377e-78, 4.2492320052205223e-78, 4.072526232117304e-78, 5.505162734888362e-78, 4.441064703901322e-78, 0.5038920485259633, 0.4412739850976206, 4.2000996787548048e-78, 4.376214235595946e-78, 0.5445178846139404, 0.24384183193426084, 0.48937178199164066, 0.28110041382951884, 0.2998221389342337, 0.2620251007173262, 0.38827267775222324, 5.054047850144e-78, 3.480275084383042e-78, 0.3438931217657843, 0.29615165360116247, 3.6060639741223444e-78, 4.887310777383362e-78, 0.6298129992394241, 0.49735673561245436, 3.9543559515104263e-78, 0.3558785149067877, 0.48415247130346006, 6.151108590107774e-78, 5.731095145962094e-78, 4.2492320052205223e-78, 0.4832697830906221, 0.2293287319577502, 4.368596775501534e-78, 0.2737678098181288, 4.921852225123671e-78, 4.1735993043546123e-78, 0.22637359354764466, 0.4001601601922499, 3.8245273678543377e-78, 3.5318487635731415e-78, 0.20149416157064579, 0.2915369229944523, 6.274155134731464e-78, 0.2613022659677713, 0.2224246939793677, 3.9543559515104263e-78, 4.493015814012153e-78, 0.4428500142691474, 0.393755531055134, 3.919445536306192e-78, 4.4646672960328985e-78, 0.33260249505555045, 0.37817904276524744, 4.203779138856614e-78, 0.16719528196867428, 0.4228428342860615, 3.5318487635731415e-78, 6.055729004694972e-78, 0.2722589423069702, 0.18207052811092134, 0.5847065326973129, 0.4758733096412523, 3.795218485083911e-78, 0.22401521369401356, 3.739798960152716e-78, 0.5828233954152654, 0.3646285861936467, 5.367249453774744e-78, 0.31170906522700675, 0.3669531650821538, 4.750785807920379e-78, 3.7432315465653264e-78, 0.2533654946448647, 4.601359000402709e-78, 0.3237722713145643, 0.2722589423069702, 0.3013040489278569, 0.45723134461864345, 0.25400289715190977, 5.649668284632948e-78, 3.8245273678543377e-78, 0.3200286101270289, 4.203779138856614e-78, 0.25336549464486463, 3.024236138128744e-78, 0.5564924657670628, 0.43748114312246444, 0.28489318277723963, 0.16950852799011137, 0.22423870508323301, 0.35788354361456914, 0.2978201796359045, 3.6626848497336297e-78, 4.363361778950655e-78, 0.13924499401499874, 0.2601278440403792, 0.4682568791024402, 0.2805922810112933, 4.998532044636711e-78, 0.2187405715612322, 3.3042234935730684e-78, 3.3096093688107345e-78, 4.8324911469486965e-78, 0.2533654946448647, 4.648174375417067e-78, 5.367249453774744e-78, 0.24264382743890414, 4.8324911469486965e-78, 5.30941411456236e-78, 3.9294060881161865e-78, 3.480275084383042e-78, 0.3521856535823236, 0.21972813874997157, 0.30620490882364887, 0.3784481137591871, 0.5445178846139404, 0.45788313721339824, 0.26584835766658776, 4.376214235595946e-78, 0.49735673561245436, 0.3264971028628052, 4.963273987908844e-78, 0.49735673561245436, 4.072526232117304e-78, 4.2224216322140875e-78, 0.24712442545253582, 0.28110041382951884, 3.382391525452011e-78, 0.49735673561245436, 0.2094841271665114, 0.26518122980477765, 4.0223640677924976e-78, 0.3920905655164667, 0.43748114312246444, 5.561077084027867e-78, 0.36191740494054164, 0.7825422900366437, 4.368596775501534e-78, 5.204225105746822e-78, 0.28117066259517454, 0.4366835442847812, 5.053216933905455e-78, 0.39073802494525, 0.329340597116918, 0.2891784933232572, 3.0563357593914e-78, 0.35831291876413535, 0.2978201796359045, 0.1934529902282619, 3.9543559515104263e-78, 5.785902629078803e-78, 0.25336549464486463, 6.253948253523769e-78, 0.3521856535823236, 5.367249453774744e-78, 4.819257363717556e-78, 3.739798960152716e-78, 0.23397625978961173, 0.329340597116918, 4.325613659716921e-78, 0.35630548449868954, 0.26518122980477765, 0.15948715931428456, 4.603971183686009e-78, 0.4591497693322865, 0.4758733096412523, 0.2620251007173262, 0.4089601472043678, 0.5266403878479265, 4.601359000402709e-78, 0.22637359354764466, 5.785902629078803e-78, 0.4792365811426396, 0.5038920485259633, 6.732022848272321e-78, 4.601359000402709e-78, 4.1812223485422183e-78, 4.921852225123671e-78, 3.2083466360234637e-78, 0.2978201796359045, 0.4293663233009672, 0.25336549464486463, 3.8245273678543377e-78, 3.6799428630948515e-78, 4.728505808474833e-78, 0.29615165360116247, 0.5038920485259633, 3.9543559515104263e-78, 0.6703420896351792, 3.0957805077256552e-78, 0.21314568971111159, 3.103010873451748e-78, 5.367249453774744e-78, 0.23397625978961173, 0.38503228868787126, 0.5149732203257935, 0.2574866101628968, 0.22718709780542318, 0.2601278440403792, 0.29420957081163696, 0.4682568791024402, 0.2545093860020286, 0.4727526606311562, 0.27091988546756285, 0.2722589423069702, 4.034282314146679e-78, 0.2479135867329687, 0.41374412020518814, 4.819257363717556e-78, 0.4261082723917018, 5.057855045197707e-78, 4.493015814012153e-78, 4.887310777383362e-78, 3.670614669285479e-78, 4.034282314146679e-78, 0.22117856823621687, 4.0053498901414167e-78, 0.2058122617930425, 0.284955776032203, 5.502798075292677e-78, 4.484824319939061e-78, 5.053216933905455e-78, 4.2492320052205223e-78, 0.25336549464486463, 0.28646290158800986, 0.49009410393069486, 0.32523403430389786, 0.4250281413416978, 0.5946035575013605, 0.4646684393670021, 0.25947507140745757, 4.423004192124357e-78, 0.18528248912418746, 4.0636244822144107e-78, 0.6298129992394241, 0.5031747626530138, 0.24688498672025874, 2.9857029691673486e-78, 0.49735673561245436, 0.21142141714303078, 4.672877677722847e-78, 0.19674979811155635, 5.649668284632948e-78, 0.32774568052975916, 0.4832697830906221, 0.5149732203257935, 5.175068635926021e-78, 0.1702602472176709, 3.85155751147022e-78, 5.592303817076657e-78, 4.797597231912944e-78, 0.18207052811092134, 0.4412994555017375, 0.2737928561916526, 4.2000996787548048e-78, 0.29420957081163696, 4.2000996787548048e-78, 0.26518122980477765, 0.47087130600152305, 4.376214235595946e-78, 0.4295136946366521, 0.30576902884505114, 6.055729004694972e-78, 0.2479135867329687, 0.5749089871602278, 0.2204887282071633, 4.353210680713636e-78, 4.484824319939061e-78, 0.6865065103648591, 5.502798075292677e-78, 0.39753601762639507, 3.7432315465653264e-78, 0.45723134461864345, 0.43748114312246444, 0.6104735835807844, 0.7825422900366437, 5.179818589191765e-78, 0.5445178846139404, 0.4615425015629849, 4.2000996787548048e-78, 0.3200286101270289, 4.493015814012153e-78, 0.342347495586902, 0.2737928561916526, 4.0524962413350997e-78, 0.30289764018096393, 4.441064703901322e-78, 3.3252037442622604e-78, 0.24384183193426084, 0.284955776032203, 2.946587079304437e-78, 0.32857020447977725, 0.3200286101270289, 4.661032518640916e-78, 5.592303817076657e-78, 4.368596775501534e-78, 0.5093498412990677, 3.534942808382822e-78, 0.24739977342883948, 0.5856596027429395, 3.935811009269448e-78, 5.343126373842921e-78, 4.325613659716921e-78, 4.797597231912944e-78, 3.9208171709994685e-78, 3.935811009269448e-78, 0.2601278440403792, 0.6703420896351792, 6.0598953153840875e-78, 3.795218485083911e-78, 3.550619214218512e-78, 6.407559165945113e-78, 0.3003918358815796, 0.3352113419081665, 5.853101685109129e-78, 6.000767315419426e-78, 4.0622028886850106e-78, 0.4188216850419828, 0.3759663529467017, 4.325613659716921e-78, 5.471968861960635e-78, 0.4333207865423752, 0.24022110864391533, 5.710573424667155e-78, 0.42610827239170174, 3.603235312613151e-78, 0.4089601472043678, 0.23462350320528, 0.2998221389342337, 5.502798075292677e-78, 0.4089601472043678, 4.2000996787548048e-78, 4.072526232117304e-78, 3.1476699889714443e-78, 0.25400289715190977, 0.5, 0.4736415826167952, 0.3934995962231127, 0.5149732203257935, 3.5318487635731415e-78, 0.16320641733280242, 4.921852225123671e-78, 4.072526232117304e-78, 0.5847065326973129, 5.844769846644999e-78, 0.5038920485259633, 3.144783539361942e-78, 4.702548232789489e-78, 4.13876789251507e-78, 0.28977907494497107, 3.2683416997819595e-78, 0.3615855225145535, 0.855526185871245, 0.30130404892785684, 0.6262844962765468, 3.480275084383042e-78, 6.684777663987187e-78, 4.0497100614543497e-78, 0.3315796151992083, 0.5423782837718303, 0.23505204106959587, 0.3264971028628052, 3.0074186032008e-78, 0.3850322886878713, 3.771272693679486e-78, 5.367249453774744e-78, 0.43748114312246444, 0.5333505353503044, 4.702548232789489e-78, 5.343126373842921e-78, 0.3021375397356768, 0.5142401605028263, 4.376214235595946e-78, 4.2000996787548048e-78, 3.5318487635731415e-78, 0.3661926362999429, 0.5174476594166615, 0.44815017360408727, 4.819257363717556e-78, 0.42311785416105785, 4.493015814012153e-78, 4.4646672960328985e-78, 3.4558505924538693e-78, 0.3021375397356768, 0.28646290158800986, 4.921852225123671e-78, 0.3200286101270289, 4.451477588278192e-78, 4.672421570614879e-78, 4.921852225123671e-78, 5.902360740129213e-78, 0.31614875844889434, 7.767943585154982e-78, 4.13876789251507e-78, 0.5452469119630863]\n",
            "500\n",
            "Average BLUE score : 0.202378\n"
          ]
        }
      ]
    },
    {
      "cell_type": "markdown",
      "metadata": {
        "id": "tL3LKIZ7dkdQ"
      },
      "source": [
        "## 1.7. Experiment with Teacher Forcing\n",
        "\n",
        "Redo steps 1.3 and 1.6 with teacher_forcing_ratio = 0.9 and 0.8. Comment on the results, speed of convergence and the quality of results. Note that in most real scenarious the teacher forcing is actually annealed; starting with teacher forcing = 1."
      ]
    },
    {
      "cell_type": "code",
      "metadata": {
        "collapsed": true,
        "id": "DX-D_PI7dkdV",
        "colab": {
          "base_uri": "https://localhost:8080/"
        },
        "outputId": "2fd18e66-be5d-4d47-a21d-9b8471063ff2"
      },
      "source": [
        "# Train the model and monitor the loss. Remember to use Adam optimizer and CrossEntropyLoss\n",
        "encoder = EncoderLSTM()\n",
        "decoder = DecoderLSTM()\n",
        "encoder_optimizer = torch.optim.Adam(encoder.parameters(), lr=0.0005) \n",
        "decoder_optimizer = torch.optim.Adam(decoder.parameters(), lr=0.0005) \n",
        "criterion = nn.CrossEntropyLoss()\n",
        "epochs = 5\n",
        "\n",
        "print(\"Start training end-to-end network ......\")\n",
        "for epoch in range(epochs):\n",
        "    epoch_loss=[]\n",
        "    count=0\n",
        "    for id, sentence in enumerate(filtered_sentences): #use 1/4 data\n",
        "        target_variable = piglatin_filtered_sentences[id]\n",
        "        loss = train(sentence, target_variable, encoder, decoder, \n",
        "                     encoder_optimizer, decoder_optimizer, \n",
        "                     criterion, teacher_forcing_ratio = 0.90, \n",
        "                     decoderType=\"LSTM\")\n",
        "        \n",
        "        count = count+1\n",
        "        if count%500==0:\n",
        "            print(\"Single sentence Loss (epoch %d) : %f\" % (epoch, loss))\n",
        "        epoch_loss.append(loss)\n",
        "        \n",
        "    print(\"Loss (epoch %d) : %f\" % (epoch, np.sum(epoch_loss)/len(filtered_sentences))) \n",
        "\n",
        "\n",
        "# Perform inference for all validation sequences and report the average BLEU score"
      ],
      "execution_count": null,
      "outputs": [
        {
          "output_type": "stream",
          "name": "stdout",
          "text": [
            "Start training end-to-end network ......\n",
            "Single sentence Loss (epoch 0) : 3.013966\n",
            "Single sentence Loss (epoch 0) : 2.777706\n",
            "Single sentence Loss (epoch 0) : 3.095503\n",
            "Single sentence Loss (epoch 0) : 3.972081\n",
            "Single sentence Loss (epoch 0) : 3.411978\n",
            "Single sentence Loss (epoch 0) : 2.053121\n",
            "Single sentence Loss (epoch 0) : 4.055555\n",
            "Single sentence Loss (epoch 0) : 4.572119\n",
            "Single sentence Loss (epoch 0) : 4.297745\n",
            "Single sentence Loss (epoch 0) : 2.684850\n",
            "Single sentence Loss (epoch 0) : 3.064920\n",
            "Single sentence Loss (epoch 0) : 3.793001\n",
            "Single sentence Loss (epoch 0) : 4.215665\n",
            "Single sentence Loss (epoch 0) : 1.955022\n",
            "Single sentence Loss (epoch 0) : 4.384653\n",
            "Single sentence Loss (epoch 0) : 2.988850\n",
            "Single sentence Loss (epoch 0) : 3.462897\n",
            "Single sentence Loss (epoch 0) : 3.072012\n",
            "Single sentence Loss (epoch 0) : 2.661789\n",
            "Single sentence Loss (epoch 0) : 5.012444\n",
            "Single sentence Loss (epoch 0) : 3.116217\n",
            "Single sentence Loss (epoch 0) : 2.642205\n",
            "Single sentence Loss (epoch 0) : 4.048685\n",
            "Single sentence Loss (epoch 0) : 4.334896\n",
            "Single sentence Loss (epoch 0) : 4.893260\n",
            "Single sentence Loss (epoch 0) : 1.624490\n",
            "Single sentence Loss (epoch 0) : 3.134153\n",
            "Single sentence Loss (epoch 0) : 2.223917\n",
            "Single sentence Loss (epoch 0) : 3.856964\n",
            "Single sentence Loss (epoch 0) : 2.791846\n",
            "Single sentence Loss (epoch 0) : 1.753490\n",
            "Single sentence Loss (epoch 0) : 2.484896\n",
            "Single sentence Loss (epoch 0) : 2.442434\n",
            "Single sentence Loss (epoch 0) : 2.221456\n",
            "Single sentence Loss (epoch 0) : 2.564827\n",
            "Single sentence Loss (epoch 0) : 2.200956\n",
            "Single sentence Loss (epoch 0) : 1.203409\n",
            "Single sentence Loss (epoch 0) : 2.720212\n",
            "Single sentence Loss (epoch 0) : 2.773687\n",
            "Single sentence Loss (epoch 0) : 4.617840\n",
            "Loss (epoch 0) : 2.903999\n",
            "Single sentence Loss (epoch 1) : 1.959116\n",
            "Single sentence Loss (epoch 1) : 1.314842\n",
            "Single sentence Loss (epoch 1) : 2.220377\n",
            "Single sentence Loss (epoch 1) : 2.913763\n",
            "Single sentence Loss (epoch 1) : 2.101175\n",
            "Single sentence Loss (epoch 1) : 1.179086\n",
            "Single sentence Loss (epoch 1) : 3.282084\n",
            "Single sentence Loss (epoch 1) : 3.696359\n",
            "Single sentence Loss (epoch 1) : 3.147179\n",
            "Single sentence Loss (epoch 1) : 1.749327\n",
            "Single sentence Loss (epoch 1) : 2.446156\n",
            "Single sentence Loss (epoch 1) : 2.771538\n",
            "Single sentence Loss (epoch 1) : 4.852521\n",
            "Single sentence Loss (epoch 1) : 1.262999\n",
            "Single sentence Loss (epoch 1) : 3.430677\n",
            "Single sentence Loss (epoch 1) : 2.428762\n",
            "Single sentence Loss (epoch 1) : 2.723031\n",
            "Single sentence Loss (epoch 1) : 2.581168\n",
            "Single sentence Loss (epoch 1) : 1.255551\n",
            "Single sentence Loss (epoch 1) : 4.339076\n",
            "Single sentence Loss (epoch 1) : 2.097567\n",
            "Single sentence Loss (epoch 1) : 1.930314\n",
            "Single sentence Loss (epoch 1) : 1.639428\n",
            "Single sentence Loss (epoch 1) : 3.063887\n",
            "Single sentence Loss (epoch 1) : 4.064595\n",
            "Single sentence Loss (epoch 1) : 0.888279\n",
            "Single sentence Loss (epoch 1) : 2.105016\n",
            "Single sentence Loss (epoch 1) : 1.513576\n",
            "Single sentence Loss (epoch 1) : 1.252425\n",
            "Single sentence Loss (epoch 1) : 2.330594\n",
            "Single sentence Loss (epoch 1) : 0.882014\n",
            "Single sentence Loss (epoch 1) : 2.484306\n",
            "Single sentence Loss (epoch 1) : 1.086901\n",
            "Single sentence Loss (epoch 1) : 1.687310\n",
            "Single sentence Loss (epoch 1) : 1.415848\n",
            "Single sentence Loss (epoch 1) : 1.544737\n",
            "Single sentence Loss (epoch 1) : 0.571050\n",
            "Single sentence Loss (epoch 1) : 3.515320\n",
            "Single sentence Loss (epoch 1) : 1.847463\n",
            "Single sentence Loss (epoch 1) : 2.957940\n",
            "Loss (epoch 1) : 2.016448\n",
            "Single sentence Loss (epoch 2) : 1.958534\n",
            "Single sentence Loss (epoch 2) : 0.510526\n",
            "Single sentence Loss (epoch 2) : 0.962581\n",
            "Single sentence Loss (epoch 2) : 1.811084\n",
            "Single sentence Loss (epoch 2) : 1.055515\n",
            "Single sentence Loss (epoch 2) : 0.544550\n",
            "Single sentence Loss (epoch 2) : 2.613119\n",
            "Single sentence Loss (epoch 2) : 2.753805\n",
            "Single sentence Loss (epoch 2) : 2.124444\n",
            "Single sentence Loss (epoch 2) : 0.856273\n",
            "Single sentence Loss (epoch 2) : 2.009248\n",
            "Single sentence Loss (epoch 2) : 1.765963\n",
            "Single sentence Loss (epoch 2) : 3.109365\n",
            "Single sentence Loss (epoch 2) : 0.677870\n",
            "Single sentence Loss (epoch 2) : 2.543275\n",
            "Single sentence Loss (epoch 2) : 1.808717\n",
            "Single sentence Loss (epoch 2) : 1.967804\n",
            "Single sentence Loss (epoch 2) : 1.972325\n",
            "Single sentence Loss (epoch 2) : 0.574780\n",
            "Single sentence Loss (epoch 2) : 1.856065\n",
            "Single sentence Loss (epoch 2) : 1.387109\n",
            "Single sentence Loss (epoch 2) : 1.595313\n",
            "Single sentence Loss (epoch 2) : 0.653301\n",
            "Single sentence Loss (epoch 2) : 2.279837\n",
            "Single sentence Loss (epoch 2) : 2.085522\n",
            "Single sentence Loss (epoch 2) : 0.182271\n",
            "Single sentence Loss (epoch 2) : 1.234827\n",
            "Single sentence Loss (epoch 2) : 1.168742\n",
            "Single sentence Loss (epoch 2) : 0.596823\n",
            "Single sentence Loss (epoch 2) : 3.919614\n",
            "Single sentence Loss (epoch 2) : 0.601191\n",
            "Single sentence Loss (epoch 2) : 0.556488\n",
            "Single sentence Loss (epoch 2) : 0.482816\n",
            "Single sentence Loss (epoch 2) : 1.071378\n",
            "Single sentence Loss (epoch 2) : 0.674358\n",
            "Single sentence Loss (epoch 2) : 0.917053\n",
            "Single sentence Loss (epoch 2) : 0.188409\n",
            "Single sentence Loss (epoch 2) : 1.327774\n",
            "Single sentence Loss (epoch 2) : 1.203984\n",
            "Single sentence Loss (epoch 2) : 1.900947\n",
            "Loss (epoch 2) : 1.305647\n",
            "Single sentence Loss (epoch 3) : 0.954514\n",
            "Single sentence Loss (epoch 3) : 0.306125\n",
            "Single sentence Loss (epoch 3) : 0.549394\n",
            "Single sentence Loss (epoch 3) : 1.203235\n",
            "Single sentence Loss (epoch 3) : 0.428566\n",
            "Single sentence Loss (epoch 3) : 0.163485\n",
            "Single sentence Loss (epoch 3) : 1.738441\n",
            "Single sentence Loss (epoch 3) : 2.138807\n",
            "Single sentence Loss (epoch 3) : 1.613881\n",
            "Single sentence Loss (epoch 3) : 1.559970\n",
            "Single sentence Loss (epoch 3) : 1.265104\n",
            "Single sentence Loss (epoch 3) : 1.212678\n",
            "Single sentence Loss (epoch 3) : 2.244397\n",
            "Single sentence Loss (epoch 3) : 0.332323\n",
            "Single sentence Loss (epoch 3) : 2.059197\n",
            "Single sentence Loss (epoch 3) : 0.827948\n",
            "Single sentence Loss (epoch 3) : 0.924795\n",
            "Single sentence Loss (epoch 3) : 1.895409\n",
            "Single sentence Loss (epoch 3) : 0.209663\n",
            "Single sentence Loss (epoch 3) : 1.097560\n",
            "Single sentence Loss (epoch 3) : 0.906288\n",
            "Single sentence Loss (epoch 3) : 0.936317\n",
            "Single sentence Loss (epoch 3) : 0.249244\n",
            "Single sentence Loss (epoch 3) : 1.582230\n",
            "Single sentence Loss (epoch 3) : 1.454997\n",
            "Single sentence Loss (epoch 3) : 0.087860\n",
            "Single sentence Loss (epoch 3) : 0.482050\n",
            "Single sentence Loss (epoch 3) : 0.858771\n",
            "Single sentence Loss (epoch 3) : 0.490876\n",
            "Single sentence Loss (epoch 3) : 1.066819\n",
            "Single sentence Loss (epoch 3) : 0.315685\n",
            "Single sentence Loss (epoch 3) : 0.976535\n",
            "Single sentence Loss (epoch 3) : 0.413740\n",
            "Single sentence Loss (epoch 3) : 0.812512\n",
            "Single sentence Loss (epoch 3) : 0.512382\n",
            "Single sentence Loss (epoch 3) : 0.447153\n",
            "Single sentence Loss (epoch 3) : 0.041976\n",
            "Single sentence Loss (epoch 3) : 0.621936\n",
            "Single sentence Loss (epoch 3) : 0.655095\n",
            "Single sentence Loss (epoch 3) : 1.398505\n",
            "Loss (epoch 3) : 0.858322\n",
            "Single sentence Loss (epoch 4) : 0.477902\n",
            "Single sentence Loss (epoch 4) : 0.050702\n",
            "Single sentence Loss (epoch 4) : 0.140559\n",
            "Single sentence Loss (epoch 4) : 0.881590\n",
            "Single sentence Loss (epoch 4) : 0.293299\n",
            "Single sentence Loss (epoch 4) : 0.107101\n",
            "Single sentence Loss (epoch 4) : 0.958469\n",
            "Single sentence Loss (epoch 4) : 1.795033\n",
            "Single sentence Loss (epoch 4) : 0.952177\n",
            "Single sentence Loss (epoch 4) : 0.424077\n",
            "Single sentence Loss (epoch 4) : 1.155835\n",
            "Single sentence Loss (epoch 4) : 0.532548\n",
            "Single sentence Loss (epoch 4) : 1.486784\n",
            "Single sentence Loss (epoch 4) : 0.135261\n",
            "Single sentence Loss (epoch 4) : 1.500374\n",
            "Single sentence Loss (epoch 4) : 0.354327\n",
            "Single sentence Loss (epoch 4) : 0.568602\n",
            "Single sentence Loss (epoch 4) : 0.886764\n",
            "Single sentence Loss (epoch 4) : 0.061497\n",
            "Single sentence Loss (epoch 4) : 0.617724\n",
            "Single sentence Loss (epoch 4) : 0.646837\n",
            "Single sentence Loss (epoch 4) : 0.678696\n",
            "Single sentence Loss (epoch 4) : 0.099280\n",
            "Single sentence Loss (epoch 4) : 1.273405\n",
            "Single sentence Loss (epoch 4) : 1.142127\n",
            "Single sentence Loss (epoch 4) : 0.061675\n",
            "Single sentence Loss (epoch 4) : 0.188361\n",
            "Single sentence Loss (epoch 4) : 0.648259\n",
            "Single sentence Loss (epoch 4) : 0.205585\n",
            "Single sentence Loss (epoch 4) : 0.750069\n",
            "Single sentence Loss (epoch 4) : 0.123544\n",
            "Single sentence Loss (epoch 4) : 0.441298\n",
            "Single sentence Loss (epoch 4) : 0.246549\n",
            "Single sentence Loss (epoch 4) : 0.430780\n",
            "Single sentence Loss (epoch 4) : 0.381799\n",
            "Single sentence Loss (epoch 4) : 0.299120\n",
            "Single sentence Loss (epoch 4) : 0.029138\n",
            "Single sentence Loss (epoch 4) : 0.589618\n",
            "Single sentence Loss (epoch 4) : 0.602969\n",
            "Single sentence Loss (epoch 4) : 0.923896\n",
            "Loss (epoch 4) : 0.569937\n"
          ]
        }
      ]
    },
    {
      "cell_type": "code",
      "source": [
        "avg_score=[]\n",
        "\n",
        "# iterate over the validation set \n",
        "for idx, input_sentence in enumerate(val_sentences): \n",
        "    word_list, _ = inference(input_sentence, encoder, decoder, decoderType=\"LSTM\")\n",
        "    output_sentence = ' '.join(word_list[:-1])\n",
        "    target_sentence = piglatin_val_sentences[idx]\n",
        "    # print(target_sentence)\n",
        "    score = compute_bleu('<SOS> '+target_sentence, output_sentence)\n",
        "    avg_score.append(score)\n",
        "    if idx < 10 :\n",
        "        print('BLEU score distance between \\n  \"' + target_sentence + '\" \\nand\\n  \"'+ output_sentence + '\" \\n is: ' + str(score) +'\\n\\n')\n",
        "\n",
        "print(avg_score)\n",
        "print(len(val_sentences))\n",
        "final_score = np.sum(avg_score)/len(val_sentences)\n",
        "print(\"Average BLUE score : %f\" % (final_score)) "
      ],
      "metadata": {
        "colab": {
          "base_uri": "https://localhost:8080/"
        },
        "id": "DE_qKmTIlTfv",
        "outputId": "05d9b07a-84f4-45c8-e9b3-4deb44cdd108"
      },
      "execution_count": null,
      "outputs": [
        {
          "output_type": "stream",
          "name": "stdout",
          "text": [
            "BLEU score distance between \n",
            "  \"Etsay ofway ananasbay anginghay offway ofway away ananabay eetray.\" \n",
            "and\n",
            "  \"<SOS> etsay ofway oodfay , upway otay aketay away acefay .\" \n",
            " is: 0.31455601883230705\n",
            "\n",
            "\n",
            "BLEU score distance between \n",
            "  \"Otway unchesbay ofway eengray ananasbay onway ananabay eestray.\" \n",
            "and\n",
            "  \"<SOS> otway ocksclay ofway eengray ananasbay onway isplayday .\" \n",
            " is: 0.4412739850976206\n",
            "\n",
            "\n",
            "BLEU score distance between \n",
            "  \"Anymay alendarscay andway unchesbay ofway ananasbay anginghay onway away allway.\" \n",
            "and\n",
            "  \"<SOS> anymay ocksclay ithway andway ofway iledpay anginghay onway it'sway idesay .\" \n",
            " is: 0.23397625978961173\n",
            "\n",
            "\n",
            "BLEU score distance between \n",
            "  \"Ustersclay ofway ananasbay andway icturespay anginghay onway away allway.\" \n",
            "and\n",
            "  \"<SOS> enderblay ullfay ofway andway ananasbay andway anginghay onway away allway .\" \n",
            " is: 0.4001601601922499\n",
            "\n",
            "\n",
            "BLEU score distance between \n",
            "  \"otway ogsday atthay ooklay otay ebay ightingfay oneway anotherway\" \n",
            "and\n",
            "  \"<SOS> otway ogsday atthay avehay otay oneway anotherway anmay ookslay\" \n",
            " is: 0.4832697830906221\n",
            "\n",
            "\n",
            "BLEU score distance between \n",
            "  \"Otway ogsday ightingfay ithway oneway onway ishay ackbay onway ethay oundgray\" \n",
            "and\n",
            "  \"<SOS> erethay andway away othay ithway ishay onway ishay oardbay onway ethay oundgray\" \n",
            " is: 5.204225105746822e-78\n",
            "\n",
            "\n",
            "BLEU score distance between \n",
            "  \"Unchesbay ofway eengray ananasbay anginghay ownday omfray eestray.\" \n",
            "and\n",
            "  \"<SOS> enderblay ithway away eengray antplay anginghay omfray anginghay offway .\" \n",
            " is: 3.670614669285479e-78\n",
            "\n",
            "\n",
            "BLEU score distance between \n",
            "  \"Otway ogsday avehay away ayfulplay ightfay ithway oneway anotherway.\" \n",
            "and\n",
            "  \"<SOS> otway ogsday , away omanway oneway andhay asway anway atchesway .\" \n",
            " is: 0.29899503549981366\n",
            "\n",
            "\n",
            "BLEU score distance between \n",
            "  \"Ananabay eestray ithway argelay  anginghay unchesbay ofway ananasbay.\" \n",
            "and\n",
            "  \"<SOS> eestray acedplay ithway away owlbay ofway ananasbay allway .\" \n",
            " is: 4.484824319939061e-78\n",
            "\n",
            "\n",
            "BLEU score distance between \n",
            "  \"Erethay areway omesay eengray ananasbay anginghay inway unchesbay\" \n",
            "and\n",
            "  \"<SOS> erethay areway omesay eengray ananasbay utcay omfray inway itway\" \n",
            " is: 0.6315552371794037\n",
            "\n",
            "\n",
            "[0.31455601883230705, 0.4412739850976206, 0.23397625978961173, 0.4001601601922499, 0.4832697830906221, 5.204225105746822e-78, 3.670614669285479e-78, 0.29899503549981366, 4.484824319939061e-78, 0.6315552371794037, 0.5859059370151705, 0.2574866101628968, 0.3200286101270289, 5.913141352605895e-78, 5.844769846644999e-78, 0.29420957081163696, 0.23961829057131984, 4.451477588278192e-78, 4.376214235595946e-78, 0.21142141714303078, 3.573163960771238e-78, 0.27882410979222033, 0.2737928561916526, 4.072526232117304e-78, 3.739798960152716e-78, 0.670422683816333, 3.4170872600313767e-78, 0.22759483012793272, 0.37700638045494705, 0.46595384151899627, 0.6147881529512643, 0.28997844147152074, 0.2790159393585827, 0.4366835442847812, 0.27629350710622463, 0.2691109110344472, 0.24911471129155036, 5.053216933905455e-78, 0.3200286101270289, 3.480275084383042e-78, 0.34172334076593075, 0.15989214998944032, 4.337579510280189e-78, 5.343126373842921e-78, 0.430394752998613, 6.000767315419426e-78, 3.4558505924538693e-78, 4.13876789251507e-78, 0.2691109110344472, 0.317023313852343, 0.4958271734659374, 0.2891784933232572, 0.3448444257953326, 4.13876789251507e-78, 0.19923405658137924, 0.4186703741203227, 0.22997519112894443, 3.4013059152077374e-78, 0.2102369368326755, 0.2281399713503153, 3.3252037442622604e-78, 4.746278653501107e-78, 0.2978201796359045, 3.4558505924538693e-78, 0.22229849552064015, 3.328255793132717e-78, 3.670614669285479e-78, 0.21972813874997157, 0.20149416157064579, 0.22997519112894443, 0.3013040489278569, 0.5344445934790545, 0.31170906522700675, 0.20687206010259407, 0.22894156860669912, 0.27091988546756285, 3.144783539361942e-78, 3.9876353728947065e-78, 3.5318487635731415e-78, 0.30289764018096393, 4.742124357482983e-78, 0.2479135867329687, 0.4089601472043678, 3.6023053253599222e-78, 0.22997519112894443, 3.3252037442622604e-78, 0.39832871551569504, 0.28646290158800986, 0.4001601601922499, 0.5445178846139404, 0.24264382743890414, 4.648174375417067e-78, 5.785902629078803e-78, 4.337579510280189e-78, 0.14296145628396553, 3.3924135360874493e-78, 3.480275084383042e-78, 0.3200286101270289, 0.5452469119630863, 0.48633831680799433, 0.18295654224495206, 0.24384183193426084, 0.43242270754632145, 0.3660229848129988, 0.2691109110344472, 5.502798075292677e-78, 0.2460137257692754, 5.844769846644999e-78, 0.26460159523593296, 4.2000996787548048e-78, 0.5731224484094262, 0.5531345601521246, 3.5318487635731415e-78, 0.22718709780542318, 4.072526232117304e-78, 0.2547696540824902, 0.21305413619585087, 3.670614669285479e-78, 0.28997844147152074, 0.2547696540824902, 0.2596535889340338, 6.39673245531791e-78, 3.739798960152716e-78, 0.6652049901111008, 0.5410822690539396, 3.5318487635731415e-78, 4.2000996787548048e-78, 0.5731224484094262, 0.49735673561245436, 0.5783569866465142, 0.23632009599741205, 0.48415247130346006, 0.2689054715066593, 0.49735673561245436, 0.23397625978961173, 4.394319820046742e-78, 0.23397625978961173, 4.4646672960328985e-78, 0.2894742149567509, 0.20149416157064579, 0.5900468726392808, 0.21305413619585087, 0.8743402010410126, 0.547332024239071, 4.0622028886850106e-78, 0.21651956746181059, 4.1616134595344435e-78, 5.437443675741449e-78, 0.34172334076593075, 0.27091988546756285, 0.24712442545253582, 0.5328009719875519, 0.5828233954152654, 0.4792365811426396, 3.919445536306192e-78, 0.21186050864016664, 5.527642039019229e-78, 0.2790159393585827, 0.18814785746917084, 3.9266043707642588e-78, 0.49479954685767885, 3.3744794443119017e-78, 0.39073802494525, 0.5093498412990677, 0.1892240568795935, 0.5382218220688944, 1.0, 0.2177394442747479, 0.2722589423069702, 5.053216933905455e-78, 0.5828233954152654, 6.532035914650002e-78, 5.731095145962094e-78, 6.240986633072297e-78, 3.573163960771238e-78, 0.5344445934790545, 4.949020335969521e-78, 3.379289833492012e-78, 3.379289833492012e-78, 0.3388714363186176, 0.33428661215627314, 0.30934588294313714, 0.21401603033752975, 0.32559641262003014, 0.30576902884505114, 4.1097221129325703e-78, 0.3541698766144061, 0.15435109972796832, 0.29615165360116247, 2.9456173286121714e-78, 0.7033686408407427, 5.649668284632948e-78, 0.42902556537105646, 0.2118008548235711, 0.16586105071157164, 0.3453064989552128, 0.5760844201603896, 4.1315637435489806e-78, 0.17344707844932963, 0.2823146987385491, 0.21651956746181059, 0.6703420896351792, 4.768915687627802e-78, 4.511427729496973e-78, 0.195647514979229, 0.4374811431224644, 0.4333207865423752, 4.8324911469486965e-78, 0.34791594751284466, 0.22997519112894443, 0.8265168183793802, 0.284955776032203, 0.3315796151992083, 0.35630548449868954, 5.592303817076657e-78, 0.2177394442747479, 0.5024331618720053, 0.22997519112894443, 0.3669531650821538, 0.460462862587273, 0.3660229848129988, 0.30130404892785684, 0.2891784933232572, 4.2000996787548048e-78, 0.4817133384556925, 0.30289764018096393, 0.29502343631964045, 5.542933034426911e-78, 0.24022110864391533, 3.6626848497336297e-78, 0.4211813371894875, 0.4089601472043678, 0.5312583871630396, 0.45258880078905583, 0.40325042950627804, 0.2696698152099016, 3.935811009269448e-78, 5.612920797924422e-78, 0.3646285861936467, 2.9085581612344946e-78, 4.471944691487932e-78, 5.675175336138377e-78, 3.739798960152716e-78, 0.5731224484094262, 0.6606328636027614, 0.23901088824528133, 3.573163960771238e-78, 0.28110041382951884, 0.33599730590055277, 0.2620251007173262, 0.18002829271425147, 5.0460237243079205e-78, 0.317023313852343, 0.22637359354764466, 4.921852225123671e-78, 6.000767315419426e-78, 0.195647514979229, 0.5423782837718303, 0.3521856535823236, 0.2790159393585827, 0.24384183193426084, 0.23397625978961173, 0.49735673561245436, 0.23578316044531802, 5.731095145962094e-78, 0.35556702356686953, 0.22894156860669912, 0.338796999974464, 5.198432970890559e-78, 5.902360740129213e-78, 6.407559165945113e-78, 0.38827267775222324, 0.5923033072023249, 4.772234596095121e-78, 4.376214235595946e-78, 0.18207052811092134, 0.49735673561245436, 0.5149732203257935, 0.4001601601922499, 0.2737928561916526, 4.627283175378585e-78, 0.27629350710622463, 0.5659119256652702, 3.3924135360874493e-78, 0.3646285861936467, 0.4065220433860868, 4.0186755136450062e-78, 3.4558505924538693e-78, 4.441064703901322e-78, 5.732411579986148e-78, 0.31138788080750657, 0.46892438882117243, 0.20687206010259407, 0.24384183193426084, 0.23909453161355018, 0.22612164703205964, 0.299616004650186, 4.0622028886850106e-78, 0.35831291876413535, 0.7611606003349892, 0.36787632499277756, 4.940966573996927e-78, 2.9699189645069595e-78, 0.4089601472043678, 0.2978201796359045, 0.6703420896351792, 0.27091988546756285, 0.5568544122775908, 0.34172334076593075, 0.21142141714303078, 4.2492320052205223e-78, 0.2601278440403792, 0.49479954685767885, 6.240986633072297e-78, 0.35004827764973984, 0.23183229599938115, 4.972339366294867e-78, 3.795218485083911e-78, 4.0622028886850106e-78, 0.21651956746181059, 0.17966302274629617, 5.343126373842921e-78, 0.22905459829731561, 5.727154892587527e-78, 5.502798075292677e-78, 4.2117183227345767e-78, 0.36787632499277756, 0.25400289715190977, 0.2696698152099016, 0.44833867003844585, 0.5926885453293509, 0.21401603033752975, 0.27629350710622463, 0.5149732203257935, 0.317023313852343, 0.2574866101628968, 4.016470478239564e-78, 0.18506589978312343, 0.18842393723950338, 0.49009410393069486, 5.204225105746822e-78, 0.228561284264473, 3.0563357593914e-78, 0.23462350320528, 0.2737928561916526, 0.24903286388467735, 0.2044800736021839, 0.2658483576665877, 0.31170906522700675, 0.5452469119630863, 0.7825422900366437, 5.471968861960635e-78, 0.1875114458383465, 0.24739977342883948, 3.144783539361942e-78, 0.23505204106959587, 0.18207052811092134, 0.18951629567590741, 4.325613659716921e-78, 0.2545093860020286, 0.6703420896351792, 4.2000996787548048e-78, 0.35831291876413535, 0.25947507140745757, 0.24739977342883948, 0.2878787818101127, 5.527642039019229e-78, 0.5048005504343401, 3.103010873451748e-78, 0.5997820163128024, 0.24207623565173003, 0.45589068492988366, 0.20090239552893988, 0.5253819788848316, 4.441064703901322e-78, 0.591460168684858, 3.6626848497336297e-78, 0.6053287453371726, 0.4682568791024402, 0.7138957847176474, 0.5445178846139404, 0.5154458901398173, 0.29420957081163696, 0.32014060615821366, 0.3448444257953326, 4.819257363717556e-78, 5.367249453774744e-78, 4.325613659716921e-78, 0.2224246939793677, 0.23462350320528, 4.618846890203085e-78, 4.2000996787548048e-78, 4.2492320052205223e-78, 0.27091988546756285, 0.27668736912821895, 0.1461053448657972, 5.649668284632948e-78, 0.8265168183793802, 6.0598953153840875e-78, 0.2722589423069702, 4.368596775501534e-78, 0.5093498412990677, 0.17923344640485428, 0.5445178846139404, 0.5856596027429395, 4.2224216322140875e-78, 0.6298129992394241, 4.325613659716921e-78, 0.1760928267911618, 0.37709297891717664, 0.23183229599938115, 5.649668284632948e-78, 0.4089601472043678, 4.2000996787548048e-78, 4.2000996787548048e-78, 3.103010873451748e-78, 4.618846890203085e-78, 4.376214235595946e-78, 5.542933034426911e-78, 5.053216933905455e-78, 3.908633169762327e-78, 0.21401603033752975, 0.3872015705071016, 0.2891784933232572, 0.5491004867761125, 5.343126373842921e-78, 0.34791594751284466, 0.4250281413416978, 4.93016658248959e-78, 0.4354788885494958, 4.819257363717556e-78, 0.2521193618434983, 5.17862905677001e-78, 0.5348259312838877, 0.21972813874997157, 4.337579510280189e-78, 5.095744247519182e-78, 0.5008718428920987, 3.3042234935730684e-78, 0.2878787818101127, 0.7297627709554282, 0.5638855264308796, 0.24022110864391533, 0.6985342056580097, 0.3955332535877179, 0.1860533529275829, 3.9543559515104263e-78, 3.573163960771238e-78, 0.6262844962765468, 5.649668284632948e-78, 0.44710186192584195, 0.2925612730731506, 4.493015814012153e-78, 0.42610827239170174, 0.579558149889942, 3.85155751147022e-78, 0.25336549464486463, 0.855526185871245, 0.2978201796359045, 0.6298129992394241, 4.072526232117304e-78, 0.31702331385234306, 7.118247504588523e-78, 0.3021375397356768, 0.4810977290978808, 0.28110041382951884, 4.1735993043546123e-78, 3.935811009269448e-78, 0.32172944208038085, 3.603235312613151e-78, 3.5318487635731415e-78, 5.649668284632948e-78, 0.2691109110344472, 4.0497100614543497e-78, 6.055729004694972e-78, 4.815944018779553e-78, 0.5008718428920987, 3.739798960152716e-78, 4.484824319939061e-78, 4.0524962413350997e-78, 0.35556702356686953, 0.5423782837718303, 0.39846811316275854, 0.37700638045494705, 0.5303624596095554, 0.5344445934790545, 0.8065008590125561, 0.32559641262003014, 0.26518122980477765, 0.4366835442847812, 0.29420957081163696, 0.5093498412990677, 0.23578316044531802, 0.36883688707312123, 5.649668284632948e-78, 3.771272693679486e-78, 0.40980949787910764, 0.5109955811291784, 0.22718709780542318, 0.4240125351805037]\n",
            "500\n",
            "Average BLUE score : 0.245189\n"
          ]
        }
      ]
    },
    {
      "cell_type": "code",
      "source": [
        "# Your code goes here\n",
        "# Train the model and monitor the loss. Remember to use Adam optimizer and CrossEntropyLoss\n",
        "encoder = EncoderLSTM()\n",
        "decoder = DecoderLSTM()\n",
        "encoder_optimizer = torch.optim.Adam(encoder.parameters(), lr=0.0005) \n",
        "decoder_optimizer = torch.optim.Adam(decoder.parameters(), lr=0.0005) \n",
        "criterion = nn.CrossEntropyLoss()\n",
        "epochs = 5\n",
        "\n",
        "print(\"Start training end-to-end network ......\")\n",
        "for epoch in range(epochs):\n",
        "    epoch_loss=[]\n",
        "    count=0\n",
        "    for id, sentence in enumerate(filtered_sentences):\n",
        "        target_variable = piglatin_filtered_sentences[id]\n",
        "        loss = train(sentence, target_variable, encoder, decoder, \n",
        "                     encoder_optimizer, decoder_optimizer, \n",
        "                     criterion, teacher_forcing_ratio = 0.80, \n",
        "                     decoderType=\"LSTM\")\n",
        "        \n",
        "        count = count+1\n",
        "        if count%500==0:\n",
        "            print(\"Single sentence Loss (epoch %d) : %f\" % (epoch, loss))\n",
        "        epoch_loss.append(loss)\n",
        "        \n",
        "    print(\"Loss (epoch %d) : %f\" % (epoch, np.sum(epoch_loss)/len(filtered_sentences))) \n",
        "\n",
        "\n",
        "# Perform inference for all validation sequences and report the average BLEU score\n",
        "avg_score=[]\n",
        "\n",
        "# iterate over the validation set \n",
        "for idx, input_sentence in enumerate(val_sentences): \n",
        "    word_list, _ = inference(input_sentence, encoder, decoder, decoderType=\"LSTM\")\n",
        "    output_sentence = ' '.join(word_list[:-1])\n",
        "    target_sentence = piglatin_val_sentences[idx]\n",
        "    # print(target_sentence)\n",
        "    score = compute_bleu('<SOS> '+target_sentence, output_sentence)\n",
        "    avg_score.append(score)\n",
        "    if idx < 10 :\n",
        "        print('BLEU score distance between \\n  \"' + target_sentence + '\" \\nand\\n  \"'+ output_sentence + '\" \\n is: ' + str(score) +'\\n\\n')\n",
        "\n",
        "print(avg_score)\n",
        "print(len(val_sentences))\n",
        "final_score = np.sum(avg_score)/len(val_sentences)\n",
        "print(\"Average BLUE score : %f\" % (final_score))  "
      ],
      "metadata": {
        "colab": {
          "base_uri": "https://localhost:8080/"
        },
        "id": "e08FCB4yXjf3",
        "outputId": "944113cd-d77a-4285-c962-b870223d9fe8"
      },
      "execution_count": null,
      "outputs": [
        {
          "output_type": "stream",
          "name": "stdout",
          "text": [
            "Start training end-to-end network ......\n",
            "Single sentence Loss (epoch 0) : 2.934896\n",
            "Single sentence Loss (epoch 0) : 2.814061\n",
            "Single sentence Loss (epoch 0) : 3.186958\n",
            "Single sentence Loss (epoch 0) : 3.944696\n",
            "Single sentence Loss (epoch 0) : 3.393381\n",
            "Single sentence Loss (epoch 0) : 2.081439\n",
            "Single sentence Loss (epoch 0) : 4.211212\n",
            "Single sentence Loss (epoch 0) : 4.510678\n",
            "Single sentence Loss (epoch 0) : 4.328499\n",
            "Single sentence Loss (epoch 0) : 2.706542\n",
            "Single sentence Loss (epoch 0) : 3.157222\n",
            "Single sentence Loss (epoch 0) : 3.321675\n",
            "Single sentence Loss (epoch 0) : 4.250051\n",
            "Single sentence Loss (epoch 0) : 2.216181\n",
            "Single sentence Loss (epoch 0) : 4.386589\n",
            "Single sentence Loss (epoch 0) : 3.025132\n",
            "Single sentence Loss (epoch 0) : 3.271436\n",
            "Single sentence Loss (epoch 0) : 3.104487\n",
            "Single sentence Loss (epoch 0) : 2.704174\n",
            "Single sentence Loss (epoch 0) : 5.123661\n",
            "Single sentence Loss (epoch 0) : 3.095636\n",
            "Single sentence Loss (epoch 0) : 2.755634\n",
            "Single sentence Loss (epoch 0) : 2.805034\n",
            "Single sentence Loss (epoch 0) : 4.575232\n",
            "Single sentence Loss (epoch 0) : 3.941213\n",
            "Single sentence Loss (epoch 0) : 2.828230\n",
            "Single sentence Loss (epoch 0) : 3.256385\n",
            "Single sentence Loss (epoch 0) : 2.424734\n",
            "Single sentence Loss (epoch 0) : 2.971025\n",
            "Single sentence Loss (epoch 0) : 2.957540\n",
            "Single sentence Loss (epoch 0) : 2.108945\n",
            "Single sentence Loss (epoch 0) : 2.393258\n",
            "Single sentence Loss (epoch 0) : 2.445958\n",
            "Single sentence Loss (epoch 0) : 1.994315\n",
            "Single sentence Loss (epoch 0) : 4.078410\n",
            "Single sentence Loss (epoch 0) : 2.342934\n",
            "Single sentence Loss (epoch 0) : 2.696759\n",
            "Single sentence Loss (epoch 0) : 2.880010\n",
            "Single sentence Loss (epoch 0) : 2.764000\n",
            "Single sentence Loss (epoch 0) : 4.557785\n",
            "Loss (epoch 0) : 3.009066\n",
            "Single sentence Loss (epoch 1) : 3.129553\n",
            "Single sentence Loss (epoch 1) : 1.082260\n",
            "Single sentence Loss (epoch 1) : 2.424878\n",
            "Single sentence Loss (epoch 1) : 3.277861\n",
            "Single sentence Loss (epoch 1) : 2.944882\n",
            "Single sentence Loss (epoch 1) : 1.181136\n",
            "Single sentence Loss (epoch 1) : 4.900229\n",
            "Single sentence Loss (epoch 1) : 3.609280\n",
            "Single sentence Loss (epoch 1) : 3.256340\n",
            "Single sentence Loss (epoch 1) : 1.850994\n",
            "Single sentence Loss (epoch 1) : 4.005319\n",
            "Single sentence Loss (epoch 1) : 2.589253\n",
            "Single sentence Loss (epoch 1) : 3.808127\n",
            "Single sentence Loss (epoch 1) : 1.359658\n",
            "Single sentence Loss (epoch 1) : 3.687270\n",
            "Single sentence Loss (epoch 1) : 2.599884\n",
            "Single sentence Loss (epoch 1) : 2.458279\n",
            "Single sentence Loss (epoch 1) : 2.813485\n",
            "Single sentence Loss (epoch 1) : 1.337483\n",
            "Single sentence Loss (epoch 1) : 3.602155\n",
            "Single sentence Loss (epoch 1) : 2.094783\n",
            "Single sentence Loss (epoch 1) : 2.083026\n",
            "Single sentence Loss (epoch 1) : 1.884705\n",
            "Single sentence Loss (epoch 1) : 3.476296\n",
            "Single sentence Loss (epoch 1) : 4.503727\n",
            "Single sentence Loss (epoch 1) : 0.931885\n",
            "Single sentence Loss (epoch 1) : 2.187397\n",
            "Single sentence Loss (epoch 1) : 1.834268\n",
            "Single sentence Loss (epoch 1) : 1.392662\n",
            "Single sentence Loss (epoch 1) : 2.477557\n",
            "Single sentence Loss (epoch 1) : 1.254034\n",
            "Single sentence Loss (epoch 1) : 1.390880\n",
            "Single sentence Loss (epoch 1) : 1.254558\n",
            "Single sentence Loss (epoch 1) : 1.484165\n",
            "Single sentence Loss (epoch 1) : 1.799985\n",
            "Single sentence Loss (epoch 1) : 1.825863\n",
            "Single sentence Loss (epoch 1) : 0.665379\n",
            "Single sentence Loss (epoch 1) : 2.545201\n",
            "Single sentence Loss (epoch 1) : 1.447741\n",
            "Single sentence Loss (epoch 1) : 3.080698\n",
            "Loss (epoch 1) : 2.223710\n",
            "Single sentence Loss (epoch 2) : 1.451074\n",
            "Single sentence Loss (epoch 2) : 1.224658\n",
            "Single sentence Loss (epoch 2) : 1.367674\n",
            "Single sentence Loss (epoch 2) : 2.712706\n",
            "Single sentence Loss (epoch 2) : 1.112689\n",
            "Single sentence Loss (epoch 2) : 0.591946\n",
            "Single sentence Loss (epoch 2) : 2.546005\n",
            "Single sentence Loss (epoch 2) : 3.022058\n",
            "Single sentence Loss (epoch 2) : 2.809126\n",
            "Single sentence Loss (epoch 2) : 2.345899\n",
            "Single sentence Loss (epoch 2) : 1.795861\n",
            "Single sentence Loss (epoch 2) : 1.639779\n",
            "Single sentence Loss (epoch 2) : 3.033025\n",
            "Single sentence Loss (epoch 2) : 0.891125\n",
            "Single sentence Loss (epoch 2) : 2.678282\n",
            "Single sentence Loss (epoch 2) : 1.728255\n",
            "Single sentence Loss (epoch 2) : 1.854612\n",
            "Single sentence Loss (epoch 2) : 2.216246\n",
            "Single sentence Loss (epoch 2) : 0.885353\n",
            "Single sentence Loss (epoch 2) : 1.692225\n",
            "Single sentence Loss (epoch 2) : 1.689893\n",
            "Single sentence Loss (epoch 2) : 1.644641\n",
            "Single sentence Loss (epoch 2) : 0.919578\n",
            "Single sentence Loss (epoch 2) : 2.513902\n",
            "Single sentence Loss (epoch 2) : 3.077517\n",
            "Single sentence Loss (epoch 2) : 0.511001\n",
            "Single sentence Loss (epoch 2) : 2.204901\n",
            "Single sentence Loss (epoch 2) : 1.371836\n",
            "Single sentence Loss (epoch 2) : 0.680870\n",
            "Single sentence Loss (epoch 2) : 1.774592\n",
            "Single sentence Loss (epoch 2) : 0.488422\n",
            "Single sentence Loss (epoch 2) : 0.865744\n",
            "Single sentence Loss (epoch 2) : 0.638145\n",
            "Single sentence Loss (epoch 2) : 1.273115\n",
            "Single sentence Loss (epoch 2) : 1.170981\n",
            "Single sentence Loss (epoch 2) : 1.232507\n",
            "Single sentence Loss (epoch 2) : 0.513785\n",
            "Single sentence Loss (epoch 2) : 1.521753\n",
            "Single sentence Loss (epoch 2) : 1.136339\n",
            "Single sentence Loss (epoch 2) : 2.108765\n",
            "Loss (epoch 2) : 1.500115\n",
            "Single sentence Loss (epoch 3) : 0.897118\n",
            "Single sentence Loss (epoch 3) : 0.283038\n",
            "Single sentence Loss (epoch 3) : 0.685867\n",
            "Single sentence Loss (epoch 3) : 1.923803\n",
            "Single sentence Loss (epoch 3) : 0.488294\n",
            "Single sentence Loss (epoch 3) : 0.169980\n",
            "Single sentence Loss (epoch 3) : 1.827239\n",
            "Single sentence Loss (epoch 3) : 2.104752\n",
            "Single sentence Loss (epoch 3) : 1.744076\n",
            "Single sentence Loss (epoch 3) : 0.557967\n",
            "Single sentence Loss (epoch 3) : 1.379269\n",
            "Single sentence Loss (epoch 3) : 1.063412\n",
            "Single sentence Loss (epoch 3) : 1.893924\n",
            "Single sentence Loss (epoch 3) : 0.548562\n",
            "Single sentence Loss (epoch 3) : 2.051112\n",
            "Single sentence Loss (epoch 3) : 1.107430\n",
            "Single sentence Loss (epoch 3) : 1.370138\n",
            "Single sentence Loss (epoch 3) : 1.385034\n",
            "Single sentence Loss (epoch 3) : 0.178044\n",
            "Single sentence Loss (epoch 3) : 1.271414\n",
            "Single sentence Loss (epoch 3) : 2.377521\n",
            "Single sentence Loss (epoch 3) : 1.398178\n",
            "Single sentence Loss (epoch 3) : 0.491923\n",
            "Single sentence Loss (epoch 3) : 1.821204\n",
            "Single sentence Loss (epoch 3) : 1.236682\n",
            "Single sentence Loss (epoch 3) : 0.083331\n",
            "Single sentence Loss (epoch 3) : 0.758312\n",
            "Single sentence Loss (epoch 3) : 1.010298\n",
            "Single sentence Loss (epoch 3) : 0.258619\n",
            "Single sentence Loss (epoch 3) : 1.549849\n",
            "Single sentence Loss (epoch 3) : 0.248012\n",
            "Single sentence Loss (epoch 3) : 0.947297\n",
            "Single sentence Loss (epoch 3) : 0.438464\n",
            "Single sentence Loss (epoch 3) : 0.847033\n",
            "Single sentence Loss (epoch 3) : 1.149353\n",
            "Single sentence Loss (epoch 3) : 0.795529\n",
            "Single sentence Loss (epoch 3) : 0.098975\n",
            "Single sentence Loss (epoch 3) : 0.868373\n",
            "Single sentence Loss (epoch 3) : 0.729456\n",
            "Single sentence Loss (epoch 3) : 1.614078\n",
            "Loss (epoch 3) : 0.980842\n",
            "Single sentence Loss (epoch 4) : 0.433217\n",
            "Single sentence Loss (epoch 4) : 0.113913\n",
            "Single sentence Loss (epoch 4) : 0.482464\n",
            "Single sentence Loss (epoch 4) : 1.242189\n",
            "Single sentence Loss (epoch 4) : 0.142755\n",
            "Single sentence Loss (epoch 4) : 0.087820\n",
            "Single sentence Loss (epoch 4) : 1.110108\n",
            "Single sentence Loss (epoch 4) : 1.246146\n",
            "Single sentence Loss (epoch 4) : 0.955864\n",
            "Single sentence Loss (epoch 4) : 0.427468\n",
            "Single sentence Loss (epoch 4) : 1.014121\n",
            "Single sentence Loss (epoch 4) : 0.745258\n",
            "Single sentence Loss (epoch 4) : 1.317485\n",
            "Single sentence Loss (epoch 4) : 0.450672\n",
            "Single sentence Loss (epoch 4) : 1.858716\n",
            "Single sentence Loss (epoch 4) : 0.638745\n",
            "Single sentence Loss (epoch 4) : 0.853507\n",
            "Single sentence Loss (epoch 4) : 0.824673\n",
            "Single sentence Loss (epoch 4) : 0.079592\n",
            "Single sentence Loss (epoch 4) : 2.113765\n",
            "Single sentence Loss (epoch 4) : 0.751774\n",
            "Single sentence Loss (epoch 4) : 0.455088\n",
            "Single sentence Loss (epoch 4) : 0.132341\n",
            "Single sentence Loss (epoch 4) : 1.426908\n",
            "Single sentence Loss (epoch 4) : 0.701038\n",
            "Single sentence Loss (epoch 4) : 0.023715\n",
            "Single sentence Loss (epoch 4) : 0.219966\n",
            "Single sentence Loss (epoch 4) : 0.768336\n",
            "Single sentence Loss (epoch 4) : 0.201504\n",
            "Single sentence Loss (epoch 4) : 0.982599\n",
            "Single sentence Loss (epoch 4) : 0.148603\n",
            "Single sentence Loss (epoch 4) : 0.539711\n",
            "Single sentence Loss (epoch 4) : 0.370643\n",
            "Single sentence Loss (epoch 4) : 0.637717\n",
            "Single sentence Loss (epoch 4) : 0.623454\n",
            "Single sentence Loss (epoch 4) : 0.331212\n",
            "Single sentence Loss (epoch 4) : 0.026341\n",
            "Single sentence Loss (epoch 4) : 0.455657\n",
            "Single sentence Loss (epoch 4) : 0.427570\n",
            "Single sentence Loss (epoch 4) : 2.430678\n",
            "Loss (epoch 4) : 0.635031\n",
            "BLEU score distance between \n",
            "  \"Etsay ofway ananasbay anginghay offway ofway away ananabay eetray.\" \n",
            "and\n",
            "  \"<SOS> insideway ofway away ananasbay esidebay ananasbay outway away eetray eetray .\" \n",
            " is: 4.2492320052205223e-78\n",
            "\n",
            "\n",
            "BLEU score distance between \n",
            "  \"Otway unchesbay ofway eengray ananasbay onway ananabay eestray.\" \n",
            "and\n",
            "  \"<SOS> otway omfray away eengray ananasbay areway onway uitfray .\" \n",
            " is: 0.27091988546756285\n",
            "\n",
            "\n",
            "BLEU score distance between \n",
            "  \"Anymay alendarscay andway unchesbay ofway ananasbay anginghay onway away allway.\" \n",
            "and\n",
            "  \"<SOS> andingstay ithway away arietyvay ofway ananasbay andway anginghay omfray away .\" \n",
            " is: 4.072526232117304e-78\n",
            "\n",
            "\n",
            "BLEU score distance between \n",
            "  \"Ustersclay ofway ananasbay andway icturespay anginghay onway away allway.\" \n",
            "and\n",
            "  \"<SOS> insideway ofway away ackstay ofway oodsfay andway away away idesay .\" \n",
            " is: 3.4558505924538693e-78\n",
            "\n",
            "\n",
            "BLEU score distance between \n",
            "  \"otway ogsday atthay ooklay otay ebay ightingfay oneway anotherway\" \n",
            "and\n",
            "  \"<SOS> otway atthay oneway otay otay oneway anotherway anotherway onway eirthay\" \n",
            " is: 0.24712442545253582\n",
            "\n",
            "\n",
            "BLEU score distance between \n",
            "  \"Otway ogsday ightingfay ithway oneway onway ishay ackbay onway ethay oundgray\" \n",
            "and\n",
            "  \"<SOS> itway andway otway enmay ithway oneway onway away ethay onway ethay\" \n",
            " is: 5.502798075292677e-78\n",
            "\n",
            "\n",
            "BLEU score distance between \n",
            "  \"Unchesbay ofway eengray ananasbay anginghay ownday omfray eestray.\" \n",
            "and\n",
            "  \"<SOS> insideway ofway away eengray ananasbay anginghay omfray anginghay eestray .\" \n",
            " is: 6.000767315419426e-78\n",
            "\n",
            "\n",
            "BLEU score distance between \n",
            "  \"Otway ogsday avehay away ayfulplay ightfay ithway oneway anotherway.\" \n",
            "and\n",
            "  \"<SOS> otway areway otway away ittlelay irlgay ithway oneway anotherway anmay .\" \n",
            " is: 0.2737928561916526\n",
            "\n",
            "\n",
            "BLEU score distance between \n",
            "  \"Ananabay eestray ithway argelay  anginghay unchesbay ofway ananasbay.\" \n",
            "and\n",
            "  \"<SOS>\" \n",
            " is: 6.08068718514316e-79\n",
            "\n",
            "\n",
            "BLEU score distance between \n",
            "  \"Erethay areway omesay eengray ananasbay anginghay inway unchesbay\" \n",
            "and\n",
            "  \"<SOS> erethay areway omesay eengray ananasbay anginghay inway eengray antsplay\" \n",
            " is: 0.8070557274927982\n",
            "\n",
            "\n",
            "[4.2492320052205223e-78, 0.27091988546756285, 4.072526232117304e-78, 3.4558505924538693e-78, 0.24712442545253582, 5.502798075292677e-78, 6.000767315419426e-78, 0.2737928561916526, 6.08068718514316e-79, 0.8070557274927982, 0.29502343631964045, 4.13876789251507e-78, 0.3200286101270289, 0.44534504264163466, 6.240986633072297e-78, 5.204225105746822e-78, 5.30941411456236e-78, 3.9294060881161865e-78, 4.627283175378585e-78, 3.908633169762327e-78, 0.2737928561916526, 0.24022110864391533, 3.379289833492012e-78, 4.2492320052205223e-78, 0.4160751652217845, 0.6115380576901023, 0.4192061018624393, 4.380047979294404e-78, 4.484824319939061e-78, 0.3646285861936467, 0.5129497107827519, 5.008605395783359e-78, 0.4832697830906221, 0.39832871551569504, 0.6652049901111009, 0.3200286101270289, 4.339097473595672e-78, 0.30130404892785684, 0.46595384151899627, 0.283130219764777, 6.532035914650002e-78, 3.7604422602850247e-78, 0.2620251007173262, 6.055729004694972e-78, 4.808145329067445e-78, 3.908633169762327e-78, 3.573163960771238e-78, 3.9543559515104263e-78, 0.29502343631964045, 0.37817904276524744, 0.391295029958458, 0.30576902884505114, 0.3508439695638686, 4.13876789251507e-78, 0.195647514979229, 0.2885537660018373, 6.831783694256932e-78, 3.0273958861031666e-80, 0.7138957847176474, 4.529659140032414e-78, 4.2492320052205223e-78, 3.2188487294350246e-78, 0.35084396956386854, 4.1097221129325703e-78, 0.23649264347513213, 0.18107197870881736, 0.21972813874997157, 3.6799428630948515e-78, 0.4428500142691474, 0.3264971028628052, 6.188901523829999e-78, 0.32523403430389786, 4.0622028886850106e-78, 0.24207623565173003, 0.3446073377034663, 6.342499378118519e-78, 4.13876789251507e-78, 4.484824319939061e-78, 6.240986633072297e-78, 0.668740304976422, 0.49735673561245436, 0.4333207865423752, 0.5923033072023249, 0.24405051724608798, 4.772234596095121e-78, 4.072526232117304e-78, 0.2545093860020286, 5.902360740129213e-78, 0.30130404892785684, 0.2545093860020286, 6.64260030525121e-78, 4.963273987908844e-78, 0.43242270754632145, 5.731095145962094e-78, 2.9456173286121714e-78, 3.85155751147022e-78, 3.6799428630948515e-78, 0.43527713779415106, 0.4617366309441026, 4.484824319939061e-78, 0.2192534486373552, 0.4832697830906221, 0.49735673561245436, 0.5773502691896257, 0.2978201796359045, 4.2492320052205223e-78, 4.368596775501534e-78, 0.32774568052975916, 0.46324806402157587, 4.2000996787548048e-78, 0.5445178846139404, 0.47085197326451766, 5.527642039019229e-78, 0.6298129992394241, 6.000767315419426e-78, 3.919445536306192e-78, 5.30941411456236e-78, 4.2000996787548048e-78, 0.5156626918239822, 0.28646290158800986, 0.2998221389342337, 2.584433612192727e-78, 3.7781608916810136e-78, 0.39832871551569504, 0.24207623565173003, 4.2000996787548048e-78, 3.908633169762327e-78, 4.376214235595946e-78, 0.2545093860020286, 0.24712442545253582, 0.3527295712700594, 0.49735673561245436, 0.3168900267453786, 4.484824319939061e-78, 0.22718709780542318, 4.418485280606592e-78, 0.32559641262003014, 4.601359000402709e-78, 3.845723017268071e-78, 3.869266288733996e-78, 0.2790159393585827, 3.3042234935730684e-78, 0.5607900239988007, 4.513300825451574e-78, 3.3744794443119017e-78, 0.22894156860669912, 3.843138756194223e-78, 0.4459798910708181, 0.34172334076593075, 0.38827267775222324, 0.2691109110344472, 4.1812223485422183e-78, 6.055729004694972e-78, 0.2829559628326351, 0.2620251007173262, 0.7376992540391843, 0.49735673561245436, 0.31702331385234306, 2.5658794074827934e-78, 0.3254455687469725, 0.5801559414528517, 3.919445536306192e-78, 6.000767315419426e-78, 0.6703420896351792, 3.3042234935730684e-78, 0.5801559414528517, 0.6703420896351792, 3.670614669285479e-78, 0.34791594751284466, 4.072526232117304e-78, 0.4333207865423752, 0.3646285861936467, 0.2891784933232572, 5.902360740129213e-78, 4.601359000402709e-78, 0.3200286101270289, 4.2657341875852417e-78, 0.28110041382951884, 0.30130404892785684, 4.672877677722847e-78, 0.35831291876413535, 3.6799428630948515e-78, 0.21401603033752975, 0.3661926362999429, 0.3784481137591871, 4.0622028886850106e-78, 0.3200286101270289, 4.22507131430009e-80, 0.2925612730731506, 3.1652718119850744e-78, 0.32774568052975916, 0.4030496880202121, 0.20617350508583812, 0.3665882729601239, 3.9714188256440806e-78, 0.4183198007552628, 0.2978201796359045, 5.501718777785591e-78, 4.444955259277824e-78, 0.26955554024312955, 0.28110041382951884, 0.5923033072023249, 0.2805922810112933, 3.603158955231386e-78, 4.913284999915658e-78, 4.13876789251507e-78, 3.550619214218512e-78, 0.6996579200093658, 0.2737928561916526, 0.28110041382951884, 0.7348889200874658, 5.072841446586652e-78, 0.2577229450699086, 0.284955776032203, 3.739798960152716e-78, 0.28110041382951884, 6.149852877356739e-78, 4.0622028886850106e-78, 0.22894156860669912, 6.432062707336974e-78, 0.2978201796359045, 5.785902629078803e-78, 4.2000996787548048e-78, 6.28061393563353e-78, 0.7611606003349892, 6.0598953153840875e-78, 0.32992925790017896, 0.44833867003844585, 0.2601278440403792, 3.6567243989863426e-78, 0.4089601472043678, 0.4089601472043678, 5.293728820255506e-78, 0.4250281413416978, 0.2187405715612322, 5.471968861960635e-78, 3.7432315465653264e-78, 0.588801853462409, 0.47718970758108814, 4.811155124174533e-78, 3.231681603406294e-78, 4.772234596095121e-78, 3.6170146665513074e-78, 0.342347495586902, 0.5512003357447272, 0.35084396956386854, 5.527642039019229e-78, 0.4089601472043678, 0.1934529902282619, 4.819257363717556e-78, 0.1981178554870824, 4.750785807920379e-78, 0.35084396956386854, 0.25947507140745757, 4.376214235595946e-78, 4.648174375417067e-78, 0.21651956746181059, 0.2479135867329687, 0.29615165360116247, 6.0598953153840875e-78, 0.2620251007173262, 0.25400289715190977, 0.2978201796359045, 0.360056585428503, 6.240986633072297e-78, 0.31314224813827346, 4.601359000402709e-78, 0.2741229265391949, 4.2278246140038775e-78, 0.7348889200874658, 0.4250281413416978, 4.337579510280189e-78, 0.5266403878479265, 6.788678806381363e-78, 4.493015814012153e-78, 0.3521856535823236, 4.648174375417067e-78, 0.4671379777282001, 0.3759663529467017, 0.44710186192584195, 6.965077358261036e-78, 0.5093498412990677, 5.204225105746822e-78, 0.2460137257692754, 0.29502343631964045, 0.2885537660018373, 5.727154892587527e-78, 4.0622028886850106e-78, 4.0129549646060866e-78, 5.732411579986148e-78, 0.40896014720436774, 0.6475445426291286, 3.379289833492012e-78, 6.407559165945113e-78, 0.17636478563502966, 2.705511348224575e-78, 0.5828233954152654, 6.573511241989912e-78, 0.4001601601922499, 4.2492320052205223e-78, 4.779037513713926e-78, 4.672877677722847e-78, 3.670614669285479e-78, 0.32774568052975916, 0.3200286101270289, 0.5923033072023249, 0.44833867003844585, 0.6930977286178778, 3.919445536306192e-78, 0.24022110864391533, 0.3703046833819061, 0.3584892329815312, 0.31314224813827346, 4.0524962413350997e-78, 0.31138788080750657, 0.23183229599938115, 0.31314224813827346, 4.325613659716921e-78, 0.23901088824528133, 4.376214235595946e-78, 0.1555927418189939, 4.13876789251507e-78, 3.11303688734956e-78, 4.750785807920379e-78, 3.514224602131555e-78, 4.484824319939061e-78, 5.053216933905455e-78, 0.23397625978961173, 5.053216933905455e-78, 4.819257363717556e-78, 0.578733153991148, 0.3448444257953326, 0.668740304976422, 0.5564924657670628, 0.5452469119630863, 0.42610827239170174, 0.20038908500140973, 0.09149503306016936, 0.4583034067124109, 0.32774568052975916, 0.4052587697205425, 5.1688672243853165e-78, 3.1476699889714443e-78, 4.484824319939061e-78, 4.376214235595946e-78, 0.4682568791024402, 0.2545093860020286, 0.2691109110344472, 0.31170906522700675, 0.5156626918239822, 0.6298129992394241, 0.44632249865123097, 0.20149416157064579, 6.055729004694972e-78, 5.785902629078803e-78, 0.391295029958458, 0.34791594751284466, 0.19835441454182887, 4.772234596095121e-78, 0.3200286101270289, 4.772234596095121e-78, 3.795218485083911e-78, 4.815944018779553e-78, 0.3538995029906511, 4.648174375417067e-78, 5.437443675741449e-78, 4.325613659716921e-78, 6.145467952731514e-78, 0.35630548449868954, 0.708587641194393, 0.29615165360116247, 3.665817515056023e-78, 0.2765355515845788, 0.5149732203257935, 0.32774568052975916, 0.3636227046500071, 3.4834694659780044e-78, 1.0, 0.5333505353503044, 0.7138957847176474, 0.7825422900366437, 0.26518122980477765, 0.45723134461864345, 5.195166368004445e-78, 4.337579510280189e-78, 0.3200286101270289, 4.91484601202685e-78, 4.648174375417067e-78, 0.24712442545253582, 4.856474469839072e-78, 0.3352113419081665, 4.484824319939061e-78, 3.4558505924538693e-78, 0.5452469119630863, 0.42311785416105785, 0.24338218459022268, 3.795218485083911e-78, 5.095744247519182e-78, 6.0598953153840875e-78, 0.3759663529467017, 0.29615165360116247, 0.3352113419081665, 3.534942808382822e-78, 0.44534504264163466, 0.4685909905380384, 3.844853295436682e-78, 0.7311104457090247, 4.648174375417067e-78, 0.3669531650821538, 0.23693055763743093, 3.7543227245346106e-78, 4.1812223485422183e-78, 0.7348889200874658, 6.240986633072297e-78, 3.670614669285479e-78, 0.2722589423069702, 6.407559165945113e-78, 4.2000996787548048e-78, 4.819257363717556e-78, 0.4785543921093737, 4.618846890203085e-78, 5.902360740129213e-78, 0.4001601601922499, 0.39832871551569504, 4.484824319939061e-78, 0.33089239986779956, 0.6298129992394241, 0.5923033072023249, 3.576443600717887e-78, 6.543966623561241e-78, 0.2620251007173262, 0.2891784933232572, 4.2117183227345767e-78, 0.32649710286280526, 6.965077358261036e-78, 4.484824319939061e-78, 5.095744247519182e-78, 0.2978201796359045, 3.103010873451748e-78, 0.31314224813827346, 0.3850322886878713, 3.4834694659780044e-78, 5.167701971508585e-78, 0.4682568791024402, 0.2224246939793677, 3.0876868946740303e-78, 0.2737928561916526, 3.795218485083911e-78, 0.3784481137591871, 0.4188216850419828, 0.30130404892785684, 0.20149416157064579, 4.441064703901322e-78, 0.4160751652217845, 0.6100034457014365, 5.343126373842921e-78, 0.4261082723917018, 0.6298129992394241, 0.5801559414528517, 0.6997522298221912, 0.32559641262003014, 4.963273987908844e-78, 5.690464134273058e-78, 0.6750797843126767, 0.5773502691896257, 0.3703046833819061, 3.919445536306192e-78, 0.3457913759237496, 0.38975749519739833, 3.771272693679486e-78, 5.844769846644999e-78, 6.000767315419426e-78, 0.27629350710622463, 0.3828751601861109, 0.22229849552064015, 5.785902629078803e-78, 6.240986633072297e-78, 4.376214235595946e-78, 0.27629350710622463, 3.919445536306192e-78, 3.4558505924538693e-78, 0.46892438882117243, 0.5423782837718303, 6.240986633072297e-78, 3.9543559515104263e-78, 6.432062707336974e-78, 0.3237722713145643, 0.32559641262003014, 0.4261082723917018, 6.240986633072297e-78, 0.2601278440403792, 0.46595384151899627, 0.25336549464486463, 0.3309427863700569, 5.204225105746822e-78, 4.819257363717556e-78, 0.3315796151992083, 6.511781295909997e-78, 3.6799428630948515e-78, 0.3087818953963449]\n",
            "500\n",
            "Average BLUE score : 0.215670\n"
          ]
        }
      ]
    },
    {
      "cell_type": "markdown",
      "metadata": {
        "id": "W3wDN2Z1dkdX"
      },
      "source": [
        "## 1.8. Encoding as Generic Feature Representation\n",
        "\n",
        "We now use the final hidden state of our encoder, to identify the nearest neighbor amongst the training sentences for each sentence in our validation data.\n",
        "\n",
        "It would be effective to first define a method that would generate all of the hidden states and store these hidden states **on the CPU**, and then loop over the generated hidden states to identify/output the nearest neighbors."
      ]
    },
    {
      "cell_type": "code",
      "metadata": {
        "id": "IxFmDA_YdkdY",
        "colab": {
          "base_uri": "https://localhost:8080/"
        },
        "outputId": "245fa08d-674b-429b-a104-694976edf67b"
      },
      "source": [
        "def final_encoder_hidden(sentence):\n",
        "    # Your code goes here\n",
        "    input_tensor = torch.Tensor(preprocess_one_hot(sentence))\n",
        "    input_length = input_tensor.shape[0]\n",
        "    \n",
        "    encoder_hidden = encoder.init_hidden()\n",
        "    encoder_cell = encoder.init_cell()\n",
        "\n",
        "    for ei in range(1,input_length):\n",
        "        # Iteratively run the encoder \n",
        "        _, encoder_hidden, encoder_cell = encoder(input_tensor[ei].to(device), encoder_hidden, encoder_cell)\n",
        "    \n",
        "    return encoder_hidden\n",
        "\n",
        "\n",
        "# Now run all training data and validation data to store hidden states\n",
        "    # Your code goes here\n",
        "\n",
        "train_hidden_state=[]\n",
        "\n",
        "for sentence in train_sentences:\n",
        "  train_hidden_state.append(final_encoder_hidden(sentence)[0,0].detach().cpu().numpy())\n",
        "\n",
        "val_hidden_state = []\n",
        "for sentence in val_sentences:\n",
        "    val_hidden_state.append(final_encoder_hidden(sentence)[0, 0].detach().cpu().numpy())\n",
        "\n",
        "# Now get nearest neighbors and print\n",
        "train_hidden_state = np.array(train_hidden_state)\n",
        "val_hidden_state = np.array(val_hidden_state)\n",
        "\n",
        "for i in range(10):\n",
        "    index = np.argmin(np.sqrt(np.sum((train_hidden_state - val_hidden_state[i]) ** 2, 1)))\n",
        "    print('Validation sentence: ', val_sentences[i])\n",
        "    print('Most similar training sentence: ', train_sentences[index])"
      ],
      "execution_count": null,
      "outputs": [
        {
          "output_type": "stream",
          "name": "stdout",
          "text": [
            "Validation sentence:  Set of bananas hanging off of a banana tree.\n",
            "Most similar training sentence:  Bunches of bananas hanging from fire on a line.\n",
            "Validation sentence:  Two bunches of green bananas on banana trees.\n",
            "Most similar training sentence:  Bunches of green bananas still on the plant.\n",
            "Validation sentence:  Many calendars and bunches of bananas hanging on a wall.\n",
            "Most similar training sentence:  Many propeller plans and biplanes on display in a museum.\n",
            "Validation sentence:  Clusters of bananas and pictures hanging on a wall.\n",
            "Most similar training sentence:  Bunches of bananas sitting and hanging inside of a store.\n",
            "Validation sentence:  two dogs that look to be fighting one another\n",
            "Most similar training sentence:  Two horses stand in a sloped field of grass\n",
            "Validation sentence:  Two dogs fighting with one on his back on the ground\n",
            "Most similar training sentence:  TWO DOGS LYING ON A BED ON TOP OF THE COVERS\n",
            "Validation sentence:  Bunches of green bananas hanging down from trees.\n",
            "Most similar training sentence:  Bunches of green bananas still on the plant.\n",
            "Validation sentence:  Two dogs have a playful fight with one another.\n",
            "Most similar training sentence:  Two dogs sitting on a bed with white sheets.\n",
            "Validation sentence:  Banana trees with large  hanging bunches of bananas.\n",
            "Most similar training sentence:  A banana sunday on a white plate with fork.\n",
            "Validation sentence:  There are some green bananas hanging in bunches\n",
            "Most similar training sentence:  some elephants some dirt plants and bushes \n"
          ]
        }
      ]
    },
    {
      "cell_type": "markdown",
      "metadata": {
        "id": "FFpfb1oi0efe"
      },
      "source": [
        "# Part 2: Attention LSTM Decoder"
      ]
    },
    {
      "cell_type": "markdown",
      "metadata": {
        "id": "Kx2bELJh03hq"
      },
      "source": [
        "## 2.1. Implementing Additive Attention"
      ]
    },
    {
      "cell_type": "code",
      "metadata": {
        "id": "f2adPSOL09Hj"
      },
      "source": [
        "\n",
        "class AdditiveAttention(nn.Module):\n",
        "    def __init__(self, hidden_size):\n",
        "        super(AdditiveAttention, self).__init__()\n",
        "        self.hidden_size = hidden_size\n",
        "        #a two layer fully-connected newtork hidden_size*2--> hidden_size, reul, hidden_size-->1\n",
        "        self.attention_network = nn.Sequential(\n",
        "                                    nn.Linear(hidden_size*2, hidden_size),\n",
        "                                    nn.ReLU(),\n",
        "                                    nn.Linear(hidden_size, 1)\n",
        "                                 )\n",
        "        self.softmax = nn.Softmax(dim=1)\n",
        "\n",
        "    def forward(self, queries, keys, values):\n",
        "        \"\"\"The forward pass of the additive attention mechanism.\n",
        "\n",
        "        Arguments:\n",
        "            queries: The current decoder hidden state. (batch_size x hidden_size)\n",
        "            keys: The encoder hidden states for each step of the input sequence. (batch_size x seq_len x hidden_size)\n",
        "            values: The encoder hidden states for each step of the input sequence. (batch_size x seq_len x hidden_size)\n",
        "\n",
        "        Returns:\n",
        "            context: weighted average of the values (batch_size x 1 x hidden_size)\n",
        "            attention_weights: Normalized attention weights for each encoder hidden state. (batch_size x 1 x seq_len)\n",
        "\n",
        "            The attention_weights must be a softmax weighting over the seq_len annotations.\n",
        "        \"\"\"\n",
        "\n",
        "        # ------------\n",
        "        # Your code goes here\n",
        "        # ------------\n",
        "        # batch_size, seq_len, hidden_size = keys.size()\n",
        "        batch_size=1\n",
        "        #print(keys.shape()) #max_seq * hidden_size \n",
        "        keys=keys.unsqueeze(0)\n",
        "        keys = keys.to(device); values = values.to(device)\n",
        "        # batch_size, seq_len, hidden_size = keys.size()\n",
        "        # print(queries.size())\n",
        "        expanded_queries = queries.unsqueeze(1).expand_as(keys) #size is batch_size x seq_len x hidden_size\n",
        "        concat_inputs = torch.cat((expanded_queries, keys),2)\n",
        "        unnormalized_attention = self.attention_network(concat_inputs.view(-1, self.hidden_size * 2)).view(batch_size,  maxSequenceLength, 1)\n",
        "        attention_weights = self.softmax(unnormalized_attention) #size is batch_size x seq_len x 1\n",
        "        # print(\"value_size\") #([57, 300])\n",
        "        # print(values.size())\n",
        "        context = torch.bmm(attention_weights.transpose(1,2), values.unsqueeze(0))\n",
        "        # context =  torch.unsqueeze(torch.sum(attention_weights.squeeze(1)* values, 1), 1)\n",
        "        # attention_weights = attention_weights.view(batch_size, 1, -1)\n",
        "\n",
        "        return context, attention_weights"
      ],
      "execution_count": null,
      "outputs": []
    },
    {
      "cell_type": "markdown",
      "metadata": {
        "id": "sOPm_dvX1TrZ"
      },
      "source": [
        "## 2.2. Attention Decoder"
      ]
    },
    {
      "cell_type": "code",
      "metadata": {
        "id": "SY7vHNT_1oug"
      },
      "source": [
        "class AttentionDecoder(nn.Module):\n",
        "    def __init__(self):\n",
        "        super(AttentionDecoder, self).__init__()\n",
        "\n",
        "        self.hidden_dim = 300\n",
        "        wordEncodingSize = 2000\n",
        "        self.dropout_p = 0.1\n",
        "        self.linear_input = nn.Linear(wordEncodingSize, self.hidden_dim)\n",
        "        self.dropout = nn.Dropout(self.dropout_p)\n",
        "        self.lstm = nn.LSTM(self.hidden_dim*2, self.hidden_dim)\n",
        "        self.attention = AdditiveAttention(hidden_size=self.hidden_dim)\n",
        "        self.linear = nn.Linear(self.hidden_dim, vocabularySize)\n",
        "        self.hidden = self.init_hidden()\n",
        "        self.cell = self.init_cell()\n",
        "        \n",
        "\n",
        "    def init_hidden(self):    \n",
        "        return torch.randn(1,1, self.hidden_dim).cuda()\n",
        "\n",
        "    def init_cell(self):\n",
        "        return torch.randn(1,1, self.hidden_dim).cuda()\n",
        "\n",
        "    def forward(self, input_sentence, hidden, cell, encoder_hidden_states):\n",
        "        \n",
        "\n",
        "        embed = self.dropout(self.linear_input(input_sentence.view(1,-1)))#batch_size x seq_len x hidden_size \n",
        "        #embed=embed.unsqueeze(0)\n",
        "        # ------------\n",
        "        # Your code goes here\n",
        "        # ------------\n",
        "        # print(\"embed_size\")\n",
        "        # print(embed.size())\n",
        "        \n",
        "        embed_current = embed\n",
        "        context, attention_weights = self.attention(embed_current, encoder_hidden_states, encoder_hidden_states)\n",
        "        # print(\"context_size\") #([1, 1, 300])\n",
        "        # # print(context.squeeze(1).size())\n",
        "        # print(\"encoder_hidden_states\")\n",
        "        # print(encoder_hidden_states.size()) #torch.Size([57, 300])\n",
        "        embed_and_context = torch.cat((embed_current, context.squeeze(1)), 1).unsqueeze(0)\n",
        "        \n",
        "        # print(embed_and_context.size())\n",
        "        output, (hidden,cell) = self.lstm(embed_and_context,(hidden,cell))\n",
        "         #shape of output : 1*1* hidden_size\n",
        "        output = self.linear(output[0])\n",
        "        \n",
        "        return output, hidden, cell, attention_weights\n",
        "\n"
      ],
      "execution_count": null,
      "outputs": []
    },
    {
      "cell_type": "markdown",
      "metadata": {
        "id": "db7mTRflmQQu"
      },
      "source": [
        "## 2.3. Training Attention Decoder\n",
        "\n",
        "Note that you will need to modify the train() procedure for Part 1 to handles the AttentionLSTM."
      ]
    },
    {
      "cell_type": "code",
      "metadata": {
        "id": "EEYM3U0VmdHp",
        "colab": {
          "base_uri": "https://localhost:8080/"
        },
        "outputId": "0a0a4017-b9bd-40ae-c730-d2cecce1a260"
      },
      "source": [
        "encoder2 = EncoderLSTM()\n",
        "decoder2 = AttentionDecoder()\n",
        "encoder2_optimizer = torch.optim.Adam(encoder2.parameters(), lr=0.0005) \n",
        "decoder2_optimizer = torch.optim.Adam(decoder2.parameters(), lr=0.0005) \n",
        "criterion = nn.CrossEntropyLoss()\n",
        "epochs = 5\n",
        "\n",
        "print(\"Start training end to end network ......\")\n",
        "for epoch in range(epochs):\n",
        "    epoch_loss=[]\n",
        "    count=0\n",
        "    for id, sentence in enumerate(filtered_sentences):\n",
        "        target_variable = piglatin_filtered_sentences[id]\n",
        "        loss = train(sentence, target_variable, encoder2, decoder2, \n",
        "                     encoder2_optimizer, decoder2_optimizer, \n",
        "                     criterion, teacher_forcing_ratio = 1, decoderType=\"AttentionLSTM\")\n",
        "        count = count+1\n",
        "        if count%500==0:\n",
        "            print(\"Single sentence Loss (epoch %d) : %f\" % (epoch, loss))\n",
        "        epoch_loss.append(loss)\n",
        "        \n",
        "    print(\"Loss (epoch %d) : %f\" % (epoch, np.sum(epoch_loss)/len(filtered_sentences))) "
      ],
      "execution_count": null,
      "outputs": [
        {
          "output_type": "stream",
          "name": "stdout",
          "text": [
            "Start training end to end network ......\n",
            "Single sentence Loss (epoch 0) : 3.013273\n",
            "Single sentence Loss (epoch 0) : 2.430466\n",
            "Single sentence Loss (epoch 0) : 3.077810\n",
            "Single sentence Loss (epoch 0) : 3.434087\n",
            "Single sentence Loss (epoch 0) : 2.816122\n",
            "Single sentence Loss (epoch 0) : 2.052372\n",
            "Single sentence Loss (epoch 0) : 3.731321\n",
            "Single sentence Loss (epoch 0) : 4.410732\n",
            "Single sentence Loss (epoch 0) : 3.906038\n",
            "Single sentence Loss (epoch 0) : 2.654846\n",
            "Single sentence Loss (epoch 0) : 2.908526\n",
            "Single sentence Loss (epoch 0) : 2.979530\n",
            "Single sentence Loss (epoch 0) : 4.075023\n",
            "Single sentence Loss (epoch 0) : 1.856530\n",
            "Single sentence Loss (epoch 0) : 4.117086\n",
            "Single sentence Loss (epoch 0) : 2.876479\n",
            "Single sentence Loss (epoch 0) : 3.323626\n",
            "Single sentence Loss (epoch 0) : 2.730329\n",
            "Single sentence Loss (epoch 0) : 1.881708\n",
            "Single sentence Loss (epoch 0) : 4.637541\n",
            "Single sentence Loss (epoch 0) : 2.659431\n",
            "Single sentence Loss (epoch 0) : 2.256354\n",
            "Single sentence Loss (epoch 0) : 2.044734\n",
            "Single sentence Loss (epoch 0) : 4.085834\n",
            "Single sentence Loss (epoch 0) : 4.097490\n",
            "Single sentence Loss (epoch 0) : 1.181845\n",
            "Single sentence Loss (epoch 0) : 2.822351\n",
            "Single sentence Loss (epoch 0) : 2.297488\n",
            "Single sentence Loss (epoch 0) : 1.708914\n",
            "Single sentence Loss (epoch 0) : 2.827295\n",
            "Single sentence Loss (epoch 0) : 1.151469\n",
            "Single sentence Loss (epoch 0) : 2.153442\n",
            "Single sentence Loss (epoch 0) : 2.046426\n",
            "Single sentence Loss (epoch 0) : 1.403082\n",
            "Single sentence Loss (epoch 0) : 2.152154\n",
            "Single sentence Loss (epoch 0) : 1.879360\n",
            "Single sentence Loss (epoch 0) : 0.990326\n",
            "Single sentence Loss (epoch 0) : 2.208829\n",
            "Single sentence Loss (epoch 0) : 1.899632\n",
            "Single sentence Loss (epoch 0) : 3.776678\n",
            "Loss (epoch 0) : 2.509572\n",
            "Single sentence Loss (epoch 1) : 1.440339\n",
            "Single sentence Loss (epoch 1) : 0.765813\n",
            "Single sentence Loss (epoch 1) : 1.707561\n",
            "Single sentence Loss (epoch 1) : 2.386650\n",
            "Single sentence Loss (epoch 1) : 1.548986\n",
            "Single sentence Loss (epoch 1) : 0.831471\n",
            "Single sentence Loss (epoch 1) : 2.520963\n",
            "Single sentence Loss (epoch 1) : 3.453583\n",
            "Single sentence Loss (epoch 1) : 2.578345\n",
            "Single sentence Loss (epoch 1) : 1.169774\n",
            "Single sentence Loss (epoch 1) : 1.564596\n",
            "Single sentence Loss (epoch 1) : 1.793981\n",
            "Single sentence Loss (epoch 1) : 3.488416\n",
            "Single sentence Loss (epoch 1) : 1.014087\n",
            "Single sentence Loss (epoch 1) : 2.758844\n",
            "Single sentence Loss (epoch 1) : 1.854338\n",
            "Single sentence Loss (epoch 1) : 2.054022\n",
            "Single sentence Loss (epoch 1) : 1.876337\n",
            "Single sentence Loss (epoch 1) : 0.284106\n",
            "Single sentence Loss (epoch 1) : 1.624900\n",
            "Single sentence Loss (epoch 1) : 1.746536\n",
            "Single sentence Loss (epoch 1) : 1.385554\n",
            "Single sentence Loss (epoch 1) : 0.738290\n",
            "Single sentence Loss (epoch 1) : 2.633452\n",
            "Single sentence Loss (epoch 1) : 2.165401\n",
            "Single sentence Loss (epoch 1) : 0.405488\n",
            "Single sentence Loss (epoch 1) : 1.294540\n",
            "Single sentence Loss (epoch 1) : 1.097137\n",
            "Single sentence Loss (epoch 1) : 0.520743\n",
            "Single sentence Loss (epoch 1) : 1.151601\n",
            "Single sentence Loss (epoch 1) : 0.391464\n",
            "Single sentence Loss (epoch 1) : 1.311346\n",
            "Single sentence Loss (epoch 1) : 0.572501\n",
            "Single sentence Loss (epoch 1) : 1.002556\n",
            "Single sentence Loss (epoch 1) : 0.932499\n",
            "Single sentence Loss (epoch 1) : 0.842902\n",
            "Single sentence Loss (epoch 1) : 0.031568\n",
            "Single sentence Loss (epoch 1) : 1.190803\n",
            "Single sentence Loss (epoch 1) : 0.565423\n",
            "Single sentence Loss (epoch 1) : 1.862280\n",
            "Loss (epoch 1) : 1.327314\n",
            "Single sentence Loss (epoch 2) : 0.442700\n",
            "Single sentence Loss (epoch 2) : 0.032675\n",
            "Single sentence Loss (epoch 2) : 0.214759\n",
            "Single sentence Loss (epoch 2) : 0.694486\n",
            "Single sentence Loss (epoch 2) : 0.331842\n",
            "Single sentence Loss (epoch 2) : 0.140928\n",
            "Single sentence Loss (epoch 2) : 0.959751\n",
            "Single sentence Loss (epoch 2) : 1.875384\n",
            "Single sentence Loss (epoch 2) : 0.641457\n",
            "Single sentence Loss (epoch 2) : 0.361235\n",
            "Single sentence Loss (epoch 2) : 0.634075\n",
            "Single sentence Loss (epoch 2) : 0.359326\n",
            "Single sentence Loss (epoch 2) : 1.416862\n",
            "Single sentence Loss (epoch 2) : 0.083207\n",
            "Single sentence Loss (epoch 2) : 0.792757\n",
            "Single sentence Loss (epoch 2) : 0.525677\n",
            "Single sentence Loss (epoch 2) : 0.598997\n",
            "Single sentence Loss (epoch 2) : 0.484905\n",
            "Single sentence Loss (epoch 2) : 0.033721\n",
            "Single sentence Loss (epoch 2) : 0.664696\n",
            "Single sentence Loss (epoch 2) : 0.209250\n",
            "Single sentence Loss (epoch 2) : 0.495564\n",
            "Single sentence Loss (epoch 2) : 0.016711\n",
            "Single sentence Loss (epoch 2) : 0.609443\n",
            "Single sentence Loss (epoch 2) : 0.685459\n",
            "Single sentence Loss (epoch 2) : 0.012690\n",
            "Single sentence Loss (epoch 2) : 0.250927\n",
            "Single sentence Loss (epoch 2) : 0.758569\n",
            "Single sentence Loss (epoch 2) : 0.031883\n",
            "Single sentence Loss (epoch 2) : 0.237059\n",
            "Single sentence Loss (epoch 2) : 0.036968\n",
            "Single sentence Loss (epoch 2) : 0.604591\n",
            "Single sentence Loss (epoch 2) : 0.061888\n",
            "Single sentence Loss (epoch 2) : 0.179109\n",
            "Single sentence Loss (epoch 2) : 0.120921\n",
            "Single sentence Loss (epoch 2) : 0.272907\n",
            "Single sentence Loss (epoch 2) : 0.027840\n",
            "Single sentence Loss (epoch 2) : 0.163706\n",
            "Single sentence Loss (epoch 2) : 0.095768\n",
            "Single sentence Loss (epoch 2) : 0.378087\n",
            "Loss (epoch 2) : 0.413086\n",
            "Single sentence Loss (epoch 3) : 0.291739\n",
            "Single sentence Loss (epoch 3) : 0.003497\n",
            "Single sentence Loss (epoch 3) : 0.031788\n",
            "Single sentence Loss (epoch 3) : 0.643085\n",
            "Single sentence Loss (epoch 3) : 0.161795\n",
            "Single sentence Loss (epoch 3) : 0.050695\n",
            "Single sentence Loss (epoch 3) : 0.810351\n",
            "Single sentence Loss (epoch 3) : 0.927544\n",
            "Single sentence Loss (epoch 3) : 0.222834\n",
            "Single sentence Loss (epoch 3) : 0.079955\n",
            "Single sentence Loss (epoch 3) : 0.050214\n",
            "Single sentence Loss (epoch 3) : 0.044775\n",
            "Single sentence Loss (epoch 3) : 0.194316\n",
            "Single sentence Loss (epoch 3) : 0.043525\n",
            "Single sentence Loss (epoch 3) : 0.229876\n",
            "Single sentence Loss (epoch 3) : 0.090600\n",
            "Single sentence Loss (epoch 3) : 0.051619\n",
            "Single sentence Loss (epoch 3) : 0.137521\n",
            "Single sentence Loss (epoch 3) : 0.003053\n",
            "Single sentence Loss (epoch 3) : 0.156580\n",
            "Single sentence Loss (epoch 3) : 0.018320\n",
            "Single sentence Loss (epoch 3) : 0.236364\n",
            "Single sentence Loss (epoch 3) : 0.005659\n",
            "Single sentence Loss (epoch 3) : 0.162056\n",
            "Single sentence Loss (epoch 3) : 0.105323\n",
            "Single sentence Loss (epoch 3) : 0.001683\n",
            "Single sentence Loss (epoch 3) : 0.009583\n",
            "Single sentence Loss (epoch 3) : 0.330036\n",
            "Single sentence Loss (epoch 3) : 0.005151\n",
            "Single sentence Loss (epoch 3) : 0.060837\n",
            "Single sentence Loss (epoch 3) : 0.005484\n",
            "Single sentence Loss (epoch 3) : 0.324146\n",
            "Single sentence Loss (epoch 3) : 0.098221\n",
            "Single sentence Loss (epoch 3) : 0.053408\n",
            "Single sentence Loss (epoch 3) : 0.021648\n",
            "Single sentence Loss (epoch 3) : 0.009487\n",
            "Single sentence Loss (epoch 3) : 0.001641\n",
            "Single sentence Loss (epoch 3) : 0.108742\n",
            "Single sentence Loss (epoch 3) : 0.052201\n",
            "Single sentence Loss (epoch 3) : 0.107240\n",
            "Loss (epoch 3) : 0.124151\n",
            "Single sentence Loss (epoch 4) : 0.003630\n",
            "Single sentence Loss (epoch 4) : 0.000653\n",
            "Single sentence Loss (epoch 4) : 0.003630\n",
            "Single sentence Loss (epoch 4) : 0.318552\n",
            "Single sentence Loss (epoch 4) : 0.047884\n",
            "Single sentence Loss (epoch 4) : 0.026389\n",
            "Single sentence Loss (epoch 4) : 0.091669\n",
            "Single sentence Loss (epoch 4) : 0.133889\n",
            "Single sentence Loss (epoch 4) : 0.012991\n",
            "Single sentence Loss (epoch 4) : 0.057229\n",
            "Single sentence Loss (epoch 4) : 0.088803\n",
            "Single sentence Loss (epoch 4) : 0.010817\n",
            "Single sentence Loss (epoch 4) : 0.015078\n",
            "Single sentence Loss (epoch 4) : 0.002555\n",
            "Single sentence Loss (epoch 4) : 0.032656\n",
            "Single sentence Loss (epoch 4) : 0.021608\n",
            "Single sentence Loss (epoch 4) : 0.100313\n",
            "Single sentence Loss (epoch 4) : 0.050422\n",
            "Single sentence Loss (epoch 4) : 0.001374\n",
            "Single sentence Loss (epoch 4) : 0.030107\n",
            "Single sentence Loss (epoch 4) : 0.032434\n",
            "Single sentence Loss (epoch 4) : 0.048908\n",
            "Single sentence Loss (epoch 4) : 0.001341\n",
            "Single sentence Loss (epoch 4) : 0.235404\n",
            "Single sentence Loss (epoch 4) : 0.071464\n",
            "Single sentence Loss (epoch 4) : 0.001182\n",
            "Single sentence Loss (epoch 4) : 0.003517\n",
            "Single sentence Loss (epoch 4) : 0.110258\n",
            "Single sentence Loss (epoch 4) : 0.001386\n",
            "Single sentence Loss (epoch 4) : 0.034505\n",
            "Single sentence Loss (epoch 4) : 0.005608\n",
            "Single sentence Loss (epoch 4) : 0.252198\n",
            "Single sentence Loss (epoch 4) : 0.002227\n",
            "Single sentence Loss (epoch 4) : 0.003841\n",
            "Single sentence Loss (epoch 4) : 0.003755\n",
            "Single sentence Loss (epoch 4) : 0.040835\n",
            "Single sentence Loss (epoch 4) : 0.001166\n",
            "Single sentence Loss (epoch 4) : 0.032432\n",
            "Single sentence Loss (epoch 4) : 0.095280\n",
            "Single sentence Loss (epoch 4) : 0.007404\n",
            "Loss (epoch 4) : 0.056516\n"
          ]
        }
      ]
    },
    {
      "cell_type": "markdown",
      "metadata": {
        "id": "aFTuFon2m7f9"
      },
      "source": [
        "## 2.4. Testing Attention Decoder\n",
        "Note that you will need to modify the inference() procedure for Part 1 to handle Attention LSTM"
      ]
    },
    {
      "cell_type": "code",
      "source": [
        "avg_score=[]\n",
        "\n",
        "# iterate over the validation set \n",
        "for idx, input_sentence in enumerate(val_sentences): \n",
        "    # output_sentence, _ = inference(...)\n",
        "    # target_sentence = ... \n",
        "    # score = compute_blue(...)\n",
        "    output_sentence, _ = inference(input_sentence, encoder2, decoder2, decoderType=\"AttentionLSTM\")\n",
        "    target_sentence = piglatin_val_sentences[idx]\n",
        "    score = compute_bleu('<SOS> ' + target_sentence, ' '.join(output_sentence[:-1]))\n",
        "    \n",
        "    avg_score.append(score)\n",
        "    if idx < 10 :\n",
        "        print('BLEU score distance between \\n  \"', target_sentence, '\" \\nand\\n  \"'+ ' '.join(output_sentence[1:-1]), '\" \\n is: ', str(score), '\\n\\n')\n",
        "\n",
        "final_score = np.sum(avg_score)/len(val_sentences)\n",
        "print(\"Average BLUE score : %f\" % (final_score)) \n"
      ],
      "metadata": {
        "colab": {
          "base_uri": "https://localhost:8080/"
        },
        "id": "Gxh6aYCpZNl1",
        "outputId": "9e9fbd52-9bcf-4603-ffcc-e82767130cad"
      },
      "execution_count": null,
      "outputs": [
        {
          "output_type": "stream",
          "name": "stdout",
          "text": [
            "BLEU score distance between \n",
            "  \" Etsay ofway ananasbay anginghay offway ofway away ananabay eetray. \" \n",
            "and\n",
            "  \"etsay ofway ananasbay anginghay offway ofway away ananabay eetray . \" \n",
            " is:  1.0 \n",
            "\n",
            "\n",
            "BLEU score distance between \n",
            "  \" Otway unchesbay ofway eengray ananasbay onway ananabay eestray. \" \n",
            "and\n",
            "  \"otway unchesbay ofway eengray ananasbay onway icksstay eestray . \" \n",
            " is:  0.7691605673134586 \n",
            "\n",
            "\n",
            "BLEU score distance between \n",
            "  \" Anymay alendarscay andway unchesbay ofway ananasbay anginghay onway away allway. \" \n",
            "and\n",
            "  \"anymay oystay andway arietyvay ofway ananasbay anginghay onway away allway . \" \n",
            " is:  0.6298129992394241 \n",
            "\n",
            "\n",
            "BLEU score distance between \n",
            "  \" Ustersclay ofway ananasbay andway icturespay anginghay onway away allway. \" \n",
            "and\n",
            "  \"ofway iecespay andway icturespay anginghay onway away allway . \" \n",
            " is:  0.5974178044844201 \n",
            "\n",
            "\n",
            "BLEU score distance between \n",
            "  \" otway ogsday atthay ooklay otay ebay ightingfay oneway anotherway \" \n",
            "and\n",
            "  \"otway ogsday atthay ooklay otay ebay otnay oneway anotherway \" \n",
            " is:  0.7691605673134586 \n",
            "\n",
            "\n",
            "BLEU score distance between \n",
            "  \" Otway ogsday ightingfay ithway oneway onway ishay ackbay onway ethay oundgray \" \n",
            "and\n",
            "  \"otway ogsday urferssay ithway oneway onway ishay ackbay onway ethay oundgray \" \n",
            " is:  0.7825422900366437 \n",
            "\n",
            "\n",
            "BLEU score distance between \n",
            "  \" Unchesbay ofway eengray ananasbay anginghay ownday omfray eestray. \" \n",
            "and\n",
            "  \"oseupclay ofway eengray ananasbay anginghay ownday omfray eestray . \" \n",
            " is:  0.7348889200874658 \n",
            "\n",
            "\n",
            "BLEU score distance between \n",
            "  \" Otway ogsday avehay away ayfulplay ightfay ithway oneway anotherway. \" \n",
            "and\n",
            "  \"otway ogsday avehay away osenay atwhay ithway oneway anotherway . \" \n",
            " is:  0.6703420896351792 \n",
            "\n",
            "\n",
            "BLEU score distance between \n",
            "  \" Ananabay eestray ithway argelay  anginghay unchesbay ofway ananasbay. \" \n",
            "and\n",
            "  \"away ananabay eestray ithway argelay anginghay unchesbay ofway ananasbay . \" \n",
            " is:  0.7611606003349892 \n",
            "\n",
            "\n",
            "BLEU score distance between \n",
            "  \" Erethay areway omesay eengray ananasbay anginghay inway unchesbay \" \n",
            "and\n",
            "  \"erethay areway omesay eengray ananasbay anginghay inway ightflay \" \n",
            " is:  0.8931539818068694 \n",
            "\n",
            "\n"
          ]
        },
        {
          "output_type": "stream",
          "name": "stderr",
          "text": [
            "/usr/local/lib/python3.7/dist-packages/nltk/translate/bleu_score.py:552: UserWarning: \n",
            "The hypothesis contains 0 counts of 4-gram overlaps.\n",
            "Therefore the BLEU score evaluates to 0, independently of\n",
            "how many N-gram overlaps of lower order it contains.\n",
            "Consider using lower n-gram order or use SmoothingFunction()\n",
            "  warnings.warn(_msg)\n"
          ]
        },
        {
          "output_type": "stream",
          "name": "stdout",
          "text": [
            "Average BLUE score : 0.770173\n"
          ]
        }
      ]
    },
    {
      "cell_type": "markdown",
      "metadata": {
        "id": "UvKl0zhhngVg"
      },
      "source": [
        "## 2.5. Visualize Attention for Attention Decoder"
      ]
    },
    {
      "cell_type": "code",
      "metadata": {
        "id": "tsAfscbVnhF6",
        "colab": {
          "base_uri": "https://localhost:8080/",
          "height": 1000
        },
        "outputId": "376daff2-db20-4149-cd19-998094286a94"
      },
      "source": [
        "# Your code goes here\n",
        "for idx, input_sentence in enumerate(val_sentences[:5]): \n",
        "    word_list, attentions = inference(input_sentence, encoder2, decoder2, decoderType=\"AttentionLSTM\")\n",
        "    output_sentence = ' '.join(word_list[1:-1])\n",
        "    print(input_sentence)\n",
        "    print(output_sentence)\n",
        "    showAttention(input_sentence, output_sentence, attentions.detach())"
      ],
      "execution_count": null,
      "outputs": [
        {
          "output_type": "stream",
          "name": "stdout",
          "text": [
            "Set of bananas hanging off of a banana tree.\n",
            "etsay ofway ananasbay anginghay offway ofway away ananabay eetray .\n"
          ]
        },
        {
          "output_type": "display_data",
          "data": {
            "text/plain": [
              "<Figure size 1500x1500 with 0 Axes>"
            ]
          },
          "metadata": {}
        },
        {
          "output_type": "display_data",
          "data": {
            "text/plain": [
              "<Figure size 432x288 with 2 Axes>"
            ],
            "image/png": "[encoded data removed]"
          },
          "metadata": {
            "needs_background": "light"
          }
        },
        {
          "output_type": "stream",
          "name": "stdout",
          "text": [
            "Two bunches of green bananas on banana trees.\n",
            "otway unchesbay ofway eengray ananasbay onway ireway eestray .\n"
          ]
        },
        {
          "output_type": "display_data",
          "data": {
            "text/plain": [
              "<Figure size 1500x1500 with 0 Axes>"
            ]
          },
          "metadata": {}
        },
        {
          "output_type": "display_data",
          "data": {
            "text/plain": [
              "<Figure size 432x288 with 2 Axes>"
            ],
            "image/png": "[encoded data removed]"
          },
          "metadata": {
            "needs_background": "light"
          }
        },
        {
          "output_type": "stream",
          "name": "stdout",
          "text": [
            "Many calendars and bunches of bananas hanging on a wall.\n",
            "anymay oystay andway arietyvay ofway ananasbay anginghay onway away allway .\n"
          ]
        },
        {
          "output_type": "display_data",
          "data": {
            "text/plain": [
              "<Figure size 1500x1500 with 0 Axes>"
            ]
          },
          "metadata": {}
        },
        {
          "output_type": "display_data",
          "data": {
            "text/plain": [
              "<Figure size 432x288 with 2 Axes>"
            ],
            "image/png": "[encoded data removed]"
          },
          "metadata": {
            "needs_background": "light"
          }
        },
        {
          "output_type": "stream",
          "name": "stdout",
          "text": [
            "Clusters of bananas and pictures hanging on a wall.\n",
            "ofway ananasbay andway icturespay anginghay onway away allway .\n"
          ]
        },
        {
          "output_type": "display_data",
          "data": {
            "text/plain": [
              "<Figure size 1500x1500 with 0 Axes>"
            ]
          },
          "metadata": {}
        },
        {
          "output_type": "display_data",
          "data": {
            "text/plain": [
              "<Figure size 432x288 with 2 Axes>"
            ],
            "image/png": "[encoded data removed]"
          },
          "metadata": {
            "needs_background": "light"
          }
        },
        {
          "output_type": "stream",
          "name": "stdout",
          "text": [
            "two dogs that look to be fighting one another\n",
            "otway ogsday atthay ooklay otay ebay otnay oneway anotherway\n"
          ]
        },
        {
          "output_type": "display_data",
          "data": {
            "text/plain": [
              "<Figure size 1500x1500 with 0 Axes>"
            ]
          },
          "metadata": {}
        },
        {
          "output_type": "display_data",
          "data": {
            "text/plain": [
              "<Figure size 432x288 with 2 Axes>"
            ],
            "image/png": "[encoded data removed]"
          },
          "metadata": {
            "needs_background": "light"
          }
        }
      ]
    },
    {
      "cell_type": "markdown",
      "metadata": {
        "id": "XABkHOBJns76"
      },
      "source": [
        "# Part 3: Transformer Decoder"
      ]
    },
    {
      "cell_type": "markdown",
      "metadata": {
        "id": "mFb5tCzOpDmB"
      },
      "source": [
        "## 3.1 Implement Scaled Dot Attention"
      ]
    },
    {
      "cell_type": "code",
      "metadata": {
        "id": "EDgSOIvdpCuR"
      },
      "source": [
        "#reference https://github.com/xinyaofan/CSC421/blob/master/Assignment/a3-code/a3-release/nmt.ipynb\n",
        "class ScaledDotAttention(nn.Module):\n",
        "    def __init__(self, hidden_size):\n",
        "        super(ScaledDotAttention, self).__init__()\n",
        "\n",
        "        self.hidden_size = 300\n",
        "\n",
        "        self.Q = nn.Linear(hidden_size, hidden_size)\n",
        "        self.K = nn.Linear(hidden_size, hidden_size)\n",
        "        self.V = nn.Linear(hidden_size, hidden_size)\n",
        "        self.softmax = nn.Softmax(dim=1)\n",
        "        self.scaling_factor = torch.rsqrt(torch.tensor(self.hidden_size, dtype= torch.float))\n",
        "\n",
        "    def forward(self, queries, keys, values):\n",
        "        \"\"\"The forward pass of the scaled dot attention mechanism.\n",
        "\n",
        "        Arguments:\n",
        "            queries: The current decoder hidden state, 2D or 3D tensor. (batch_size x (k) x hidden_size)\n",
        "            keys: The encoder hidden states for each step of the input sequence. (batch_size x seq_len x hidden_size)\n",
        "            values: The encoder hidden states for each step of the input sequence. (batch_size x seq_len x hidden_size)\n",
        "\n",
        "        Returns:\n",
        "            context: weighted average of the values (batch_size x k x hidden_size)\n",
        "            attention_weights: Normalized attention weights for each encoder hidden state. (batch_size x seq_len x 1)\n",
        "\n",
        "            The output must be a softmax weighting over the seq_len annotations.\n",
        "        \"\"\"\n",
        "\n",
        "        # ------------\n",
        "        # Your code goes here\n",
        "        # ------------\n",
        "        #batch_size=1 in this assignment\n",
        "\n",
        "        # batch_size=1\n",
        "        batch_size = 1\n",
        "        if queries.dim() == 2:\n",
        "            queries = queries.unsqueeze(0)\n",
        "        if keys.dim() == 2:\n",
        "            keys = keys.unsqueeze(0)\n",
        "        if values.dim() == 2:\n",
        "            values = values.unsqueeze(0)\n",
        "        batch_size, seq_len, hidden_size = keys.size()\n",
        "        q = self.Q(queries.view(-1,hidden_size)).view(batch_size,-1,hidden_size)  #batch_size x (k) x hidden_size\n",
        "        k = self.K(keys.view(-1,hidden_size)).view(batch_size,seq_len, hidden_size) #batch_size x seq_len x hidden_size\n",
        "        v = self.V(values.view(-1, hidden_size)).view(batch_size,seq_len, hidden_size) #batch_size x seq_len x hidden_size\n",
        "        unnormalized_attention = self.scaling_factor * torch.bmm(k, q.transpose(1,2)) #batch_size x seq_len x k\n",
        "        attention_weights = self.softmax(unnormalized_attention) #batch_size x seq_len x k\n",
        "        context = torch.bmm(attention_weights.transpose(1,2), v) #batch_size*k*hidden_size\n",
        "       \n",
        "       #tensor.bmm tensor a (b,h,w) tensor b (b,w,m) output(b,h,m)\n",
        "        return context, attention_weights\n"
      ],
      "execution_count": 67,
      "outputs": []
    },
    {
      "cell_type": "markdown",
      "metadata": {
        "id": "E4gpSwDopbHZ"
      },
      "source": [
        "## 3.2. Implement Causal Scaled Dot Attention\n",
        "\n",
        "The implementation should be nearly identical to the one above, but with mask."
      ]
    },
    {
      "cell_type": "code",
      "metadata": {
        "id": "ZFnGpHklpbpQ"
      },
      "source": [
        "#reference https://github.com/xinyaofan/CSC421/blob/master/Assignment/a3-code/a3-release/nmt.ipynb\n",
        "class CausalScaledDotAttention(nn.Module):\n",
        "    def __init__(self, hidden_size):\n",
        "        super(CausalScaledDotAttention, self).__init__()\n",
        "\n",
        "        self.hidden_size = hidden_size\n",
        "        self.neg_inf = torch.tensor(-1e7).cuda()\n",
        "\n",
        "        self.Q = nn.Linear(hidden_size, hidden_size)\n",
        "        self.K = nn.Linear(hidden_size, hidden_size)\n",
        "        self.V = nn.Linear(hidden_size, hidden_size)\n",
        "        self.softmax = nn.Softmax(dim=1)\n",
        "        self.scaling_factor = torch.rsqrt(torch.tensor(self.hidden_size, dtype= torch.float))\n",
        "\n",
        "    def forward(self, queries, keys, values):\n",
        "        \"\"\"The forward pass of the scaled dot attention mechanism.\n",
        "\n",
        "        NOTES:\n",
        "            batch_size = 1\n",
        "\n",
        "        Arguments:\n",
        "            queries: The current decoder hidden state, 2D or 3D tensor. (batch_size x (k) x hidden_size)\n",
        "                In training k = maxSequenceLength or length of the GT ourput sequence\n",
        "                In testing k = length of currently decoded sub-sequence\n",
        "            keys: The decoder hidden states for each step of the input sequence. (batch_size x seq_len x hidden_size)\n",
        "            values: The decoder hidden states for each step of the input sequence. (batch_size x seq_len x hidden_size)\n",
        "\n",
        "        Returns:\n",
        "            context: weighted average of the values (batch_size x k x hidden_size)\n",
        "            attention_weights: Normalized attention weights for each encoder hidden state. (batch_size x seq_len x 1)\n",
        "\n",
        "            The output must be a softmax weighting over the seq_len annotations.\n",
        "        \"\"\"\n",
        "\n",
        "        # ------------\n",
        "        # Your code goes here\n",
        "        # ------------  \n",
        "        batch_size, seq_len, hidden_size = keys.size()\n",
        "        print(batch_size)\n",
        "        print(seq_len)\n",
        "        print(hidden_size)\n",
        "        q = self.Q(queries.view(-1, self.hidden_size)).view(batch_size, -1, self.hidden_size) #batch_size x (k) x hidden_size\n",
        "        k = self.K(keys.view(-1,self.hidden_size)).view(batch_size, seq_len, self.hidden_size) #batch_size x seq_len x hidden_size\n",
        "        v = self.V(values.view(-1, self.hidden_size)).view(batch_size, seq_len, self.hidden_size) #batch_size x seq_len x hidden_size\n",
        "        unnormalized_attention = self.scaling_factor * torch.bmm(k, q.transpose(1,2)) #batch_size x seq_len x k\n",
        "        mask = torch.tril(torch.ones(batch_size,seq_len,seq_len,dtype=torch.uint8)).transpose(1,2)\n",
        "        unnormalized_attention[mask==0] = self.neg_inf\n",
        "        attention_weights = self.softmax(unnormalized_attention)\n",
        "        context = torch.bmm(attention_weights.transpose(1,2), v)\n",
        "\n",
        "        return context, attention_weights"
      ],
      "execution_count": 68,
      "outputs": []
    },
    {
      "cell_type": "markdown",
      "metadata": {
        "id": "WsLrprNLqQ5x"
      },
      "source": [
        "## 3.3. Implement Transformer Decoder"
      ]
    },
    {
      "cell_type": "code",
      "metadata": {
        "id": "FjiwfUHXqRXI"
      },
      "source": [
        "#reference https://github.com/xinyaofan/CSC421/blob/master/Assignment/a3-code/a3-release/nmt.ipynb\n",
        "class TransformerDecoder(nn.Module):\n",
        "    def __init__(self):\n",
        "        super(TransformerDecoder, self).__init__()\n",
        "\n",
        "        self.hidden_dim = 300\n",
        "        wordEncodingSize = 2000\n",
        "        self.dropout_p = 0.1\n",
        "        self.num_layers = 3\n",
        "        self.linear_input = nn.Linear(wordEncodingSize, self.hidden_dim)\n",
        "        self.dropout = nn.Dropout(self.dropout_p)\n",
        "        \n",
        "        self.self_attentions = nn.ModuleList([CausalScaledDotAttention(\n",
        "                                    hidden_size=self.hidden_dim, \n",
        "                                 ) for i in range(self.num_layers)])\n",
        "        self.encoder_attentions = nn.ModuleList([ScaledDotAttention(\n",
        "                                    hidden_size=self.hidden_dim, \n",
        "                                 ) for i in range(self.num_layers)])\n",
        "        self.attention_mlps = nn.ModuleList([nn.Sequential(\n",
        "                                    nn.Linear(self.hidden_dim, self.hidden_dim),\n",
        "                                    nn.ReLU(),\n",
        "                                 ) for i in range(self.num_layers)])\n",
        "\n",
        "        self.linear = nn.Linear(self.hidden_dim, vocabularySize)\n",
        "\n",
        "    def forward(self, input_sentence, annotations):\n",
        "    \n",
        "        #  Arguments:\n",
        "        #     inputs: Input token indexes across a batch for all the time step. (batch_size x decoder_seq_len)\n",
        "        #     annotations: The encoder hidden states for each step of the input.\n",
        "        #                  sequence. (batch_size x seq_len x hidden_size)\n",
        "        #     hidden_init: Not used in the transformer decoder\n",
        "        # Returns:\n",
        "        #     output: Un-normalized scores for each token in the vocabulary, across a batch for all the decoding time steps. (batch_size x decoder_seq_len x vocab_size)\n",
        "        #     attentions: The stacked attention weights applied to the encoder annotations (batch_size x encoder_seq_len x dec\n",
        "        embed = self.dropout(self.linear_input(input_sentence.to(device))).unsqueeze(0)\n",
        "        \n",
        "        encoder_attention_weights_list = []\n",
        "        self_attention_weights_list = []\n",
        "        contexts = embed\n",
        "        batch_size, seq_len, hidden_size = contexts.size()\n",
        "\n",
        "        for i in range(self.num_layers):\n",
        "            # ------------\n",
        "            # Your code goes here\n",
        "            # ------------\n",
        "            new_contexts, self_attention_weights = self.self_attentions[i](contexts, contexts, contexts)\n",
        "            residual_contexts = contexts + new_contexts\n",
        "          \n",
        "            new_contexts, encoder_attention_weights = self.encoder_attentions[i](residual_contexts,annotations, annotations)\n",
        "            residual_contexts = residual_contexts + new_contexts\n",
        "            contexts = self.attention_mlps[i](residual_contexts.view(-1, hidden_size)).view(batch_size,seq_len,hidden_size)\n",
        "            # contexts = residual_contexts + new_contexts\n",
        "            \n",
        "            \n",
        "            encoder_attention_weights_list.append(encoder_attention_weights)\n",
        "            self_attention_weights_list.append(self_attention_weights)            \n",
        "        \n",
        "        output = self.linear(contexts)\n",
        "        encoder_attention_weights = torch.stack(encoder_attention_weights_list)\n",
        "        self_attention_weights = torch.stack(self_attention_weights_list)\n",
        "        \n",
        "        return output, encoder_attention_weights, self_attention_weights\n"
      ],
      "execution_count": 70,
      "outputs": []
    },
    {
      "cell_type": "markdown",
      "metadata": {
        "id": "ENolyKTWrAWq"
      },
      "source": [
        "## 3.4. Training Transformer Decoder\n",
        "\n",
        "Note that you will need to modify the train() procedure for Part 1 to handle the Transformer."
      ]
    },
    {
      "cell_type": "code",
      "metadata": {
        "id": "1iuUnzkZrA44",
        "colab": {
          "base_uri": "https://localhost:8080/"
        },
        "outputId": "864fe42e-3da7-475a-a37d-37b739d2d2a5"
      },
      "source": [
        "# Train the model and monitor the loss. Remember to use Adam optimizer and CrossEntropyLoss\n",
        "encoder3 = EncoderLSTM()\n",
        "decoder3 = TransformerDecoder()\n",
        "encoder3_optimizer = torch.optim.Adam(encoder3.parameters(), lr=0.0005) \n",
        "decoder3_optimizer = torch.optim.Adam(decoder3.parameters(), lr=0.0005) \n",
        "criterion = nn.CrossEntropyLoss()\n",
        "epochs = 5\n",
        "\n",
        "print(\"Start training end to end network ......\")\n",
        "for epoch in range(epochs):\n",
        "    epoch_loss=[]\n",
        "    count=0\n",
        "    for id, sentence in enumerate(filtered_sentences):\n",
        "        target_variable = piglatin_filtered_sentences[id]\n",
        "        loss = train(sentence, target_variable, encoder3, \n",
        "                     decoder3,encoder3_optimizer,\n",
        "                     decoder3_optimizer, criterion, \n",
        "                     teacher_forcing_ratio = 1, decoderType=\"Transformer\")\n",
        "        count = count+1\n",
        "        if count%500==0:\n",
        "            print(\"Single sentence Loss (epoch %d) : %f\" % (epoch, loss))\n",
        "        epoch_loss.append(loss)\n",
        "        \n",
        "    print(\"Loss (epoch %d) : %f\" % (epoch, np.sum(epoch_loss)/len(filtered_sentences))) "
      ],
      "execution_count": 71,
      "outputs": [
        {
          "output_type": "stream",
          "name": "stdout",
          "text": [
            "Start training end to end network ......\n",
            "Single sentence Loss (epoch 0) : 3.269791\n",
            "Single sentence Loss (epoch 0) : 2.902486\n",
            "Single sentence Loss (epoch 0) : 3.378050\n",
            "Single sentence Loss (epoch 0) : 3.598023\n",
            "Single sentence Loss (epoch 0) : 3.570515\n",
            "Single sentence Loss (epoch 0) : 2.125879\n",
            "Single sentence Loss (epoch 0) : 3.766218\n",
            "Single sentence Loss (epoch 0) : 4.413526\n",
            "Single sentence Loss (epoch 0) : 3.686838\n",
            "Single sentence Loss (epoch 0) : 2.005664\n",
            "Single sentence Loss (epoch 0) : 2.245612\n",
            "Single sentence Loss (epoch 0) : 1.919580\n",
            "Single sentence Loss (epoch 0) : 2.164292\n",
            "Single sentence Loss (epoch 0) : 0.306336\n",
            "Single sentence Loss (epoch 0) : 2.553548\n",
            "Single sentence Loss (epoch 0) : 2.106093\n",
            "Single sentence Loss (epoch 0) : 1.036821\n",
            "Single sentence Loss (epoch 0) : 1.021614\n",
            "Single sentence Loss (epoch 0) : 0.394349\n",
            "Single sentence Loss (epoch 0) : 3.310394\n",
            "Single sentence Loss (epoch 0) : 0.563661\n",
            "Single sentence Loss (epoch 0) : 0.685543\n",
            "Single sentence Loss (epoch 0) : 0.180679\n",
            "Single sentence Loss (epoch 0) : 2.735980\n",
            "Single sentence Loss (epoch 0) : 2.415508\n",
            "Single sentence Loss (epoch 0) : 0.427551\n",
            "Single sentence Loss (epoch 0) : 1.358694\n",
            "Single sentence Loss (epoch 0) : 1.225786\n",
            "Single sentence Loss (epoch 0) : 0.032946\n",
            "Single sentence Loss (epoch 0) : 1.324555\n",
            "Single sentence Loss (epoch 0) : 0.964595\n",
            "Single sentence Loss (epoch 0) : 0.717440\n",
            "Single sentence Loss (epoch 0) : 0.583796\n",
            "Single sentence Loss (epoch 0) : 0.107172\n",
            "Single sentence Loss (epoch 0) : 0.527395\n",
            "Single sentence Loss (epoch 0) : 0.384390\n",
            "Single sentence Loss (epoch 0) : 0.024293\n",
            "Single sentence Loss (epoch 0) : 0.245284\n",
            "Single sentence Loss (epoch 0) : 0.481024\n",
            "Single sentence Loss (epoch 0) : 1.195583\n",
            "Loss (epoch 0) : 1.520969\n",
            "Single sentence Loss (epoch 1) : 0.044478\n",
            "Single sentence Loss (epoch 1) : 0.001886\n",
            "Single sentence Loss (epoch 1) : 0.182441\n",
            "Single sentence Loss (epoch 1) : 0.573766\n",
            "Single sentence Loss (epoch 1) : 0.425888\n",
            "Single sentence Loss (epoch 1) : 0.018491\n",
            "Single sentence Loss (epoch 1) : 1.375004\n",
            "Single sentence Loss (epoch 1) : 0.560243\n",
            "Single sentence Loss (epoch 1) : 3.926259\n",
            "Single sentence Loss (epoch 1) : 2.860449\n",
            "Single sentence Loss (epoch 1) : 3.048708\n",
            "Single sentence Loss (epoch 1) : 3.727460\n",
            "Single sentence Loss (epoch 1) : 4.580573\n",
            "Single sentence Loss (epoch 1) : 1.906390\n",
            "Single sentence Loss (epoch 1) : 3.942716\n",
            "Single sentence Loss (epoch 1) : 2.731807\n",
            "Single sentence Loss (epoch 1) : 3.754262\n",
            "Single sentence Loss (epoch 1) : 2.739613\n",
            "Single sentence Loss (epoch 1) : 0.335623\n",
            "Single sentence Loss (epoch 1) : 0.895092\n",
            "Single sentence Loss (epoch 1) : 1.974074\n",
            "Single sentence Loss (epoch 1) : 0.621224\n",
            "Single sentence Loss (epoch 1) : 0.012688\n",
            "Single sentence Loss (epoch 1) : 0.382243\n",
            "Single sentence Loss (epoch 1) : 0.685811\n",
            "Single sentence Loss (epoch 1) : 0.001774\n",
            "Single sentence Loss (epoch 1) : 0.101120\n",
            "Single sentence Loss (epoch 1) : 0.743228\n",
            "Single sentence Loss (epoch 1) : 0.292929\n",
            "Single sentence Loss (epoch 1) : 0.547275\n",
            "Single sentence Loss (epoch 1) : 0.090294\n",
            "Single sentence Loss (epoch 1) : 0.412429\n",
            "Single sentence Loss (epoch 1) : 0.006062\n",
            "Single sentence Loss (epoch 1) : 0.048854\n",
            "Single sentence Loss (epoch 1) : 0.182702\n",
            "Single sentence Loss (epoch 1) : 0.046965\n",
            "Single sentence Loss (epoch 1) : 0.035106\n",
            "Single sentence Loss (epoch 1) : 0.056550\n",
            "Single sentence Loss (epoch 1) : 0.003797\n",
            "Single sentence Loss (epoch 1) : 0.114146\n",
            "Loss (epoch 1) : 1.051477\n",
            "Single sentence Loss (epoch 2) : 0.000426\n",
            "Single sentence Loss (epoch 2) : 0.000301\n",
            "Single sentence Loss (epoch 2) : 0.554280\n",
            "Single sentence Loss (epoch 2) : 0.131196\n",
            "Single sentence Loss (epoch 2) : 0.035144\n",
            "Single sentence Loss (epoch 2) : 0.001124\n",
            "Single sentence Loss (epoch 2) : 1.130749\n",
            "Single sentence Loss (epoch 2) : 0.254868\n",
            "Single sentence Loss (epoch 2) : 0.419791\n",
            "Single sentence Loss (epoch 2) : 0.022492\n",
            "Single sentence Loss (epoch 2) : 0.154000\n",
            "Single sentence Loss (epoch 2) : 0.018694\n",
            "Single sentence Loss (epoch 2) : 0.002859\n",
            "Single sentence Loss (epoch 2) : 0.000582\n",
            "Single sentence Loss (epoch 2) : 0.507844\n",
            "Single sentence Loss (epoch 2) : 0.001451\n",
            "Single sentence Loss (epoch 2) : 1.149494\n",
            "Single sentence Loss (epoch 2) : 0.008460\n",
            "Single sentence Loss (epoch 2) : 0.003929\n",
            "Single sentence Loss (epoch 2) : 0.319375\n",
            "Single sentence Loss (epoch 2) : 0.286050\n",
            "Single sentence Loss (epoch 2) : 0.080689\n",
            "Single sentence Loss (epoch 2) : 0.003453\n",
            "Single sentence Loss (epoch 2) : 0.253026\n",
            "Single sentence Loss (epoch 2) : 0.143537\n",
            "Single sentence Loss (epoch 2) : 0.001115\n",
            "Single sentence Loss (epoch 2) : 0.023053\n",
            "Single sentence Loss (epoch 2) : 0.181767\n",
            "Single sentence Loss (epoch 2) : 0.001331\n",
            "Single sentence Loss (epoch 2) : 0.240318\n",
            "Single sentence Loss (epoch 2) : 0.034254\n",
            "Single sentence Loss (epoch 2) : 0.052657\n",
            "Single sentence Loss (epoch 2) : 0.017579\n",
            "Single sentence Loss (epoch 2) : 0.047856\n",
            "Single sentence Loss (epoch 2) : 0.021023\n",
            "Single sentence Loss (epoch 2) : 0.003492\n",
            "Single sentence Loss (epoch 2) : 0.000349\n",
            "Single sentence Loss (epoch 2) : 0.015188\n",
            "Single sentence Loss (epoch 2) : 0.001273\n",
            "Single sentence Loss (epoch 2) : 0.974338\n",
            "Loss (epoch 2) : 0.149495\n",
            "Single sentence Loss (epoch 3) : 0.011536\n",
            "Single sentence Loss (epoch 3) : 0.000416\n",
            "Single sentence Loss (epoch 3) : 0.003780\n",
            "Single sentence Loss (epoch 3) : 0.346704\n",
            "Single sentence Loss (epoch 3) : 0.002914\n",
            "Single sentence Loss (epoch 3) : 0.000416\n",
            "Single sentence Loss (epoch 3) : 1.278818\n",
            "Single sentence Loss (epoch 3) : 0.022638\n",
            "Single sentence Loss (epoch 3) : 0.008974\n",
            "Single sentence Loss (epoch 3) : 0.001069\n",
            "Single sentence Loss (epoch 3) : 0.156103\n",
            "Single sentence Loss (epoch 3) : 0.004857\n",
            "Single sentence Loss (epoch 3) : 0.001643\n",
            "Single sentence Loss (epoch 3) : 0.000244\n",
            "Single sentence Loss (epoch 3) : 0.200432\n",
            "Single sentence Loss (epoch 3) : 0.000746\n",
            "Single sentence Loss (epoch 3) : 0.149618\n",
            "Single sentence Loss (epoch 3) : 0.004574\n",
            "Single sentence Loss (epoch 3) : 0.001834\n",
            "Single sentence Loss (epoch 3) : 0.022935\n",
            "Single sentence Loss (epoch 3) : 0.074163\n",
            "Single sentence Loss (epoch 3) : 0.002460\n",
            "Single sentence Loss (epoch 3) : 0.754611\n",
            "Single sentence Loss (epoch 3) : 0.035534\n",
            "Single sentence Loss (epoch 3) : 0.431682\n",
            "Single sentence Loss (epoch 3) : 0.000096\n",
            "Single sentence Loss (epoch 3) : 0.005400\n",
            "Single sentence Loss (epoch 3) : 0.092319\n",
            "Single sentence Loss (epoch 3) : 0.002876\n",
            "Single sentence Loss (epoch 3) : 0.258288\n",
            "Single sentence Loss (epoch 3) : 0.001616\n",
            "Single sentence Loss (epoch 3) : 0.289553\n",
            "Single sentence Loss (epoch 3) : 0.000166\n",
            "Single sentence Loss (epoch 3) : 0.124587\n",
            "Single sentence Loss (epoch 3) : 0.083167\n",
            "Single sentence Loss (epoch 3) : 0.006684\n",
            "Single sentence Loss (epoch 3) : 0.010676\n",
            "Single sentence Loss (epoch 3) : 0.002205\n",
            "Single sentence Loss (epoch 3) : 0.001120\n",
            "Single sentence Loss (epoch 3) : 0.353679\n",
            "Loss (epoch 3) : 0.093231\n",
            "Single sentence Loss (epoch 4) : 0.000088\n",
            "Single sentence Loss (epoch 4) : 0.000256\n",
            "Single sentence Loss (epoch 4) : 0.028742\n",
            "Single sentence Loss (epoch 4) : 0.115797\n",
            "Single sentence Loss (epoch 4) : 0.002322\n",
            "Single sentence Loss (epoch 4) : 0.000620\n",
            "Single sentence Loss (epoch 4) : 0.748918\n",
            "Single sentence Loss (epoch 4) : 0.008220\n",
            "Single sentence Loss (epoch 4) : 0.000500\n",
            "Single sentence Loss (epoch 4) : 0.003078\n",
            "Single sentence Loss (epoch 4) : 0.205435\n",
            "Single sentence Loss (epoch 4) : 0.126602\n",
            "Single sentence Loss (epoch 4) : 0.008584\n",
            "Single sentence Loss (epoch 4) : 0.000110\n",
            "Single sentence Loss (epoch 4) : 0.180882\n",
            "Single sentence Loss (epoch 4) : 0.024327\n",
            "Single sentence Loss (epoch 4) : 0.328168\n",
            "Single sentence Loss (epoch 4) : 0.000378\n",
            "Single sentence Loss (epoch 4) : 0.000420\n",
            "Single sentence Loss (epoch 4) : 0.002835\n",
            "Single sentence Loss (epoch 4) : 0.003907\n",
            "Single sentence Loss (epoch 4) : 0.000845\n",
            "Single sentence Loss (epoch 4) : 0.000155\n",
            "Single sentence Loss (epoch 4) : 0.075714\n",
            "Single sentence Loss (epoch 4) : 0.001182\n",
            "Single sentence Loss (epoch 4) : 0.004333\n",
            "Single sentence Loss (epoch 4) : 0.000300\n",
            "Single sentence Loss (epoch 4) : 0.008504\n",
            "Single sentence Loss (epoch 4) : 0.001111\n",
            "Single sentence Loss (epoch 4) : 0.569515\n",
            "Single sentence Loss (epoch 4) : 0.014489\n",
            "Single sentence Loss (epoch 4) : 0.007038\n",
            "Single sentence Loss (epoch 4) : 0.004225\n",
            "Single sentence Loss (epoch 4) : 0.029650\n",
            "Single sentence Loss (epoch 4) : 0.048728\n",
            "Single sentence Loss (epoch 4) : 0.015189\n",
            "Single sentence Loss (epoch 4) : 0.000036\n",
            "Single sentence Loss (epoch 4) : 0.001696\n",
            "Single sentence Loss (epoch 4) : 0.003032\n",
            "Single sentence Loss (epoch 4) : 0.007483\n",
            "Loss (epoch 4) : 0.072627\n"
          ]
        }
      ]
    },
    {
      "cell_type": "markdown",
      "metadata": {
        "id": "oOF6M3tWrbOS"
      },
      "source": [
        "## 3.5. Testing Transformer Decoder\n",
        "Note that you will need to modify the inference() procedure for Part 1 to handle Transformer"
      ]
    },
    {
      "cell_type": "code",
      "metadata": {
        "id": "g2BlDGfcroOA",
        "colab": {
          "base_uri": "https://localhost:8080/"
        },
        "outputId": "a000b734-ab12-4d22-8867-36cff6aebc39"
      },
      "source": [
        "# Perform inference for all validation sequences and report the average BLEU score\n",
        "avg_score=[]\n",
        "\n",
        "# iterate over the validation set \n",
        "for idx, input_sentence in enumerate(val_sentences): \n",
        "    word_list, _ = inference(input_sentence, encoder3, decoder3, decoderType=\"Transformer\")\n",
        "    output_sentence = ' '.join(word_list[:-1])\n",
        "    target_sentence = piglatin_val_sentences[idx]\n",
        "    score = compute_bleu('<SOS> ' + target_sentence, output_sentence)\n",
        "    avg_score.append(score)\n",
        "    if idx < 10 :\n",
        "        print('BLEU score distance between \\n  \"' + target_sentence + '\" \\nand\\n  \"'+ output_sentence + '\" \\n is: ' + str(score) +'\\n\\n')\n",
        "\n",
        "final_score = np.sum(avg_score)/len(val_sentences)\n",
        "print(\"Average BLUE score : %f\" % (final_score)) "
      ],
      "execution_count": 74,
      "outputs": [
        {
          "output_type": "stream",
          "name": "stderr",
          "text": [
            "/usr/local/lib/python3.7/dist-packages/nltk/translate/bleu_score.py:552: UserWarning: \n",
            "The hypothesis contains 0 counts of 3-gram overlaps.\n",
            "Therefore the BLEU score evaluates to 0, independently of\n",
            "how many N-gram overlaps of lower order it contains.\n",
            "Consider using lower n-gram order or use SmoothingFunction()\n",
            "  warnings.warn(_msg)\n",
            "/usr/local/lib/python3.7/dist-packages/nltk/translate/bleu_score.py:552: UserWarning: \n",
            "The hypothesis contains 0 counts of 4-gram overlaps.\n",
            "Therefore the BLEU score evaluates to 0, independently of\n",
            "how many N-gram overlaps of lower order it contains.\n",
            "Consider using lower n-gram order or use SmoothingFunction()\n",
            "  warnings.warn(_msg)\n"
          ]
        },
        {
          "output_type": "stream",
          "name": "stdout",
          "text": [
            "BLEU score distance between \n",
            "  \"Etsay ofway ananasbay anginghay offway ofway away ananabay eetray.\" \n",
            "and\n",
            "  \"away etsay etsay ofway away edray .\" \n",
            " is: 4.181960984818763e-155\n",
            "\n",
            "\n",
            "BLEU score distance between \n",
            "  \"Otway unchesbay ofway eengray ananasbay onway ananabay eestray.\" \n",
            "and\n",
            "  \"otway unchesbay ofway away unchesbay ofway eengray ananasbay onway ananabay eestray eestray .\" \n",
            " is: 0.5633218717649502\n",
            "\n",
            "\n",
            "BLEU score distance between \n",
            "  \"Anymay alendarscay andway unchesbay ofway ananasbay anginghay onway away allway.\" \n",
            "and\n",
            "  \"away ofessionalpray ofway away artsmay ittingsay onway ethay , ofway ananasbay anginghay onway away allway .\" \n",
            " is: 0.37239098949398236\n",
            "\n",
            "\n",
            "BLEU score distance between \n",
            "  \"Ustersclay ofway ananasbay andway icturespay anginghay onway away allway.\" \n",
            "and\n",
            "  \"away utteredclay ofway away edray ittingsay ofway ananasbay andway icturespay anginghay onway away allway .\" \n",
            " is: 0.5512003357447272\n",
            "\n",
            "\n",
            "BLEU score distance between \n",
            "  \"otway ogsday atthay ooklay otay ebay ightingfay oneway anotherway\" \n",
            "and\n",
            "  \"away ogsday ofway ogsday atthay inway ooklay otay ebay artsmay anotherway\" \n",
            " is: 4.0950962989364673e-78\n",
            "\n",
            "\n",
            "BLEU score distance between \n",
            "  \"Otway ogsday ightingfay ithway oneway onway ishay ackbay onway ethay oundgray\" \n",
            "and\n",
            "  \"away ogsday ofway ogsday inway away ogsday ithway oneway onway ishay ackbay onway ethay oundgray\" \n",
            " is: 0.49009410393069486\n",
            "\n",
            "\n",
            "BLEU score distance between \n",
            "  \"Unchesbay ofway eengray ananasbay anginghay ownday omfray eestray.\" \n",
            "and\n",
            "  \"unchesbay ofway away andway away eengray ananasbay anginghay ownday omfray omfray eestray .\" \n",
            " is: 0.4139790020029942\n",
            "\n",
            "\n",
            "BLEU score distance between \n",
            "  \"Otway ogsday avehay away ayfulplay ightfay ithway oneway anotherway.\" \n",
            "and\n",
            "  \"away ogsday ofway ogsday inway away ogsday avehay away artsmay andway oneway anotherway .\" \n",
            " is: 4.702548232789489e-78\n",
            "\n",
            "\n",
            "BLEU score distance between \n",
            "  \"Ananabay eestray ithway argelay  anginghay unchesbay ofway ananasbay.\" \n",
            "and\n",
            "  \"away ananabay ofway away ananabay , onway argelay anginghay unchesbay ofway ananasbay .\" \n",
            " is: 0.3955332535877179\n",
            "\n",
            "\n",
            "BLEU score distance between \n",
            "  \"Erethay areway omesay eengray ananasbay anginghay inway unchesbay\" \n",
            "and\n",
            "  \"away erethay ofway away edray ittingsay ofway omesay eengray ananasbay anginghay inway unchesbay\" \n",
            " is: 0.3955332535877179\n",
            "\n",
            "\n"
          ]
        },
        {
          "output_type": "stream",
          "name": "stderr",
          "text": [
            "/usr/local/lib/python3.7/dist-packages/nltk/translate/bleu_score.py:552: UserWarning: \n",
            "The hypothesis contains 0 counts of 2-gram overlaps.\n",
            "Therefore the BLEU score evaluates to 0, independently of\n",
            "how many N-gram overlaps of lower order it contains.\n",
            "Consider using lower n-gram order or use SmoothingFunction()\n",
            "  warnings.warn(_msg)\n"
          ]
        },
        {
          "output_type": "stream",
          "name": "stdout",
          "text": [
            "Average BLUE score : 0.382948\n"
          ]
        }
      ]
    },
    {
      "cell_type": "markdown",
      "metadata": {
        "id": "yCrOGW2NrzPG"
      },
      "source": [
        "## 3.6 Visualizing Attention for Transformer Decoder\n",
        "\n",
        "Note that since we have multiple attention layers, there will be one attention to be visualized per layer. "
      ]
    },
    {
      "cell_type": "code",
      "source": [
        "for idx, input_sentence in enumerate(val_sentences[:3]): \n",
        "    output_sentence, attentions = inference(input_sentence, encoder3, decoder3, decoderType=\"Transformer\")\n",
        "    encoder_attention_weights, self_attention_weights= attentions\n",
        "    encoder_attention_weights = encoder_attention_weights.squeeze(1)\n",
        "    self_attention_weights = self_attention_weights.squeeze(1)\n",
        "    for i in range(3):\n",
        "        showAttention(input_sentence, ' '.join(output_sentence[1:-1]), encoder_attention_weights.cpu().detach()[i])\n",
        "        showAttention(input_sentence, ' '.join(output_sentence[1:-1]), self_attention_weights.cpu().detach()[i])"
      ],
      "metadata": {
        "id": "l9h20Pg9KgZ5",
        "colab": {
          "base_uri": "https://localhost:8080/",
          "height": 1000
        },
        "outputId": "57599155-6fcb-4fea-d987-3c80de3c413e"
      },
      "execution_count": 77,
      "outputs": [
        {
          "output_type": "display_data",
          "data": {
            "text/plain": [
              "<Figure size 1500x1500 with 0 Axes>"
            ]
          },
          "metadata": {}
        },
        {
          "output_type": "display_data",
          "data": {
            "text/plain": [
              "<Figure size 432x288 with 2 Axes>"
            ],
            "image/png": "[encoded data removed]"
          },
          "metadata": {
            "needs_background": "light"
          }
        },
        {
          "output_type": "display_data",
          "data": {
            "text/plain": [
              "<Figure size 1500x1500 with 0 Axes>"
            ]
          },
          "metadata": {}
        },
        {
          "output_type": "display_data",
          "data": {
            "text/plain": [
              "<Figure size 432x288 with 2 Axes>"
            ],
            "image/png": "[encoded data removed]"
          },
          "metadata": {
            "needs_background": "light"
          }
        },
        {
          "output_type": "display_data",
          "data": {
            "text/plain": [
              "<Figure size 1500x1500 with 0 Axes>"
            ]
          },
          "metadata": {}
        },
        {
          "output_type": "display_data",
          "data": {
            "text/plain": [
              "<Figure size 432x288 with 2 Axes>"
            ],
            "image/png": "[encoded data removed]"
          },
          "metadata": {
            "needs_background": "light"
          }
        },
        {
          "output_type": "display_data",
          "data": {
            "text/plain": [
              "<Figure size 1500x1500 with 0 Axes>"
            ]
          },
          "metadata": {}
        },
        {
          "output_type": "display_data",
          "data": {
            "text/plain": [
              "<Figure size 432x288 with 2 Axes>"
            ],
            "image/png": "[encoded data removed]"
          },
          "metadata": {
            "needs_background": "light"
          }
        },
        {
          "output_type": "display_data",
          "data": {
            "text/plain": [
              "<Figure size 1500x1500 with 0 Axes>"
            ]
          },
          "metadata": {}
        },
        {
          "output_type": "display_data",
          "data": {
            "text/plain": [
              "<Figure size 432x288 with 2 Axes>"
            ],
            "image/png": "[encoded data removed]"
          },
          "metadata": {
            "needs_background": "light"
          }
        },
        {
          "output_type": "display_data",
          "data": {
            "text/plain": [
              "<Figure size 1500x1500 with 0 Axes>"
            ]
          },
          "metadata": {}
        },
        {
          "output_type": "display_data",
          "data": {
            "text/plain": [
              "<Figure size 432x288 with 2 Axes>"
            ],
            "image/png": "[encoded data removed]"
          },
          "metadata": {
            "needs_background": "light"
          }
        },
        {
          "output_type": "display_data",
          "data": {
            "text/plain": [
              "<Figure size 1500x1500 with 0 Axes>"
            ]
          },
          "metadata": {}
        },
        {
          "output_type": "display_data",
          "data": {
            "text/plain": [
              "<Figure size 432x288 with 2 Axes>"
            ],
            "image/png": "[encoded data removed]"
          },
          "metadata": {
            "needs_background": "light"
          }
        },
        {
          "output_type": "display_data",
          "data": {
            "text/plain": [
              "<Figure size 1500x1500 with 0 Axes>"
            ]
          },
          "metadata": {}
        },
        {
          "output_type": "display_data",
          "data": {
            "text/plain": [
              "<Figure size 432x288 with 2 Axes>"
            ],
            "image/png": "[encoded data removed]"
          },
          "metadata": {
            "needs_background": "light"
          }
        },
        {
          "output_type": "display_data",
          "data": {
            "text/plain": [
              "<Figure size 1500x1500 with 0 Axes>"
            ]
          },
          "metadata": {}
        },
        {
          "output_type": "display_data",
          "data": {
            "text/plain": [
              "<Figure size 432x288 with 2 Axes>"
            ],
            "image/png": "[encoded data removed]"
          },
          "metadata": {
            "needs_background": "light"
          }
        },
        {
          "output_type": "display_data",
          "data": {
            "text/plain": [
              "<Figure size 1500x1500 with 0 Axes>"
            ]
          },
          "metadata": {}
        },
        {
          "output_type": "display_data",
          "data": {
            "text/plain": [
              "<Figure size 432x288 with 2 Axes>"
            ],
            "image/png": "[encoded data removed]"
          },
          "metadata": {
            "needs_background": "light"
          }
        },
        {
          "output_type": "display_data",
          "data": {
            "text/plain": [
              "<Figure size 1500x1500 with 0 Axes>"
            ]
          },
          "metadata": {}
        },
        {
          "output_type": "display_data",
          "data": {
            "text/plain": [
              "<Figure size 432x288 with 2 Axes>"
            ],
            "image/png": "[encoded data removed]"
          },
          "metadata": {
            "needs_background": "light"
          }
        },
        {
          "output_type": "display_data",
          "data": {
            "text/plain": [
              "<Figure size 1500x1500 with 0 Axes>"
            ]
          },
          "metadata": {}
        },
        {
          "output_type": "display_data",
          "data": {
            "text/plain": [
              "<Figure size 432x288 with 2 Axes>"
            ],
            "image/png": "[encoded data removed]"
          },
          "metadata": {
            "needs_background": "light"
          }
        },
        {
          "output_type": "display_data",
          "data": {
            "text/plain": [
              "<Figure size 1500x1500 with 0 Axes>"
            ]
          },
          "metadata": {}
        },
        {
          "output_type": "display_data",
          "data": {
            "text/plain": [
              "<Figure size 432x288 with 2 Axes>"
            ],
            "image/png": "[encoded data removed]"
          },
          "metadata": {
            "needs_background": "light"
          }
        },
        {
          "output_type": "display_data",
          "data": {
            "text/plain": [
              "<Figure size 1500x1500 with 0 Axes>"
            ]
          },
          "metadata": {}
        },
        {
          "output_type": "display_data",
          "data": {
            "text/plain": [
              "<Figure size 432x288 with 2 Axes>"
            ],
            "image/png": "[encoded data removed]"
          },
          "metadata": {
            "needs_background": "light"
          }
        },
        {
          "output_type": "display_data",
          "data": {
            "text/plain": [
              "<Figure size 1500x1500 with 0 Axes>"
            ]
          },
          "metadata": {}
        },
        {
          "output_type": "display_data",
          "data": {
            "text/plain": [
              "<Figure size 432x288 with 2 Axes>"
            ],
            "image/png": "[encoded data removed]"
          },
          "metadata": {
            "needs_background": "light"
          }
        },
        {
          "output_type": "display_data",
          "data": {
            "text/plain": [
              "<Figure size 1500x1500 with 0 Axes>"
            ]
          },
          "metadata": {}
        },
        {
          "output_type": "display_data",
          "data": {
            "text/plain": [
              "<Figure size 432x288 with 2 Axes>"
            ],
            "image/png": "[encoded data removed]"
          },
          "metadata": {
            "needs_background": "light"
          }
        },
        {
          "output_type": "display_data",
          "data": {
            "text/plain": [
              "<Figure size 1500x1500 with 0 Axes>"
            ]
          },
          "metadata": {}
        },
        {
          "output_type": "display_data",
          "data": {
            "text/plain": [
              "<Figure size 432x288 with 2 Axes>"
            ],
            "image/png": "[encoded data removed]"
          },
          "metadata": {
            "needs_background": "light"
          }
        },
        {
          "output_type": "display_data",
          "data": {
            "text/plain": [
              "<Figure size 1500x1500 with 0 Axes>"
            ]
          },
          "metadata": {}
        },
        {
          "output_type": "display_data",
          "data": {
            "text/plain": [
              "<Figure size 432x288 with 2 Axes>"
            ],
            "image/png": "[encoded data removed]"
          },
          "metadata": {
            "needs_background": "light"
          }
        }
      ]
    },
    {
      "cell_type": "markdown",
      "metadata": {
        "id": "8Jng5Ksadkdp"
      },
      "source": [
        "# 4. Effectiveness of word2vec\n",
        "\n",
        "As an option, you may repeat one of the models above by modifying the code to use word2vec embedding for the input English sentences"
      ]
    },
    {
      "cell_type": "code",
      "metadata": {
        "collapsed": true,
        "id": "RWVVvgyudkdq"
      },
      "source": [
        "# Your code goes here"
      ],
      "execution_count": null,
      "outputs": []
    }
  ]
}